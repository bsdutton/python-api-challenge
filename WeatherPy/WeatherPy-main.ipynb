{
 "cells": [
  {
   "cell_type": "markdown",
   "metadata": {},
   "source": [
    "# WeatherPy\n",
    "----\n",
    "\n",
    "#### Note\n",
    "* Instructions have been included for each segment. You do not have to follow them exactly, but they are included to help you think through the steps."
   ]
  },
  {
   "cell_type": "code",
   "execution_count": 1,
   "metadata": {
    "scrolled": true
   },
   "outputs": [],
   "source": [
    "# Dependencies and Setup\n",
    "import matplotlib.pyplot as plt\n",
    "import pandas as pd\n",
    "import numpy as np\n",
    "import requests\n",
    "import time\n",
    "import json\n",
    "from scipy.stats import linregress\n",
    "from pprint import pprint\n",
    "import country_converter as coco\n",
    "from scipy import stats\n",
    "\n",
    "# Import API key\n",
    "from api_keys import weather_api_key\n",
    "\n",
    "# Incorporated citipy to determine city based on latitude and longitude\n",
    "from citipy import citipy\n",
    "\n",
    "# Output File (CSV)\n",
    "output_data_file = \"fresh_output_data/cities.csv\"\n",
    "\n",
    "# Range of latitudes and longitudes\n",
    "lat_range = (-90, 90)\n",
    "lng_range = (-180, 180)"
   ]
  },
  {
   "cell_type": "markdown",
   "metadata": {},
   "source": [
    "## Generate Cities List"
   ]
  },
  {
   "cell_type": "code",
   "execution_count": 2,
   "metadata": {},
   "outputs": [
    {
     "data": {
      "text/plain": [
       "642"
      ]
     },
     "execution_count": 2,
     "metadata": {},
     "output_type": "execute_result"
    }
   ],
   "source": [
    "# List for holding lat_lngs and cities\n",
    "lat_lngs = []\n",
    "cities = []\n",
    "\n",
    "# Create a set of random lat and lng combinations\n",
    "lats = np.random.uniform(lat_range[0], lat_range[1], size=1500)\n",
    "lngs = np.random.uniform(lng_range[0], lng_range[1], size=1500)\n",
    "lat_lngs = zip(lats, lngs)\n",
    "\n",
    "# Identify nearest city for each lat, lng combination\n",
    "for lat_lng in lat_lngs:\n",
    "    city = citipy.nearest_city(lat_lng[0], lat_lng[1]).city_name\n",
    "    \n",
    "    # If the city is unique, then add it to a our cities list\n",
    "    if city not in cities:\n",
    "        cities.append(city)\n",
    "\n",
    "# Print the city count to confirm sufficient count\n",
    "len(cities)"
   ]
  },
  {
   "cell_type": "markdown",
   "metadata": {},
   "source": [
    "### Perform API Calls\n",
    "* Perform a weather check on each city using a series of successive API calls.\n",
    "* Include a print log of each city as it'sbeing processed (with the city number and city name).\n"
   ]
  },
  {
   "cell_type": "code",
   "execution_count": 3,
   "metadata": {},
   "outputs": [],
   "source": [
    "# Build the query for the for-loop\n",
    "url = \"http://api.openweathermap.org/data/2.5/weather?\"\n",
    "units = \"imperial\"\n",
    "query_url = f\"{url}appid={weather_api_key}&units={units}&q=\"  \n",
    "\n"
   ]
  },
  {
   "cell_type": "code",
   "execution_count": 4,
   "metadata": {},
   "outputs": [],
   "source": [
    "# set up lists to hold reponse info\n",
    "lat = []\n",
    "long = []\n",
    "temp = []\n",
    "humid = []\n",
    "clouds = []\n",
    "winds = []\n",
    "city1 = []\n",
    "city2 = []\n",
    "max_temp = []\n",
    "country = []\n",
    "datetime = []\n",
    "print_request = []\n",
    "print_response = []\n",
    "print_dne = []"
   ]
  },
  {
   "cell_type": "code",
   "execution_count": 5,
   "metadata": {},
   "outputs": [],
   "source": [
    "# Loops work on smaller range.  Reset and empty list by running codeblock where they created.\n",
    "# Run loops and monitor print outputs."
   ]
  },
  {
   "cell_type": "code",
   "execution_count": 6,
   "metadata": {},
   "outputs": [
    {
     "name": "stdout",
     "output_type": "stream",
     "text": [
      "Request 0 sent for yellowknife.\n",
      "Response code 200 received for yellowknife.\n",
      "Request 1 sent for alausi.\n",
      "Response code 200 received for alausi.\n",
      "shakhrinau does not exist in OpenWeatherMap.\n",
      "Request 3 sent for jamestown.\n",
      "Response code 200 received for jamestown.\n",
      "Request 4 sent for foki.\n",
      "Response code 200 received for foki.\n",
      "Request 5 sent for hermanus.\n",
      "Response code 200 received for hermanus.\n",
      "Request 6 sent for ternate.\n",
      "Response code 200 received for ternate.\n",
      "Request 7 sent for avarua.\n",
      "Response code 200 received for avarua.\n",
      "Request 8 sent for dikson.\n",
      "Response code 200 received for dikson.\n",
      "Request 9 sent for leningradskiy.\n",
      "Response code 200 received for leningradskiy.\n",
      "Request 10 sent for thompson.\n",
      "Response code 200 received for thompson.\n",
      "Request 11 sent for berlevag.\n",
      "Response code 200 received for berlevag.\n",
      "Request 12 sent for jalu.\n",
      "Response code 200 received for jalu.\n",
      "maimon does not exist in OpenWeatherMap.\n",
      "Request 14 sent for svetlogorsk.\n",
      "Response code 200 received for svetlogorsk.\n",
      "Request 15 sent for buzmeyin.\n",
      "Response code 200 received for buzmeyin.\n",
      "Request 16 sent for acarau.\n",
      "Response code 200 received for acarau.\n",
      "Request 17 sent for rikitea.\n",
      "Response code 200 received for rikitea.\n",
      "Request 18 sent for nishihara.\n",
      "Response code 200 received for nishihara.\n",
      "belushya guba does not exist in OpenWeatherMap.\n",
      "Request 20 sent for barrow.\n",
      "Response code 200 received for barrow.\n",
      "Request 21 sent for carnarvon.\n",
      "Response code 200 received for carnarvon.\n",
      "Request 22 sent for albany.\n",
      "Response code 200 received for albany.\n",
      "Request 23 sent for segezha.\n",
      "Response code 200 received for segezha.\n",
      "Request 24 sent for portland.\n",
      "Response code 200 received for portland.\n",
      "ciras does not exist in OpenWeatherMap.\n",
      "Request 26 sent for vaini.\n",
      "Response code 200 received for vaini.\n",
      "Request 27 sent for puerto ayora.\n",
      "Response code 200 received for puerto ayora.\n",
      "Request 28 sent for ahmadpur sial.\n",
      "Response code 200 received for ahmadpur sial.\n",
      "Request 29 sent for grindavik.\n",
      "Response code 200 received for grindavik.\n",
      "Request 30 sent for busselton.\n",
      "Response code 200 received for busselton.\n",
      "Request 31 sent for najran.\n",
      "Response code 200 received for najran.\n",
      "Request 32 sent for lhokseumawe.\n",
      "Response code 200 received for lhokseumawe.\n",
      "Request 33 sent for ulaanbaatar.\n",
      "Response code 200 received for ulaanbaatar.\n",
      "Request 34 sent for ushuaia.\n",
      "Response code 200 received for ushuaia.\n",
      "Request 35 sent for kapaa.\n",
      "Response code 200 received for kapaa.\n",
      "Request 36 sent for butaritari.\n",
      "Response code 200 received for butaritari.\n",
      "Request 37 sent for san vicente.\n",
      "Response code 200 received for san vicente.\n",
      "okandja does not exist in OpenWeatherMap.\n",
      "marcona does not exist in OpenWeatherMap.\n",
      "Request 40 sent for port alfred.\n",
      "Response code 200 received for port alfred.\n",
      "Request 41 sent for general roca.\n",
      "Response code 200 received for general roca.\n",
      "Request 42 sent for victoria.\n",
      "Response code 200 received for victoria.\n",
      "Request 43 sent for san mateo del mar.\n",
      "Response code 200 received for san mateo del mar.\n",
      "Request 44 sent for camacha.\n",
      "Response code 200 received for camacha.\n",
      "Request 45 sent for sarab.\n",
      "Response code 200 received for sarab.\n",
      "Request 46 sent for atuona.\n",
      "Response code 200 received for atuona.\n",
      "Request 47 sent for north bend.\n",
      "Response code 200 received for north bend.\n",
      "Request 48 sent for chuy.\n",
      "Response code 200 received for chuy.\n",
      "Request 49 sent for sechura.\n",
      "Response code 200 received for sechura.\n",
      "Request 50 sent for shenjiamen.\n",
      "Response code 200 received for shenjiamen.\n",
      "Request 51 sent for faanui.\n",
      "Response code 200 received for faanui.\n",
      "Request 52 sent for ambon.\n",
      "Response code 200 received for ambon.\n",
      "Request 53 sent for cape town.\n",
      "Response code 200 received for cape town.\n",
      "Request 54 sent for upernavik.\n",
      "Response code 200 received for upernavik.\n",
      "Request 55 sent for hithadhoo.\n",
      "Response code 200 received for hithadhoo.\n",
      "satitoa does not exist in OpenWeatherMap.\n",
      "Request 57 sent for puerto del rosario.\n",
      "Response code 200 received for puerto del rosario.\n",
      "Request 58 sent for eureka.\n",
      "Response code 200 received for eureka.\n",
      "Request 59 sent for geraldton.\n",
      "Response code 200 received for geraldton.\n",
      "Request 60 sent for tuktoyaktuk.\n",
      "Response code 200 received for tuktoyaktuk.\n",
      "Request 61 sent for presidente epitacio.\n",
      "Response code 200 received for presidente epitacio.\n",
      "Request 62 sent for santa cruz.\n",
      "Response code 200 received for santa cruz.\n",
      "Request 63 sent for waipawa.\n",
      "Response code 200 received for waipawa.\n",
      "kazalinsk does not exist in OpenWeatherMap.\n",
      "Request 65 sent for bilibino.\n",
      "Response code 200 received for bilibino.\n",
      "Request 66 sent for chama.\n",
      "Response code 200 received for chama.\n",
      "Request 67 sent for latung.\n",
      "Response code 200 received for latung.\n",
      "Request 68 sent for kerema.\n",
      "Response code 200 received for kerema.\n",
      "Request 69 sent for touros.\n",
      "Response code 200 received for touros.\n",
      "Request 70 sent for bethel.\n",
      "Response code 200 received for bethel.\n",
      "Request 71 sent for longyearbyen.\n",
      "Response code 200 received for longyearbyen.\n",
      "Request 72 sent for souillac.\n",
      "Response code 200 received for souillac.\n",
      "Request 73 sent for skovorodino.\n",
      "Response code 200 received for skovorodino.\n",
      "Request 74 sent for adrar.\n",
      "Response code 200 received for adrar.\n",
      "Request 75 sent for constitucion.\n",
      "Response code 200 received for constitucion.\n",
      "Request 76 sent for tezu.\n",
      "Response code 200 received for tezu.\n",
      "Request 77 sent for udachnyy.\n",
      "Response code 200 received for udachnyy.\n",
      "Request 78 sent for khatanga.\n",
      "Response code 200 received for khatanga.\n",
      "Request 79 sent for mataura.\n",
      "Response code 200 received for mataura.\n",
      "Request 80 sent for tazovskiy.\n",
      "Response code 200 received for tazovskiy.\n",
      "Request 81 sent for mantua.\n",
      "Response code 200 received for mantua.\n",
      "ksenyevka does not exist in OpenWeatherMap.\n",
      "Request 83 sent for husavik.\n",
      "Response code 200 received for husavik.\n",
      "Request 84 sent for badvel.\n",
      "Response code 200 received for badvel.\n",
      "Request 85 sent for severo-kurilsk.\n",
      "Response code 200 received for severo-kurilsk.\n",
      "Request 86 sent for tasiilaq.\n",
      "Response code 200 received for tasiilaq.\n",
      "illoqqortoormiut does not exist in OpenWeatherMap.\n",
      "Request 88 sent for borgustanskaya.\n",
      "Response code 200 received for borgustanskaya.\n",
      "Request 89 sent for korla.\n",
      "Response code 200 received for korla.\n",
      "Request 90 sent for mathathane.\n",
      "Response code 200 received for mathathane.\n",
      "Request 91 sent for sereflikochisar.\n",
      "Response code 200 received for sereflikochisar.\n",
      "Request 92 sent for tuatapere.\n",
      "Response code 200 received for tuatapere.\n",
      "amderma does not exist in OpenWeatherMap.\n",
      "Request 94 sent for yanliang.\n",
      "Response code 200 received for yanliang.\n",
      "Request 95 sent for bulgan.\n",
      "Response code 200 received for bulgan.\n",
      "Request 96 sent for burla.\n",
      "Response code 200 received for burla.\n",
      "Request 97 sent for lexington park.\n",
      "Response code 200 received for lexington park.\n",
      "Request 98 sent for abilene.\n",
      "Response code 200 received for abilene.\n",
      "Request 99 sent for kalakamati.\n",
      "Response code 200 received for kalakamati.\n",
      "Request 100 sent for arraial do cabo.\n",
      "Response code 200 received for arraial do cabo.\n",
      "Request 101 sent for shahreza.\n",
      "Response code 200 received for shahreza.\n",
      "Request 102 sent for ancud.\n",
      "Response code 200 received for ancud.\n",
      "Request 103 sent for qaanaaq.\n",
      "Response code 200 received for qaanaaq.\n",
      "hendijan does not exist in OpenWeatherMap.\n",
      "Request 105 sent for paita.\n",
      "Response code 200 received for paita.\n",
      "Request 106 sent for punta arenas.\n",
      "Response code 200 received for punta arenas.\n",
      "Request 107 sent for nikolskoye.\n",
      "Response code 200 received for nikolskoye.\n",
      "Request 108 sent for kloulklubed.\n",
      "Response code 200 received for kloulklubed.\n",
      "Request 109 sent for gizo.\n",
      "Response code 200 received for gizo.\n",
      "Request 110 sent for gordeyevka.\n",
      "Response code 200 received for gordeyevka.\n",
      "Request 111 sent for tiksi.\n",
      "Response code 200 received for tiksi.\n",
      "Request 112 sent for lasa.\n",
      "Response code 200 received for lasa.\n",
      "Request 113 sent for jijiga.\n",
      "Response code 200 received for jijiga.\n",
      "Request 114 sent for sitka.\n",
      "Response code 200 received for sitka.\n",
      "uk does not exist in OpenWeatherMap.\n",
      "Request 116 sent for alofi.\n",
      "Response code 200 received for alofi.\n",
      "Request 117 sent for batabano.\n",
      "Response code 200 received for batabano.\n",
      "Request 118 sent for harper.\n",
      "Response code 200 received for harper.\n",
      "Request 119 sent for muli.\n",
      "Response code 200 received for muli.\n"
     ]
    },
    {
     "name": "stdout",
     "output_type": "stream",
     "text": [
      "Request 120 sent for gweru.\n",
      "Response code 200 received for gweru.\n",
      "Request 121 sent for teguldet.\n",
      "Response code 200 received for teguldet.\n",
      "candawaga does not exist in OpenWeatherMap.\n",
      "Request 123 sent for kaitangata.\n",
      "Response code 200 received for kaitangata.\n",
      "Request 124 sent for nanortalik.\n",
      "Response code 200 received for nanortalik.\n",
      "samusu does not exist in OpenWeatherMap.\n",
      "Request 126 sent for chapais.\n",
      "Response code 200 received for chapais.\n",
      "Request 127 sent for melbu.\n",
      "Response code 200 received for melbu.\n",
      "Request 128 sent for pampa.\n",
      "Response code 200 received for pampa.\n",
      "Request 129 sent for kavieng.\n",
      "Response code 200 received for kavieng.\n",
      "Request 130 sent for kyra.\n",
      "Response code 200 received for kyra.\n",
      "Request 131 sent for santa fe.\n",
      "Response code 200 received for santa fe.\n",
      "Request 132 sent for sao filipe.\n",
      "Response code 200 received for sao filipe.\n",
      "Request 133 sent for cotonou.\n",
      "Response code 200 received for cotonou.\n",
      "barentsburg does not exist in OpenWeatherMap.\n",
      "Request 135 sent for angoram.\n",
      "Response code 200 received for angoram.\n",
      "Request 136 sent for okhotsk.\n",
      "Response code 200 received for okhotsk.\n",
      "Request 137 sent for new norfolk.\n",
      "Response code 200 received for new norfolk.\n",
      "Request 138 sent for ostrovnoy.\n",
      "Response code 200 received for ostrovnoy.\n",
      "taolanaro does not exist in OpenWeatherMap.\n",
      "Request 140 sent for san jose.\n",
      "Response code 200 received for san jose.\n",
      "Request 141 sent for ponta do sol.\n",
      "Response code 200 received for ponta do sol.\n",
      "Request 142 sent for ossora.\n",
      "Response code 200 received for ossora.\n",
      "Request 143 sent for airai.\n",
      "Response code 200 received for airai.\n",
      "Request 144 sent for cedar city.\n",
      "Response code 200 received for cedar city.\n",
      "Request 145 sent for ribeira grande.\n",
      "Response code 200 received for ribeira grande.\n",
      "Request 146 sent for castro.\n",
      "Response code 200 received for castro.\n",
      "Request 147 sent for hilo.\n",
      "Response code 200 received for hilo.\n",
      "vaitupu does not exist in OpenWeatherMap.\n",
      "Request 149 sent for lompoc.\n",
      "Response code 200 received for lompoc.\n",
      "Request 150 sent for karratha.\n",
      "Response code 200 received for karratha.\n",
      "Request 151 sent for kumluca.\n",
      "Response code 200 received for kumluca.\n",
      "Request 152 sent for mar del plata.\n",
      "Response code 200 received for mar del plata.\n",
      "sataua does not exist in OpenWeatherMap.\n",
      "Request 154 sent for bredasdorp.\n",
      "Response code 200 received for bredasdorp.\n",
      "Request 155 sent for bonfim.\n",
      "Response code 200 received for bonfim.\n",
      "Request 156 sent for morgan city.\n",
      "Response code 200 received for morgan city.\n",
      "Request 157 sent for dodge city.\n",
      "Response code 200 received for dodge city.\n",
      "Request 158 sent for chokurdakh.\n",
      "Response code 200 received for chokurdakh.\n",
      "Request 159 sent for pochutla.\n",
      "Response code 200 received for pochutla.\n",
      "Request 160 sent for lata.\n",
      "Response code 200 received for lata.\n",
      "tsihombe does not exist in OpenWeatherMap.\n",
      "Request 162 sent for vila.\n",
      "Response code 200 received for vila.\n",
      "Request 163 sent for beatrice.\n",
      "Response code 200 received for beatrice.\n",
      "Request 164 sent for the valley.\n",
      "Response code 200 received for the valley.\n",
      "Request 165 sent for longview.\n",
      "Response code 200 received for longview.\n",
      "Request 166 sent for imeni poliny osipenko.\n",
      "Response code 200 received for imeni poliny osipenko.\n",
      "Request 167 sent for isangel.\n",
      "Response code 200 received for isangel.\n",
      "Request 168 sent for tautira.\n",
      "Response code 200 received for tautira.\n",
      "Request 169 sent for pevek.\n",
      "Response code 200 received for pevek.\n",
      "Request 170 sent for powell river.\n",
      "Response code 200 received for powell river.\n",
      "Request 171 sent for pacific grove.\n",
      "Response code 200 received for pacific grove.\n",
      "Request 172 sent for banda aceh.\n",
      "Response code 200 received for banda aceh.\n",
      "Request 173 sent for qui nhon.\n",
      "Response code 200 received for qui nhon.\n",
      "Request 174 sent for marzuq.\n",
      "Response code 200 received for marzuq.\n",
      "Request 175 sent for aviles.\n",
      "Response code 200 received for aviles.\n",
      "Request 176 sent for luderitz.\n",
      "Response code 200 received for luderitz.\n",
      "Request 177 sent for assis.\n",
      "Response code 200 received for assis.\n",
      "Request 178 sent for lamar.\n",
      "Response code 200 received for lamar.\n",
      "Request 179 sent for bluff.\n",
      "Response code 200 received for bluff.\n",
      "Request 180 sent for los llanos de aridane.\n",
      "Response code 200 received for los llanos de aridane.\n",
      "Request 181 sent for fare.\n",
      "Response code 200 received for fare.\n",
      "Request 182 sent for norman wells.\n",
      "Response code 200 received for norman wells.\n",
      "Request 183 sent for taoudenni.\n",
      "Response code 200 received for taoudenni.\n",
      "Request 184 sent for carpentras.\n",
      "Response code 200 received for carpentras.\n",
      "Request 185 sent for puri.\n",
      "Response code 200 received for puri.\n",
      "Request 186 sent for gariadhar.\n",
      "Response code 200 received for gariadhar.\n",
      "Request 187 sent for bonthe.\n",
      "Response code 200 received for bonthe.\n",
      "Request 188 sent for nouadhibou.\n",
      "Response code 200 received for nouadhibou.\n",
      "Request 189 sent for codrington.\n",
      "Response code 200 received for codrington.\n",
      "Request 190 sent for esperance.\n",
      "Response code 200 received for esperance.\n",
      "Request 191 sent for taltal.\n",
      "Response code 200 received for taltal.\n",
      "Request 192 sent for east foothills.\n",
      "Response code 200 received for east foothills.\n",
      "Request 193 sent for provideniya.\n",
      "Response code 200 received for provideniya.\n",
      "mys shmidta does not exist in OpenWeatherMap.\n",
      "Request 195 sent for esqueda.\n",
      "Response code 200 received for esqueda.\n",
      "Request 196 sent for hobyo.\n",
      "Response code 200 received for hobyo.\n",
      "lolua does not exist in OpenWeatherMap.\n",
      "Request 198 sent for hobart.\n",
      "Response code 200 received for hobart.\n",
      "Request 199 sent for biak.\n",
      "Response code 200 received for biak.\n",
      "Request 200 sent for yar-sale.\n",
      "Response code 200 received for yar-sale.\n",
      "Request 201 sent for saint-philippe.\n",
      "Response code 200 received for saint-philippe.\n",
      "Request 202 sent for georgetown.\n",
      "Response code 200 received for georgetown.\n",
      "Request 203 sent for dhidhdhoo.\n",
      "Response code 200 received for dhidhdhoo.\n",
      "Request 204 sent for grand-santi.\n",
      "Response code 200 received for grand-santi.\n",
      "Request 205 sent for kayerkan.\n",
      "Response code 200 received for kayerkan.\n",
      "Request 206 sent for veraval.\n",
      "Response code 200 received for veraval.\n",
      "Request 207 sent for neuquen.\n",
      "Response code 200 received for neuquen.\n",
      "Request 208 sent for ahipara.\n",
      "Response code 200 received for ahipara.\n",
      "saleaula does not exist in OpenWeatherMap.\n",
      "Request 210 sent for shimoda.\n",
      "Response code 200 received for shimoda.\n",
      "Request 211 sent for tabas.\n",
      "Response code 200 received for tabas.\n",
      "Request 212 sent for kauhajoki.\n",
      "Response code 200 received for kauhajoki.\n",
      "Request 213 sent for biled.\n",
      "Response code 200 received for biled.\n",
      "Request 214 sent for tobol.\n",
      "Response code 200 received for tobol.\n",
      "Request 215 sent for bilma.\n",
      "Response code 200 received for bilma.\n",
      "Request 216 sent for port-gentil.\n",
      "Response code 200 received for port-gentil.\n",
      "samalaeulu does not exist in OpenWeatherMap.\n",
      "Request 218 sent for mwinilunga.\n",
      "Response code 200 received for mwinilunga.\n",
      "Request 219 sent for goderich.\n",
      "Response code 200 received for goderich.\n",
      "Request 220 sent for knysna.\n",
      "Response code 200 received for knysna.\n",
      "Request 221 sent for sao lourenco do sul.\n",
      "Response code 200 received for sao lourenco do sul.\n",
      "Request 222 sent for sao jose da coroa grande.\n",
      "Response code 200 received for sao jose da coroa grande.\n",
      "Request 223 sent for flinders.\n",
      "Response code 200 received for flinders.\n",
      "Request 224 sent for ponta delgada.\n",
      "Response code 200 received for ponta delgada.\n",
      "Request 225 sent for iqaluit.\n",
      "Response code 200 received for iqaluit.\n",
      "Request 226 sent for port shepstone.\n",
      "Response code 200 received for port shepstone.\n",
      "Request 227 sent for nieuw nickerie.\n",
      "Response code 200 received for nieuw nickerie.\n",
      "Request 228 sent for zeya.\n",
      "Response code 200 received for zeya.\n",
      "Request 229 sent for antofagasta.\n",
      "Response code 200 received for antofagasta.\n",
      "Request 230 sent for rancho veloz.\n",
      "Response code 200 received for rancho veloz.\n",
      "Request 231 sent for byron bay.\n",
      "Response code 200 received for byron bay.\n",
      "Request 232 sent for saskylakh.\n",
      "Response code 200 received for saskylakh.\n",
      "Request 233 sent for ganzhou.\n",
      "Response code 200 received for ganzhou.\n",
      "Request 234 sent for oussouye.\n",
      "Response code 200 received for oussouye.\n",
      "Request 235 sent for russell.\n",
      "Response code 200 received for russell.\n",
      "Request 236 sent for saint george.\n",
      "Response code 200 received for saint george.\n"
     ]
    },
    {
     "name": "stdout",
     "output_type": "stream",
     "text": [
      "Request 237 sent for cayenne.\n",
      "Response code 200 received for cayenne.\n",
      "Request 238 sent for la ronge.\n",
      "Response code 200 received for la ronge.\n",
      "Request 239 sent for okato.\n",
      "Response code 200 received for okato.\n",
      "Request 240 sent for talnakh.\n",
      "Response code 200 received for talnakh.\n",
      "Request 241 sent for aldan.\n",
      "Response code 200 received for aldan.\n",
      "Request 242 sent for east london.\n",
      "Response code 200 received for east london.\n",
      "Request 243 sent for kota kinabalu.\n",
      "Response code 200 received for kota kinabalu.\n",
      "Request 244 sent for luis correia.\n",
      "Response code 200 received for luis correia.\n",
      "Request 245 sent for tevriz.\n",
      "Response code 200 received for tevriz.\n",
      "Request 246 sent for san patricio.\n",
      "Response code 200 received for san patricio.\n",
      "Request 247 sent for tadine.\n",
      "Response code 200 received for tadine.\n",
      "Request 248 sent for scottsbluff.\n",
      "Response code 200 received for scottsbluff.\n",
      "kegayli does not exist in OpenWeatherMap.\n",
      "sentyabrskiy does not exist in OpenWeatherMap.\n",
      "Request 251 sent for tilichiki.\n",
      "Response code 200 received for tilichiki.\n",
      "Request 252 sent for abnub.\n",
      "Response code 200 received for abnub.\n",
      "Request 253 sent for bang saphan.\n",
      "Response code 200 received for bang saphan.\n",
      "Request 254 sent for salta.\n",
      "Response code 200 received for salta.\n",
      "Request 255 sent for topi.\n",
      "Response code 200 received for topi.\n",
      "Request 256 sent for opuwo.\n",
      "Response code 200 received for opuwo.\n",
      "Request 257 sent for tura.\n",
      "Response code 200 received for tura.\n",
      "Request 258 sent for torbay.\n",
      "Response code 200 received for torbay.\n",
      "Request 259 sent for creel.\n",
      "Response code 200 received for creel.\n",
      "Request 260 sent for broome.\n",
      "Response code 200 received for broome.\n",
      "Request 261 sent for garachine.\n",
      "Response code 200 received for garachine.\n",
      "Request 262 sent for lavrentiya.\n",
      "Response code 200 received for lavrentiya.\n",
      "Request 263 sent for hvide sande.\n",
      "Response code 200 received for hvide sande.\n",
      "Request 264 sent for mount isa.\n",
      "Response code 200 received for mount isa.\n",
      "Request 265 sent for vestmannaeyjar.\n",
      "Response code 200 received for vestmannaeyjar.\n",
      "Request 266 sent for marawi.\n",
      "Response code 200 received for marawi.\n",
      "Request 267 sent for altar.\n",
      "Response code 200 received for altar.\n",
      "Request 268 sent for pangai.\n",
      "Response code 200 received for pangai.\n",
      "Request 269 sent for san cristobal.\n",
      "Response code 200 received for san cristobal.\n",
      "Request 270 sent for deep river.\n",
      "Response code 200 received for deep river.\n",
      "phan rang does not exist in OpenWeatherMap.\n",
      "Request 272 sent for dingle.\n",
      "Response code 200 received for dingle.\n",
      "Request 273 sent for waconia.\n",
      "Response code 200 received for waconia.\n",
      "Request 274 sent for bundaberg.\n",
      "Response code 200 received for bundaberg.\n",
      "Request 275 sent for bengkulu.\n",
      "Response code 200 received for bengkulu.\n",
      "Request 276 sent for sao miguel do araguaia.\n",
      "Response code 200 received for sao miguel do araguaia.\n",
      "Request 277 sent for otawara.\n",
      "Response code 200 received for otawara.\n",
      "Request 278 sent for bambous virieux.\n",
      "Response code 200 received for bambous virieux.\n",
      "Request 279 sent for lebu.\n",
      "Response code 200 received for lebu.\n",
      "Request 280 sent for seidu.\n",
      "Response code 200 received for seidu.\n",
      "Request 281 sent for omboue.\n",
      "Response code 200 received for omboue.\n",
      "Request 282 sent for vestmanna.\n",
      "Response code 200 received for vestmanna.\n",
      "Request 283 sent for port elizabeth.\n",
      "Response code 200 received for port elizabeth.\n",
      "Request 284 sent for vostok.\n",
      "Response code 200 received for vostok.\n",
      "Request 285 sent for asau.\n",
      "Response code 200 received for asau.\n",
      "Request 286 sent for thinadhoo.\n",
      "Response code 200 received for thinadhoo.\n",
      "Request 287 sent for san rafael.\n",
      "Response code 200 received for san rafael.\n",
      "Request 288 sent for neftcala.\n",
      "Response code 200 received for neftcala.\n",
      "Request 289 sent for san carlos de bariloche.\n",
      "Response code 200 received for san carlos de bariloche.\n",
      "ust-kamchatsk does not exist in OpenWeatherMap.\n",
      "Request 291 sent for cabo san lucas.\n",
      "Response code 200 received for cabo san lucas.\n",
      "Request 292 sent for erenhot.\n",
      "Response code 200 received for erenhot.\n",
      "Request 293 sent for ust-tsilma.\n",
      "Response code 200 received for ust-tsilma.\n",
      "Request 294 sent for pietarsaari.\n",
      "Response code 200 received for pietarsaari.\n",
      "Request 295 sent for gornopravdinsk.\n",
      "Response code 200 received for gornopravdinsk.\n",
      "Request 296 sent for cherskiy.\n",
      "Response code 200 received for cherskiy.\n",
      "Request 297 sent for trelleborg.\n",
      "Response code 200 received for trelleborg.\n",
      "Request 298 sent for balkanabat.\n",
      "Response code 200 received for balkanabat.\n",
      "Request 299 sent for vardo.\n",
      "Response code 200 received for vardo.\n",
      "Request 300 sent for uvinza.\n",
      "Response code 200 received for uvinza.\n",
      "Request 301 sent for molochnoye.\n",
      "Response code 200 received for molochnoye.\n",
      "Request 302 sent for colares.\n",
      "Response code 200 received for colares.\n",
      "Request 303 sent for port lincoln.\n",
      "Response code 200 received for port lincoln.\n",
      "Request 304 sent for kulhudhuffushi.\n",
      "Response code 200 received for kulhudhuffushi.\n",
      "Request 305 sent for merrill.\n",
      "Response code 200 received for merrill.\n",
      "Request 306 sent for eyrarbakki.\n",
      "Response code 200 received for eyrarbakki.\n",
      "Request 307 sent for dunedin.\n",
      "Response code 200 received for dunedin.\n",
      "Request 308 sent for bima.\n",
      "Response code 200 received for bima.\n",
      "Request 309 sent for dauphin.\n",
      "Response code 200 received for dauphin.\n",
      "nizhneyansk does not exist in OpenWeatherMap.\n",
      "Request 311 sent for caravelas.\n",
      "Response code 200 received for caravelas.\n",
      "grande-riviere does not exist in OpenWeatherMap.\n",
      "Request 313 sent for el tumbador.\n",
      "Response code 200 received for el tumbador.\n",
      "Request 314 sent for rize.\n",
      "Response code 200 received for rize.\n",
      "Request 315 sent for zabaykalsk.\n",
      "Response code 200 received for zabaykalsk.\n",
      "Request 316 sent for turriff.\n",
      "Response code 200 received for turriff.\n",
      "Request 317 sent for tiznit.\n",
      "Response code 200 received for tiznit.\n",
      "Request 318 sent for hasaki.\n",
      "Response code 200 received for hasaki.\n",
      "Request 319 sent for cidreira.\n",
      "Response code 200 received for cidreira.\n",
      "Request 320 sent for narsaq.\n",
      "Response code 200 received for narsaq.\n",
      "Request 321 sent for trofors.\n",
      "Response code 200 received for trofors.\n",
      "Request 322 sent for port hedland.\n",
      "Response code 200 received for port hedland.\n",
      "Request 323 sent for qaqortoq.\n",
      "Response code 200 received for qaqortoq.\n",
      "Request 324 sent for negara.\n",
      "Response code 200 received for negara.\n",
      "Request 325 sent for zhigansk.\n",
      "Response code 200 received for zhigansk.\n",
      "Request 326 sent for aqtobe.\n",
      "Response code 200 received for aqtobe.\n",
      "Request 327 sent for ulladulla.\n",
      "Response code 200 received for ulladulla.\n",
      "Request 328 sent for joshimath.\n",
      "Response code 200 received for joshimath.\n",
      "Request 329 sent for soyo.\n",
      "Response code 200 received for soyo.\n",
      "Request 330 sent for puerto escondido.\n",
      "Response code 200 received for puerto escondido.\n",
      "Request 331 sent for yerbogachen.\n",
      "Response code 200 received for yerbogachen.\n",
      "Request 332 sent for ilulissat.\n",
      "Response code 200 received for ilulissat.\n",
      "Request 333 sent for clifton springs.\n",
      "Response code 200 received for clifton springs.\n",
      "Request 334 sent for okha.\n",
      "Response code 200 received for okha.\n",
      "Request 335 sent for deputatskiy.\n",
      "Response code 200 received for deputatskiy.\n",
      "Request 336 sent for faya.\n",
      "Response code 200 received for faya.\n",
      "Request 337 sent for baykalovo.\n",
      "Response code 200 received for baykalovo.\n",
      "Request 338 sent for mehamn.\n",
      "Response code 200 received for mehamn.\n",
      "Request 339 sent for petrov val.\n",
      "Response code 200 received for petrov val.\n",
      "Request 340 sent for steamboat springs.\n",
      "Response code 200 received for steamboat springs.\n",
      "Request 341 sent for san andres.\n",
      "Response code 200 received for san andres.\n",
      "crab hill does not exist in OpenWeatherMap.\n",
      "Request 343 sent for luanda.\n",
      "Response code 200 received for luanda.\n",
      "Request 344 sent for uray.\n",
      "Response code 200 received for uray.\n",
      "Request 345 sent for shar.\n",
      "Response code 200 received for shar.\n",
      "Request 346 sent for kirakira.\n",
      "Response code 200 received for kirakira.\n",
      "Request 347 sent for kodiak.\n",
      "Response code 200 received for kodiak.\n",
      "Request 348 sent for kruisfontein.\n",
      "Response code 200 received for kruisfontein.\n",
      "Request 349 sent for mikhaylovskoye.\n",
      "Response code 200 received for mikhaylovskoye.\n",
      "Request 350 sent for yinchuan.\n",
      "Response code 200 received for yinchuan.\n",
      "Request 351 sent for petropavlovsk-kamchatskiy.\n",
      "Response code 200 received for petropavlovsk-kamchatskiy.\n",
      "Request 352 sent for pisco.\n",
      "Response code 200 received for pisco.\n"
     ]
    },
    {
     "name": "stdout",
     "output_type": "stream",
     "text": [
      "Request 353 sent for sakakah.\n",
      "Response code 200 received for sakakah.\n",
      "Request 354 sent for njeru.\n",
      "Response code 200 received for njeru.\n",
      "bolungarvik does not exist in OpenWeatherMap.\n",
      "Request 356 sent for bandarbeyla.\n",
      "Response code 200 received for bandarbeyla.\n",
      "Request 357 sent for beira.\n",
      "Response code 200 received for beira.\n",
      "Request 358 sent for clyde river.\n",
      "Response code 200 received for clyde river.\n",
      "Request 359 sent for umm kaddadah.\n",
      "Response code 200 received for umm kaddadah.\n",
      "Request 360 sent for zhangjiakou.\n",
      "Response code 200 received for zhangjiakou.\n",
      "Request 361 sent for kongolo.\n",
      "Response code 200 received for kongolo.\n",
      "Request 362 sent for arrifes.\n",
      "Response code 200 received for arrifes.\n",
      "Request 363 sent for kahului.\n",
      "Response code 200 received for kahului.\n",
      "Request 364 sent for klaksvik.\n",
      "Response code 200 received for klaksvik.\n",
      "Request 365 sent for algiers.\n",
      "Response code 200 received for algiers.\n",
      "Request 366 sent for juneau.\n",
      "Response code 200 received for juneau.\n",
      "Request 367 sent for sao felix do xingu.\n",
      "Response code 200 received for sao felix do xingu.\n",
      "Request 368 sent for cruzeiro do sul.\n",
      "Response code 200 received for cruzeiro do sul.\n",
      "viligili does not exist in OpenWeatherMap.\n",
      "Request 370 sent for katsuura.\n",
      "Response code 200 received for katsuura.\n",
      "Request 371 sent for nurota.\n",
      "Response code 200 received for nurota.\n",
      "Request 372 sent for tiberias.\n",
      "Response code 200 received for tiberias.\n",
      "Request 373 sent for garden city.\n",
      "Response code 200 received for garden city.\n",
      "Request 374 sent for mahebourg.\n",
      "Response code 200 received for mahebourg.\n",
      "Request 375 sent for sorochinsk.\n",
      "Response code 200 received for sorochinsk.\n",
      "Request 376 sent for prince rupert.\n",
      "Response code 200 received for prince rupert.\n",
      "tambul does not exist in OpenWeatherMap.\n",
      "Request 378 sent for comodoro rivadavia.\n",
      "Response code 200 received for comodoro rivadavia.\n",
      "Request 379 sent for shitanjing.\n",
      "Response code 200 received for shitanjing.\n",
      "Request 380 sent for avera.\n",
      "Response code 200 received for avera.\n",
      "Request 381 sent for saint anthony.\n",
      "Response code 200 received for saint anthony.\n",
      "Request 382 sent for salalah.\n",
      "Response code 200 received for salalah.\n",
      "Request 383 sent for hambantota.\n",
      "Response code 200 received for hambantota.\n",
      "Request 384 sent for yumen.\n",
      "Response code 200 received for yumen.\n",
      "Request 385 sent for saryg-sep.\n",
      "Response code 200 received for saryg-sep.\n",
      "Request 386 sent for guerrero negro.\n",
      "Response code 200 received for guerrero negro.\n",
      "Request 387 sent for galveston.\n",
      "Response code 200 received for galveston.\n",
      "Request 388 sent for saldanha.\n",
      "Response code 200 received for saldanha.\n",
      "Request 389 sent for shymkent.\n",
      "Response code 200 received for shymkent.\n",
      "Request 390 sent for necochea.\n",
      "Response code 200 received for necochea.\n",
      "Request 391 sent for sungairaya.\n",
      "Response code 200 received for sungairaya.\n",
      "Request 392 sent for altrincham.\n",
      "Response code 200 received for altrincham.\n",
      "Request 393 sent for tucuman.\n",
      "Response code 200 received for tucuman.\n",
      "Request 394 sent for tankhoy.\n",
      "Response code 200 received for tankhoy.\n",
      "Request 395 sent for cairns.\n",
      "Response code 200 received for cairns.\n",
      "Request 396 sent for waverley.\n",
      "Response code 200 received for waverley.\n",
      "Request 397 sent for keningau.\n",
      "Response code 200 received for keningau.\n",
      "Request 398 sent for kropotkin.\n",
      "Response code 200 received for kropotkin.\n",
      "Request 399 sent for morrope.\n",
      "Response code 200 received for morrope.\n",
      "Request 400 sent for rocha.\n",
      "Response code 200 received for rocha.\n",
      "Request 401 sent for boyolangu.\n",
      "Response code 200 received for boyolangu.\n",
      "Request 402 sent for amberley.\n",
      "Response code 200 received for amberley.\n",
      "barawe does not exist in OpenWeatherMap.\n",
      "Request 404 sent for villarrica.\n",
      "Response code 200 received for villarrica.\n",
      "buqayq does not exist in OpenWeatherMap.\n",
      "Request 406 sent for west wendover.\n",
      "Response code 200 received for west wendover.\n",
      "Request 407 sent for rawson.\n",
      "Response code 200 received for rawson.\n",
      "Request 408 sent for katangli.\n",
      "Response code 200 received for katangli.\n",
      "Request 409 sent for egvekinot.\n",
      "Response code 200 received for egvekinot.\n",
      "Request 410 sent for margate.\n",
      "Response code 200 received for margate.\n",
      "Request 411 sent for felanitx.\n",
      "Response code 200 received for felanitx.\n",
      "Request 412 sent for chengde.\n",
      "Response code 200 received for chengde.\n",
      "Request 413 sent for diffa.\n",
      "Response code 200 received for diffa.\n",
      "Request 414 sent for jardim.\n",
      "Response code 200 received for jardim.\n",
      "Request 415 sent for caucaia.\n",
      "Response code 200 received for caucaia.\n",
      "Request 416 sent for banes.\n",
      "Response code 200 received for banes.\n",
      "Request 417 sent for abu kamal.\n",
      "Response code 200 received for abu kamal.\n",
      "Request 418 sent for maba.\n",
      "Response code 200 received for maba.\n",
      "Request 419 sent for nanakuli.\n",
      "Response code 200 received for nanakuli.\n",
      "Request 420 sent for vila franca do campo.\n",
      "Response code 200 received for vila franca do campo.\n",
      "Request 421 sent for bairiki.\n",
      "Response code 200 received for bairiki.\n",
      "Request 422 sent for zheleznodorozhnyy.\n",
      "Response code 200 received for zheleznodorozhnyy.\n",
      "Request 423 sent for abadiania.\n",
      "Response code 200 received for abadiania.\n",
      "Request 424 sent for makakilo city.\n",
      "Response code 200 received for makakilo city.\n",
      "Request 425 sent for bealanana.\n",
      "Response code 200 received for bealanana.\n",
      "Request 426 sent for mwene-ditu.\n",
      "Response code 200 received for mwene-ditu.\n",
      "Request 427 sent for jarinu.\n",
      "Response code 200 received for jarinu.\n",
      "Request 428 sent for padang.\n",
      "Response code 200 received for padang.\n",
      "Request 429 sent for vanavara.\n",
      "Response code 200 received for vanavara.\n",
      "Request 430 sent for elmira.\n",
      "Response code 200 received for elmira.\n",
      "Request 431 sent for porto novo.\n",
      "Response code 200 received for porto novo.\n",
      "Request 432 sent for sinnamary.\n",
      "Response code 200 received for sinnamary.\n",
      "Request 433 sent for aripuana.\n",
      "Response code 200 received for aripuana.\n",
      "Request 434 sent for anloga.\n",
      "Response code 200 received for anloga.\n",
      "Request 435 sent for progress.\n",
      "Response code 200 received for progress.\n",
      "Request 436 sent for mocuba.\n",
      "Response code 200 received for mocuba.\n",
      "Request 437 sent for brae.\n",
      "Response code 200 received for brae.\n",
      "Request 438 sent for fairbanks.\n",
      "Response code 200 received for fairbanks.\n",
      "Request 439 sent for mitchell.\n",
      "Response code 200 received for mitchell.\n",
      "Request 440 sent for pabrade.\n",
      "Response code 200 received for pabrade.\n",
      "Request 441 sent for huarmey.\n",
      "Response code 200 received for huarmey.\n",
      "Request 442 sent for muros.\n",
      "Response code 200 received for muros.\n",
      "aflu does not exist in OpenWeatherMap.\n",
      "Request 444 sent for palitana.\n",
      "Response code 200 received for palitana.\n",
      "Request 445 sent for vao.\n",
      "Response code 200 received for vao.\n",
      "Request 446 sent for tres picos.\n",
      "Response code 200 received for tres picos.\n",
      "Request 447 sent for wana.\n",
      "Response code 200 received for wana.\n",
      "Request 448 sent for sembe.\n",
      "Response code 200 received for sembe.\n",
      "Request 449 sent for albufeira.\n",
      "Response code 200 received for albufeira.\n",
      "Request 450 sent for liverpool.\n",
      "Response code 200 received for liverpool.\n",
      "nguiu does not exist in OpenWeatherMap.\n",
      "Request 452 sent for bushenyi.\n",
      "Response code 200 received for bushenyi.\n",
      "Request 453 sent for mugumu.\n",
      "Response code 200 received for mugumu.\n",
      "Request 454 sent for wad rawah.\n",
      "Response code 200 received for wad rawah.\n",
      "Request 455 sent for waitara.\n",
      "Response code 200 received for waitara.\n",
      "Request 456 sent for whitehorse.\n",
      "Response code 200 received for whitehorse.\n",
      "Request 457 sent for noumea.\n",
      "Response code 200 received for noumea.\n",
      "Request 458 sent for dabakala.\n",
      "Response code 200 received for dabakala.\n",
      "Request 459 sent for havre-saint-pierre.\n",
      "Response code 200 received for havre-saint-pierre.\n",
      "Request 460 sent for moron.\n",
      "Response code 200 received for moron.\n",
      "Request 461 sent for lagoa.\n",
      "Response code 200 received for lagoa.\n",
      "Request 462 sent for verkh-suetka.\n",
      "Response code 200 received for verkh-suetka.\n",
      "Request 463 sent for uruacu.\n",
      "Response code 200 received for uruacu.\n",
      "Request 464 sent for yantal.\n",
      "Response code 200 received for yantal.\n",
      "Request 465 sent for chapaevsk.\n",
      "Response code 200 received for chapaevsk.\n",
      "Request 466 sent for voerendaal.\n",
      "Response code 200 received for voerendaal.\n",
      "Request 467 sent for sistranda.\n",
      "Response code 200 received for sistranda.\n",
      "Request 468 sent for maniitsoq.\n",
      "Response code 200 received for maniitsoq.\n"
     ]
    },
    {
     "name": "stdout",
     "output_type": "stream",
     "text": [
      "Request 469 sent for luau.\n",
      "Response code 200 received for luau.\n",
      "Request 470 sent for summerside.\n",
      "Response code 200 received for summerside.\n",
      "Request 471 sent for olafsvik.\n",
      "Response code 200 received for olafsvik.\n",
      "Request 472 sent for vikindu.\n",
      "Response code 200 received for vikindu.\n",
      "Request 473 sent for kalengwa.\n",
      "Response code 200 received for kalengwa.\n",
      "Request 474 sent for balkhash.\n",
      "Response code 200 received for balkhash.\n",
      "Request 475 sent for grand gaube.\n",
      "Response code 200 received for grand gaube.\n",
      "Request 476 sent for fortuna.\n",
      "Response code 200 received for fortuna.\n",
      "Request 477 sent for kautokeino.\n",
      "Response code 200 received for kautokeino.\n",
      "galgani does not exist in OpenWeatherMap.\n",
      "Request 479 sent for kem.\n",
      "Response code 200 received for kem.\n",
      "Request 480 sent for russellville.\n",
      "Response code 200 received for russellville.\n",
      "Request 481 sent for honningsvag.\n",
      "Response code 200 received for honningsvag.\n",
      "Request 482 sent for at-bashi.\n",
      "Response code 200 received for at-bashi.\n",
      "attawapiskat does not exist in OpenWeatherMap.\n",
      "Request 484 sent for kaihua.\n",
      "Response code 200 received for kaihua.\n",
      "Request 485 sent for motril.\n",
      "Response code 200 received for motril.\n",
      "Request 486 sent for aksay.\n",
      "Response code 200 received for aksay.\n",
      "Request 487 sent for douglas.\n",
      "Response code 200 received for douglas.\n",
      "Request 488 sent for pangoa.\n",
      "Response code 200 received for pangoa.\n",
      "Request 489 sent for ende.\n",
      "Response code 200 received for ende.\n",
      "Request 490 sent for henties bay.\n",
      "Response code 200 received for henties bay.\n",
      "Request 491 sent for ardesen.\n",
      "Response code 200 received for ardesen.\n",
      "Request 492 sent for evensk.\n",
      "Response code 200 received for evensk.\n",
      "Request 493 sent for forssa.\n",
      "Response code 200 received for forssa.\n",
      "Request 494 sent for sawtell.\n",
      "Response code 200 received for sawtell.\n",
      "Request 495 sent for ibra.\n",
      "Response code 200 received for ibra.\n",
      "Request 496 sent for gejiu.\n",
      "Response code 200 received for gejiu.\n",
      "Request 497 sent for gumdag.\n",
      "Response code 200 received for gumdag.\n",
      "Request 498 sent for talara.\n",
      "Response code 200 received for talara.\n",
      "Request 499 sent for tanuku.\n",
      "Response code 200 received for tanuku.\n",
      "Request 500 sent for ghanzi.\n",
      "Response code 200 received for ghanzi.\n",
      "kamenskoye does not exist in OpenWeatherMap.\n",
      "Request 502 sent for teya.\n",
      "Response code 200 received for teya.\n",
      "Request 503 sent for kununurra.\n",
      "Response code 200 received for kununurra.\n",
      "chagda does not exist in OpenWeatherMap.\n",
      "Request 505 sent for kuppam.\n",
      "Response code 200 received for kuppam.\n",
      "Request 506 sent for pangnirtung.\n",
      "Response code 200 received for pangnirtung.\n",
      "Request 507 sent for bandundu.\n",
      "Response code 200 received for bandundu.\n",
      "Request 508 sent for paamiut.\n",
      "Response code 200 received for paamiut.\n",
      "Request 509 sent for hamilton.\n",
      "Response code 200 received for hamilton.\n",
      "Request 510 sent for kodinsk.\n",
      "Response code 200 received for kodinsk.\n",
      "Request 511 sent for pathein.\n",
      "Response code 200 received for pathein.\n",
      "Request 512 sent for karaton.\n",
      "Response code 200 received for karaton.\n",
      "Request 513 sent for prainha.\n",
      "Response code 200 received for prainha.\n",
      "Request 514 sent for hami.\n",
      "Response code 200 received for hami.\n",
      "khonuu does not exist in OpenWeatherMap.\n",
      "Request 516 sent for nemuro.\n",
      "Response code 200 received for nemuro.\n",
      "saryshagan does not exist in OpenWeatherMap.\n",
      "Request 518 sent for hare bay.\n",
      "Response code 200 received for hare bay.\n",
      "Request 519 sent for yaan.\n",
      "Response code 200 received for yaan.\n",
      "Request 520 sent for parsons.\n",
      "Response code 200 received for parsons.\n",
      "umzimvubu does not exist in OpenWeatherMap.\n",
      "Request 522 sent for padre paraiso.\n",
      "Response code 200 received for padre paraiso.\n",
      "Request 523 sent for sretensk.\n",
      "Response code 200 received for sretensk.\n",
      "Request 524 sent for caceres.\n",
      "Response code 200 received for caceres.\n",
      "Request 525 sent for gharghoda.\n",
      "Response code 200 received for gharghoda.\n",
      "Request 526 sent for borogontsy.\n",
      "Response code 200 received for borogontsy.\n",
      "Request 527 sent for birin.\n",
      "Response code 200 received for birin.\n",
      "Request 528 sent for sibolga.\n",
      "Response code 200 received for sibolga.\n",
      "Request 529 sent for payson.\n",
      "Response code 200 received for payson.\n",
      "Request 530 sent for ilhabela.\n",
      "Response code 200 received for ilhabela.\n",
      "Request 531 sent for awbari.\n",
      "Response code 200 received for awbari.\n",
      "Request 532 sent for kristiinankaupunki.\n",
      "Response code 200 received for kristiinankaupunki.\n",
      "Request 533 sent for buenos aires.\n",
      "Response code 200 received for buenos aires.\n",
      "Request 534 sent for plettenberg bay.\n",
      "Response code 200 received for plettenberg bay.\n",
      "Request 535 sent for saint-louis.\n",
      "Response code 200 received for saint-louis.\n",
      "Request 536 sent for alice springs.\n",
      "Response code 200 received for alice springs.\n",
      "Request 537 sent for jiangyou.\n",
      "Response code 200 received for jiangyou.\n",
      "Request 538 sent for lazaro cardenas.\n",
      "Response code 200 received for lazaro cardenas.\n",
      "Request 539 sent for fethiye.\n",
      "Response code 200 received for fethiye.\n",
      "Request 540 sent for broken hill.\n",
      "Response code 200 received for broken hill.\n",
      "Request 541 sent for dwarka.\n",
      "Response code 200 received for dwarka.\n",
      "Request 542 sent for sangmelima.\n",
      "Response code 200 received for sangmelima.\n",
      "skagastrond does not exist in OpenWeatherMap.\n",
      "Request 544 sent for solnechnyy.\n",
      "Response code 200 received for solnechnyy.\n",
      "Request 545 sent for malanje.\n",
      "Response code 200 received for malanje.\n",
      "Request 546 sent for lorengau.\n",
      "Response code 200 received for lorengau.\n",
      "Request 547 sent for rongcheng.\n",
      "Response code 200 received for rongcheng.\n",
      "Request 548 sent for aklavik.\n",
      "Response code 200 received for aklavik.\n",
      "Request 549 sent for bathsheba.\n",
      "Response code 200 received for bathsheba.\n",
      "Request 550 sent for gudivada.\n",
      "Response code 200 received for gudivada.\n",
      "Request 551 sent for jumla.\n",
      "Response code 200 received for jumla.\n",
      "Request 552 sent for saint-joseph.\n",
      "Response code 200 received for saint-joseph.\n",
      "Request 553 sent for epe.\n",
      "Response code 200 received for epe.\n",
      "Request 554 sent for beringovskiy.\n",
      "Response code 200 received for beringovskiy.\n",
      "Request 555 sent for phangnga.\n",
      "Response code 200 received for phangnga.\n",
      "Request 556 sent for tessalit.\n",
      "Response code 200 received for tessalit.\n",
      "Request 557 sent for hay river.\n",
      "Response code 200 received for hay river.\n",
      "Request 558 sent for chiredzi.\n",
      "Response code 200 received for chiredzi.\n",
      "Request 559 sent for bereda.\n",
      "Response code 200 received for bereda.\n",
      "Request 560 sent for port blair.\n",
      "Response code 200 received for port blair.\n",
      "Request 561 sent for ipixuna.\n",
      "Response code 200 received for ipixuna.\n",
      "Request 562 sent for port hardy.\n",
      "Response code 200 received for port hardy.\n",
      "Request 563 sent for cockburn town.\n",
      "Response code 200 received for cockburn town.\n",
      "Request 564 sent for pekalongan.\n",
      "Response code 200 received for pekalongan.\n",
      "Request 565 sent for ugoofaaru.\n",
      "Response code 200 received for ugoofaaru.\n",
      "Request 566 sent for xiaoweizhai.\n",
      "Response code 200 received for xiaoweizhai.\n",
      "Request 567 sent for buraydah.\n",
      "Response code 200 received for buraydah.\n",
      "Request 568 sent for chara.\n",
      "Response code 200 received for chara.\n",
      "Request 569 sent for mattru.\n",
      "Response code 200 received for mattru.\n",
      "Request 570 sent for kuytun.\n",
      "Response code 200 received for kuytun.\n",
      "Request 571 sent for shenzhen.\n",
      "Response code 200 received for shenzhen.\n",
      "Request 572 sent for lufkin.\n",
      "Response code 200 received for lufkin.\n",
      "Request 573 sent for prince george.\n",
      "Response code 200 received for prince george.\n",
      "Request 574 sent for kyrksaeterora.\n",
      "Response code 200 received for kyrksaeterora.\n",
      "Request 575 sent for pudem.\n",
      "Response code 200 received for pudem.\n",
      "Request 576 sent for port keats.\n",
      "Response code 200 received for port keats.\n",
      "Request 577 sent for megion.\n",
      "Response code 200 received for megion.\n",
      "Request 578 sent for galesong.\n",
      "Response code 200 received for galesong.\n",
      "Request 579 sent for oranjemund.\n",
      "Response code 200 received for oranjemund.\n",
      "toliary does not exist in OpenWeatherMap.\n",
      "Request 581 sent for namatanai.\n",
      "Response code 200 received for namatanai.\n",
      "grand river south east does not exist in OpenWeatherMap.\n",
      "Request 583 sent for llanes.\n",
      "Response code 200 received for llanes.\n",
      "Request 584 sent for praia da vitoria.\n",
      "Response code 200 received for praia da vitoria.\n",
      "Request 585 sent for pytalovo.\n",
      "Response code 200 received for pytalovo.\n",
      "mrirt does not exist in OpenWeatherMap.\n"
     ]
    },
    {
     "name": "stdout",
     "output_type": "stream",
     "text": [
      "Request 587 sent for baiyin.\n",
      "Response code 200 received for baiyin.\n",
      "Request 588 sent for goure.\n",
      "Response code 200 received for goure.\n",
      "Request 589 sent for turukhansk.\n",
      "Response code 200 received for turukhansk.\n",
      "Request 590 sent for moshi.\n",
      "Response code 200 received for moshi.\n",
      "Request 591 sent for mana.\n",
      "Response code 200 received for mana.\n",
      "Request 592 sent for great yarmouth.\n",
      "Response code 200 received for great yarmouth.\n",
      "Request 593 sent for buchanan.\n",
      "Response code 200 received for buchanan.\n",
      "Request 594 sent for bourail.\n",
      "Response code 200 received for bourail.\n",
      "Request 595 sent for viedma.\n",
      "Response code 200 received for viedma.\n",
      "Request 596 sent for vilyuysk.\n",
      "Response code 200 received for vilyuysk.\n",
      "Request 597 sent for bubaque.\n",
      "Response code 200 received for bubaque.\n",
      "Request 598 sent for pokaran.\n",
      "Response code 200 received for pokaran.\n",
      "Request 599 sent for shaoguan.\n",
      "Response code 200 received for shaoguan.\n",
      "Request 600 sent for boende.\n",
      "Response code 200 received for boende.\n",
      "Request 601 sent for alugan.\n",
      "Response code 200 received for alugan.\n",
      "Request 602 sent for saint-maximin-la-sainte-baume.\n",
      "Response code 200 received for saint-maximin-la-sainte-baume.\n",
      "Request 603 sent for aransas pass.\n",
      "Response code 200 received for aransas pass.\n",
      "Request 604 sent for rapid valley.\n",
      "Response code 200 received for rapid valley.\n",
      "Request 605 sent for metlaltoyuca.\n",
      "Response code 200 received for metlaltoyuca.\n",
      "Request 606 sent for acapulco.\n",
      "Response code 200 received for acapulco.\n",
      "Request 607 sent for baykit.\n",
      "Response code 200 received for baykit.\n",
      "Request 608 sent for te anau.\n",
      "Response code 200 received for te anau.\n",
      "Request 609 sent for tsaratanana.\n",
      "Response code 200 received for tsaratanana.\n",
      "Request 610 sent for mackay.\n",
      "Response code 200 received for mackay.\n",
      "Request 611 sent for sola.\n",
      "Response code 200 received for sola.\n",
      "Request 612 sent for porbandar.\n",
      "Response code 200 received for porbandar.\n",
      "Request 613 sent for mendi.\n",
      "Response code 200 received for mendi.\n",
      "Request 614 sent for kuvshinovo.\n",
      "Response code 200 received for kuvshinovo.\n",
      "Request 615 sent for bidar.\n",
      "Response code 200 received for bidar.\n",
      "Request 616 sent for gat.\n",
      "Response code 200 received for gat.\n",
      "Request 617 sent for atar.\n",
      "Response code 200 received for atar.\n",
      "Request 618 sent for lagos.\n",
      "Response code 200 received for lagos.\n",
      "Request 619 sent for newton abbot.\n",
      "Response code 200 received for newton abbot.\n",
      "Request 620 sent for pyay.\n",
      "Response code 200 received for pyay.\n",
      "Request 621 sent for acajutla.\n",
      "Response code 200 received for acajutla.\n",
      "Request 622 sent for dahra.\n",
      "Response code 200 received for dahra.\n",
      "Request 623 sent for ceyhan.\n",
      "Response code 200 received for ceyhan.\n",
      "Request 624 sent for coquimbo.\n",
      "Response code 200 received for coquimbo.\n",
      "warqla does not exist in OpenWeatherMap.\n",
      "Request 626 sent for fort nelson.\n",
      "Response code 200 received for fort nelson.\n",
      "Request 627 sent for cacoal.\n",
      "Response code 200 received for cacoal.\n",
      "Request 628 sent for progreso.\n",
      "Response code 200 received for progreso.\n",
      "Request 629 sent for coihaique.\n",
      "Response code 200 received for coihaique.\n",
      "Request 630 sent for aswan.\n",
      "Response code 200 received for aswan.\n",
      "Request 631 sent for dubbo.\n",
      "Response code 200 received for dubbo.\n",
      "Request 632 sent for sawakin.\n",
      "Response code 200 received for sawakin.\n",
      "Request 633 sent for skegness.\n",
      "Response code 200 received for skegness.\n",
      "Request 634 sent for shizunai.\n",
      "Response code 200 received for shizunai.\n",
      "Request 635 sent for cacapava do sul.\n",
      "Response code 200 received for cacapava do sul.\n",
      "Request 636 sent for tabou.\n",
      "Response code 200 received for tabou.\n",
      "Request 637 sent for sovetskiy.\n",
      "Response code 200 received for sovetskiy.\n",
      "Request 638 sent for charlottesville.\n",
      "Response code 200 received for charlottesville.\n",
      "Request 639 sent for asyut.\n",
      "Response code 200 received for asyut.\n",
      "Request 640 sent for marystown.\n",
      "Response code 200 received for marystown.\n",
      "Request 641 sent for kosh-agach.\n",
      "Response code 200 received for kosh-agach.\n"
     ]
    }
   ],
   "source": [
    "for city in range(len(cities)):\n",
    "    try:\n",
    "        weather2 = requests.get(query_url + str(cities[city])).json()\n",
    "        lat.append(weather2['coord']['lat'])\n",
    "        long.append(weather2['coord']['lon'])\n",
    "        temp.append(weather2['main']['feels_like'])\n",
    "        max_temp.append(weather2['main']['temp_max'])\n",
    "        humid.append(weather2['main']['humidity'])\n",
    "        clouds.append(weather2['clouds']['all'])\n",
    "        winds.append(weather2['wind']['speed'])\n",
    "        city1.append(weather2['name'])\n",
    "        country.append(weather2['sys']['country'])\n",
    "        datetime.append(weather2['dt'])\n",
    "        print(f\"Request {city} sent for {cities[city]}.\")\n",
    "        print_request.append(f\"Request {city} sent for {cities[city]}.\")\n",
    "        print(f\"Response code {weather2['cod']} received for {cities[city]}.\")\n",
    "        print_response.append(f\"Response code {weather2['cod']} received for {cities[city]}.\")\n",
    "    except:\n",
    "        print(f\"{cities[city]} does not exist in OpenWeatherMap.\")\n",
    "        city2.append(cities[city])\n",
    "        print_dne.append(f\"{cities[city]} does not exist in OpenWeatherMap.\")\n",
    "        pass\n",
    "\n",
    "    "
   ]
  },
  {
   "cell_type": "markdown",
   "metadata": {},
   "source": [
    "### Convert Raw Data to DataFrame\n",
    "* Export the city data into a .csv.\n",
    "* Display the DataFrame"
   ]
  },
  {
   "cell_type": "code",
   "execution_count": 7,
   "metadata": {},
   "outputs": [],
   "source": [
    "city_weather_dict ={\"city\": city1, \"latitude\": lat, \"longitude\": long, \"Max Temp\": max_temp,\n",
    "                   \"humidity\": humid, \"Feels Like\": temp, \"cloudiness\": clouds, \"wind speed\": winds,\n",
    "                   \"country\": country, \"datetime\": datetime}"
   ]
  },
  {
   "cell_type": "code",
   "execution_count": 8,
   "metadata": {
    "scrolled": true
   },
   "outputs": [
    {
     "data": {
      "text/html": [
       "<div>\n",
       "<style scoped>\n",
       "    .dataframe tbody tr th:only-of-type {\n",
       "        vertical-align: middle;\n",
       "    }\n",
       "\n",
       "    .dataframe tbody tr th {\n",
       "        vertical-align: top;\n",
       "    }\n",
       "\n",
       "    .dataframe thead th {\n",
       "        text-align: right;\n",
       "    }\n",
       "</style>\n",
       "<table border=\"1\" class=\"dataframe\">\n",
       "  <thead>\n",
       "    <tr style=\"text-align: right;\">\n",
       "      <th></th>\n",
       "      <th>city</th>\n",
       "      <th>latitude</th>\n",
       "      <th>longitude</th>\n",
       "      <th>Max Temp</th>\n",
       "      <th>humidity</th>\n",
       "      <th>Feels Like</th>\n",
       "      <th>cloudiness</th>\n",
       "      <th>wind speed</th>\n",
       "      <th>country</th>\n",
       "      <th>datetime</th>\n",
       "    </tr>\n",
       "  </thead>\n",
       "  <tbody>\n",
       "    <tr>\n",
       "      <th>0</th>\n",
       "      <td>Yellowknife</td>\n",
       "      <td>62.4560</td>\n",
       "      <td>-114.3525</td>\n",
       "      <td>63.12</td>\n",
       "      <td>59</td>\n",
       "      <td>61.92</td>\n",
       "      <td>75</td>\n",
       "      <td>8.05</td>\n",
       "      <td>CA</td>\n",
       "      <td>1661106920</td>\n",
       "    </tr>\n",
       "    <tr>\n",
       "      <th>1</th>\n",
       "      <td>Alausí</td>\n",
       "      <td>-2.2000</td>\n",
       "      <td>-78.8333</td>\n",
       "      <td>54.57</td>\n",
       "      <td>70</td>\n",
       "      <td>53.02</td>\n",
       "      <td>78</td>\n",
       "      <td>2.42</td>\n",
       "      <td>EC</td>\n",
       "      <td>1661106993</td>\n",
       "    </tr>\n",
       "    <tr>\n",
       "      <th>2</th>\n",
       "      <td>Jamestown</td>\n",
       "      <td>42.0970</td>\n",
       "      <td>-79.2353</td>\n",
       "      <td>79.05</td>\n",
       "      <td>59</td>\n",
       "      <td>76.98</td>\n",
       "      <td>100</td>\n",
       "      <td>5.75</td>\n",
       "      <td>US</td>\n",
       "      <td>1661106997</td>\n",
       "    </tr>\n",
       "    <tr>\n",
       "      <th>3</th>\n",
       "      <td>Foki</td>\n",
       "      <td>56.6930</td>\n",
       "      <td>54.3499</td>\n",
       "      <td>63.41</td>\n",
       "      <td>72</td>\n",
       "      <td>62.83</td>\n",
       "      <td>0</td>\n",
       "      <td>3.98</td>\n",
       "      <td>RU</td>\n",
       "      <td>1661106997</td>\n",
       "    </tr>\n",
       "    <tr>\n",
       "      <th>4</th>\n",
       "      <td>Hermanus</td>\n",
       "      <td>-34.4187</td>\n",
       "      <td>19.2345</td>\n",
       "      <td>55.80</td>\n",
       "      <td>84</td>\n",
       "      <td>55.02</td>\n",
       "      <td>0</td>\n",
       "      <td>11.30</td>\n",
       "      <td>ZA</td>\n",
       "      <td>1661106998</td>\n",
       "    </tr>\n",
       "  </tbody>\n",
       "</table>\n",
       "</div>"
      ],
      "text/plain": [
       "          city  latitude  longitude  Max Temp  humidity  Feels Like  \\\n",
       "0  Yellowknife   62.4560  -114.3525     63.12        59       61.92   \n",
       "1       Alausí   -2.2000   -78.8333     54.57        70       53.02   \n",
       "2    Jamestown   42.0970   -79.2353     79.05        59       76.98   \n",
       "3         Foki   56.6930    54.3499     63.41        72       62.83   \n",
       "4     Hermanus  -34.4187    19.2345     55.80        84       55.02   \n",
       "\n",
       "   cloudiness  wind speed country    datetime  \n",
       "0          75        8.05      CA  1661106920  \n",
       "1          78        2.42      EC  1661106993  \n",
       "2         100        5.75      US  1661106997  \n",
       "3           0        3.98      RU  1661106997  \n",
       "4           0       11.30      ZA  1661106998  "
      ]
     },
     "execution_count": 8,
     "metadata": {},
     "output_type": "execute_result"
    }
   ],
   "source": [
    "city_weather = pd.DataFrame(city_weather_dict)\n",
    "city_weather.head()"
   ]
  },
  {
   "cell_type": "code",
   "execution_count": 9,
   "metadata": {},
   "outputs": [
    {
     "data": {
      "text/html": [
       "<div>\n",
       "<style scoped>\n",
       "    .dataframe tbody tr th:only-of-type {\n",
       "        vertical-align: middle;\n",
       "    }\n",
       "\n",
       "    .dataframe tbody tr th {\n",
       "        vertical-align: top;\n",
       "    }\n",
       "\n",
       "    .dataframe thead th {\n",
       "        text-align: right;\n",
       "    }\n",
       "</style>\n",
       "<table border=\"1\" class=\"dataframe\">\n",
       "  <thead>\n",
       "    <tr style=\"text-align: right;\">\n",
       "      <th></th>\n",
       "      <th>city</th>\n",
       "      <th>latitude</th>\n",
       "      <th>longitude</th>\n",
       "      <th>Max Temp</th>\n",
       "      <th>humidity</th>\n",
       "      <th>Feels Like</th>\n",
       "      <th>cloudiness</th>\n",
       "      <th>wind speed</th>\n",
       "      <th>country</th>\n",
       "      <th>datetime</th>\n",
       "      <th>date</th>\n",
       "    </tr>\n",
       "  </thead>\n",
       "  <tbody>\n",
       "    <tr>\n",
       "      <th>0</th>\n",
       "      <td>Yellowknife</td>\n",
       "      <td>62.4560</td>\n",
       "      <td>-114.3525</td>\n",
       "      <td>63.12</td>\n",
       "      <td>59</td>\n",
       "      <td>61.92</td>\n",
       "      <td>75</td>\n",
       "      <td>8.05</td>\n",
       "      <td>CA</td>\n",
       "      <td>1661106920</td>\n",
       "      <td>2022-08-21 18:35:20-07:00</td>\n",
       "    </tr>\n",
       "    <tr>\n",
       "      <th>1</th>\n",
       "      <td>Alausí</td>\n",
       "      <td>-2.2000</td>\n",
       "      <td>-78.8333</td>\n",
       "      <td>54.57</td>\n",
       "      <td>70</td>\n",
       "      <td>53.02</td>\n",
       "      <td>78</td>\n",
       "      <td>2.42</td>\n",
       "      <td>EC</td>\n",
       "      <td>1661106993</td>\n",
       "      <td>2022-08-21 18:36:33-07:00</td>\n",
       "    </tr>\n",
       "    <tr>\n",
       "      <th>2</th>\n",
       "      <td>Jamestown</td>\n",
       "      <td>42.0970</td>\n",
       "      <td>-79.2353</td>\n",
       "      <td>79.05</td>\n",
       "      <td>59</td>\n",
       "      <td>76.98</td>\n",
       "      <td>100</td>\n",
       "      <td>5.75</td>\n",
       "      <td>US</td>\n",
       "      <td>1661106997</td>\n",
       "      <td>2022-08-21 18:36:37-07:00</td>\n",
       "    </tr>\n",
       "    <tr>\n",
       "      <th>3</th>\n",
       "      <td>Foki</td>\n",
       "      <td>56.6930</td>\n",
       "      <td>54.3499</td>\n",
       "      <td>63.41</td>\n",
       "      <td>72</td>\n",
       "      <td>62.83</td>\n",
       "      <td>0</td>\n",
       "      <td>3.98</td>\n",
       "      <td>RU</td>\n",
       "      <td>1661106997</td>\n",
       "      <td>2022-08-21 18:36:37-07:00</td>\n",
       "    </tr>\n",
       "    <tr>\n",
       "      <th>4</th>\n",
       "      <td>Hermanus</td>\n",
       "      <td>-34.4187</td>\n",
       "      <td>19.2345</td>\n",
       "      <td>55.80</td>\n",
       "      <td>84</td>\n",
       "      <td>55.02</td>\n",
       "      <td>0</td>\n",
       "      <td>11.30</td>\n",
       "      <td>ZA</td>\n",
       "      <td>1661106998</td>\n",
       "      <td>2022-08-21 18:36:38-07:00</td>\n",
       "    </tr>\n",
       "  </tbody>\n",
       "</table>\n",
       "</div>"
      ],
      "text/plain": [
       "          city  latitude  longitude  Max Temp  humidity  Feels Like  \\\n",
       "0  Yellowknife   62.4560  -114.3525     63.12        59       61.92   \n",
       "1       Alausí   -2.2000   -78.8333     54.57        70       53.02   \n",
       "2    Jamestown   42.0970   -79.2353     79.05        59       76.98   \n",
       "3         Foki   56.6930    54.3499     63.41        72       62.83   \n",
       "4     Hermanus  -34.4187    19.2345     55.80        84       55.02   \n",
       "\n",
       "   cloudiness  wind speed country    datetime                      date  \n",
       "0          75        8.05      CA  1661106920 2022-08-21 18:35:20-07:00  \n",
       "1          78        2.42      EC  1661106993 2022-08-21 18:36:33-07:00  \n",
       "2         100        5.75      US  1661106997 2022-08-21 18:36:37-07:00  \n",
       "3           0        3.98      RU  1661106997 2022-08-21 18:36:37-07:00  \n",
       "4           0       11.30      ZA  1661106998 2022-08-21 18:36:38-07:00  "
      ]
     },
     "execution_count": 9,
     "metadata": {},
     "output_type": "execute_result"
    }
   ],
   "source": [
    "# unix, UTC timestamp conversion from:\n",
    "# https://www.codegrepper.com/code-examples/python/convert+unix+timestamp+to+datetime+python+pandas\n",
    "city_weather[\"date\"] = pd.to_datetime(city_weather[\"datetime\"], unit=\"s\").dt.tz_localize(\"US/Pacific\")\n",
    "\n",
    "city_weather.head()"
   ]
  },
  {
   "cell_type": "code",
   "execution_count": 10,
   "metadata": {
    "scrolled": false
   },
   "outputs": [],
   "source": [
    "# found country converter to convert from ISO 2 letter country to country name at the following\"\n",
    "# https://pypi.org/project/country-converter/\n",
    "# https://stackoverflow.com/questions/64051741/how-to-convert-country-code-to-name-with-country-converter-in-pandas\n",
    "# https://notebook.community/konstantinstadler/country_converter/doc/country_converter_examples\n",
    "converter = coco.CountryConverter()\n",
    "city_weather[\"country name\"] = converter.convert(city_weather[\"country\"], src=\"ISO2\", to=\"name_short\")"
   ]
  },
  {
   "cell_type": "code",
   "execution_count": 11,
   "metadata": {},
   "outputs": [
    {
     "data": {
      "text/html": [
       "<div>\n",
       "<style scoped>\n",
       "    .dataframe tbody tr th:only-of-type {\n",
       "        vertical-align: middle;\n",
       "    }\n",
       "\n",
       "    .dataframe tbody tr th {\n",
       "        vertical-align: top;\n",
       "    }\n",
       "\n",
       "    .dataframe thead th {\n",
       "        text-align: right;\n",
       "    }\n",
       "</style>\n",
       "<table border=\"1\" class=\"dataframe\">\n",
       "  <thead>\n",
       "    <tr style=\"text-align: right;\">\n",
       "      <th></th>\n",
       "      <th>city</th>\n",
       "      <th>latitude</th>\n",
       "      <th>longitude</th>\n",
       "      <th>Max Temp</th>\n",
       "      <th>humidity</th>\n",
       "      <th>Feels Like</th>\n",
       "      <th>cloudiness</th>\n",
       "      <th>wind speed</th>\n",
       "      <th>country</th>\n",
       "      <th>datetime</th>\n",
       "      <th>date</th>\n",
       "      <th>country name</th>\n",
       "    </tr>\n",
       "  </thead>\n",
       "  <tbody>\n",
       "    <tr>\n",
       "      <th>0</th>\n",
       "      <td>Yellowknife</td>\n",
       "      <td>62.4560</td>\n",
       "      <td>-114.3525</td>\n",
       "      <td>63.12</td>\n",
       "      <td>59</td>\n",
       "      <td>61.92</td>\n",
       "      <td>75</td>\n",
       "      <td>8.05</td>\n",
       "      <td>CA</td>\n",
       "      <td>1661106920</td>\n",
       "      <td>2022-08-21 18:35:20-07:00</td>\n",
       "      <td>Canada</td>\n",
       "    </tr>\n",
       "    <tr>\n",
       "      <th>1</th>\n",
       "      <td>Alausí</td>\n",
       "      <td>-2.2000</td>\n",
       "      <td>-78.8333</td>\n",
       "      <td>54.57</td>\n",
       "      <td>70</td>\n",
       "      <td>53.02</td>\n",
       "      <td>78</td>\n",
       "      <td>2.42</td>\n",
       "      <td>EC</td>\n",
       "      <td>1661106993</td>\n",
       "      <td>2022-08-21 18:36:33-07:00</td>\n",
       "      <td>Ecuador</td>\n",
       "    </tr>\n",
       "    <tr>\n",
       "      <th>2</th>\n",
       "      <td>Jamestown</td>\n",
       "      <td>42.0970</td>\n",
       "      <td>-79.2353</td>\n",
       "      <td>79.05</td>\n",
       "      <td>59</td>\n",
       "      <td>76.98</td>\n",
       "      <td>100</td>\n",
       "      <td>5.75</td>\n",
       "      <td>US</td>\n",
       "      <td>1661106997</td>\n",
       "      <td>2022-08-21 18:36:37-07:00</td>\n",
       "      <td>United States</td>\n",
       "    </tr>\n",
       "    <tr>\n",
       "      <th>3</th>\n",
       "      <td>Foki</td>\n",
       "      <td>56.6930</td>\n",
       "      <td>54.3499</td>\n",
       "      <td>63.41</td>\n",
       "      <td>72</td>\n",
       "      <td>62.83</td>\n",
       "      <td>0</td>\n",
       "      <td>3.98</td>\n",
       "      <td>RU</td>\n",
       "      <td>1661106997</td>\n",
       "      <td>2022-08-21 18:36:37-07:00</td>\n",
       "      <td>Russia</td>\n",
       "    </tr>\n",
       "    <tr>\n",
       "      <th>4</th>\n",
       "      <td>Hermanus</td>\n",
       "      <td>-34.4187</td>\n",
       "      <td>19.2345</td>\n",
       "      <td>55.80</td>\n",
       "      <td>84</td>\n",
       "      <td>55.02</td>\n",
       "      <td>0</td>\n",
       "      <td>11.30</td>\n",
       "      <td>ZA</td>\n",
       "      <td>1661106998</td>\n",
       "      <td>2022-08-21 18:36:38-07:00</td>\n",
       "      <td>South Africa</td>\n",
       "    </tr>\n",
       "  </tbody>\n",
       "</table>\n",
       "</div>"
      ],
      "text/plain": [
       "          city  latitude  longitude  Max Temp  humidity  Feels Like  \\\n",
       "0  Yellowknife   62.4560  -114.3525     63.12        59       61.92   \n",
       "1       Alausí   -2.2000   -78.8333     54.57        70       53.02   \n",
       "2    Jamestown   42.0970   -79.2353     79.05        59       76.98   \n",
       "3         Foki   56.6930    54.3499     63.41        72       62.83   \n",
       "4     Hermanus  -34.4187    19.2345     55.80        84       55.02   \n",
       "\n",
       "   cloudiness  wind speed country    datetime                      date  \\\n",
       "0          75        8.05      CA  1661106920 2022-08-21 18:35:20-07:00   \n",
       "1          78        2.42      EC  1661106993 2022-08-21 18:36:33-07:00   \n",
       "2         100        5.75      US  1661106997 2022-08-21 18:36:37-07:00   \n",
       "3           0        3.98      RU  1661106997 2022-08-21 18:36:37-07:00   \n",
       "4           0       11.30      ZA  1661106998 2022-08-21 18:36:38-07:00   \n",
       "\n",
       "    country name  \n",
       "0         Canada  \n",
       "1        Ecuador  \n",
       "2  United States  \n",
       "3         Russia  \n",
       "4   South Africa  "
      ]
     },
     "execution_count": 11,
     "metadata": {},
     "output_type": "execute_result"
    }
   ],
   "source": [
    "city_weather.head()"
   ]
  },
  {
   "cell_type": "code",
   "execution_count": 12,
   "metadata": {
    "scrolled": true
   },
   "outputs": [
    {
     "data": {
      "text/html": [
       "<div>\n",
       "<style scoped>\n",
       "    .dataframe tbody tr th:only-of-type {\n",
       "        vertical-align: middle;\n",
       "    }\n",
       "\n",
       "    .dataframe tbody tr th {\n",
       "        vertical-align: top;\n",
       "    }\n",
       "\n",
       "    .dataframe thead th {\n",
       "        text-align: right;\n",
       "    }\n",
       "</style>\n",
       "<table border=\"1\" class=\"dataframe\">\n",
       "  <thead>\n",
       "    <tr style=\"text-align: right;\">\n",
       "      <th></th>\n",
       "      <th>city</th>\n",
       "      <th>latitude</th>\n",
       "      <th>longitude</th>\n",
       "      <th>Max Temp</th>\n",
       "      <th>humidity</th>\n",
       "      <th>Feels Like</th>\n",
       "      <th>cloudiness</th>\n",
       "      <th>wind speed</th>\n",
       "      <th>country name</th>\n",
       "      <th>date</th>\n",
       "    </tr>\n",
       "  </thead>\n",
       "  <tbody>\n",
       "    <tr>\n",
       "      <th>0</th>\n",
       "      <td>Yellowknife</td>\n",
       "      <td>62.4560</td>\n",
       "      <td>-114.3525</td>\n",
       "      <td>63.12</td>\n",
       "      <td>59</td>\n",
       "      <td>61.92</td>\n",
       "      <td>75</td>\n",
       "      <td>8.05</td>\n",
       "      <td>Canada</td>\n",
       "      <td>2022-08-21 18:35:20-07:00</td>\n",
       "    </tr>\n",
       "    <tr>\n",
       "      <th>1</th>\n",
       "      <td>Alausí</td>\n",
       "      <td>-2.2000</td>\n",
       "      <td>-78.8333</td>\n",
       "      <td>54.57</td>\n",
       "      <td>70</td>\n",
       "      <td>53.02</td>\n",
       "      <td>78</td>\n",
       "      <td>2.42</td>\n",
       "      <td>Ecuador</td>\n",
       "      <td>2022-08-21 18:36:33-07:00</td>\n",
       "    </tr>\n",
       "    <tr>\n",
       "      <th>2</th>\n",
       "      <td>Jamestown</td>\n",
       "      <td>42.0970</td>\n",
       "      <td>-79.2353</td>\n",
       "      <td>79.05</td>\n",
       "      <td>59</td>\n",
       "      <td>76.98</td>\n",
       "      <td>100</td>\n",
       "      <td>5.75</td>\n",
       "      <td>United States</td>\n",
       "      <td>2022-08-21 18:36:37-07:00</td>\n",
       "    </tr>\n",
       "    <tr>\n",
       "      <th>3</th>\n",
       "      <td>Foki</td>\n",
       "      <td>56.6930</td>\n",
       "      <td>54.3499</td>\n",
       "      <td>63.41</td>\n",
       "      <td>72</td>\n",
       "      <td>62.83</td>\n",
       "      <td>0</td>\n",
       "      <td>3.98</td>\n",
       "      <td>Russia</td>\n",
       "      <td>2022-08-21 18:36:37-07:00</td>\n",
       "    </tr>\n",
       "    <tr>\n",
       "      <th>4</th>\n",
       "      <td>Hermanus</td>\n",
       "      <td>-34.4187</td>\n",
       "      <td>19.2345</td>\n",
       "      <td>55.80</td>\n",
       "      <td>84</td>\n",
       "      <td>55.02</td>\n",
       "      <td>0</td>\n",
       "      <td>11.30</td>\n",
       "      <td>South Africa</td>\n",
       "      <td>2022-08-21 18:36:38-07:00</td>\n",
       "    </tr>\n",
       "  </tbody>\n",
       "</table>\n",
       "</div>"
      ],
      "text/plain": [
       "          city  latitude  longitude  Max Temp  humidity  Feels Like  \\\n",
       "0  Yellowknife   62.4560  -114.3525     63.12        59       61.92   \n",
       "1       Alausí   -2.2000   -78.8333     54.57        70       53.02   \n",
       "2    Jamestown   42.0970   -79.2353     79.05        59       76.98   \n",
       "3         Foki   56.6930    54.3499     63.41        72       62.83   \n",
       "4     Hermanus  -34.4187    19.2345     55.80        84       55.02   \n",
       "\n",
       "   cloudiness  wind speed   country name                      date  \n",
       "0          75        8.05         Canada 2022-08-21 18:35:20-07:00  \n",
       "1          78        2.42        Ecuador 2022-08-21 18:36:33-07:00  \n",
       "2         100        5.75  United States 2022-08-21 18:36:37-07:00  \n",
       "3           0        3.98         Russia 2022-08-21 18:36:37-07:00  \n",
       "4           0       11.30   South Africa 2022-08-21 18:36:38-07:00  "
      ]
     },
     "execution_count": 12,
     "metadata": {},
     "output_type": "execute_result"
    }
   ],
   "source": [
    "city_weather2 = city_weather[[\"city\", \"latitude\", \"longitude\", \"Max Temp\", \"humidity\",\n",
    "                             \"Feels Like\", \"cloudiness\", \"wind speed\", \"country name\",\n",
    "                             \"date\"]] \n",
    "city_weather2.head()"
   ]
  },
  {
   "cell_type": "code",
   "execution_count": 13,
   "metadata": {},
   "outputs": [
    {
     "data": {
      "text/plain": [
       "592"
      ]
     },
     "execution_count": 13,
     "metadata": {},
     "output_type": "execute_result"
    }
   ],
   "source": [
    "city_weather2.to_csv(\"fresh_output_data/cities.csv\")\n",
    "len(city_weather2)\n"
   ]
  },
  {
   "cell_type": "code",
   "execution_count": 14,
   "metadata": {
    "scrolled": false
   },
   "outputs": [
    {
     "data": {
      "text/html": [
       "<div>\n",
       "<style scoped>\n",
       "    .dataframe tbody tr th:only-of-type {\n",
       "        vertical-align: middle;\n",
       "    }\n",
       "\n",
       "    .dataframe tbody tr th {\n",
       "        vertical-align: top;\n",
       "    }\n",
       "\n",
       "    .dataframe thead th {\n",
       "        text-align: right;\n",
       "    }\n",
       "</style>\n",
       "<table border=\"1\" class=\"dataframe\">\n",
       "  <thead>\n",
       "    <tr style=\"text-align: right;\">\n",
       "      <th></th>\n",
       "      <th>city</th>\n",
       "      <th>request sent</th>\n",
       "      <th>response received</th>\n",
       "    </tr>\n",
       "  </thead>\n",
       "  <tbody>\n",
       "    <tr>\n",
       "      <th>0</th>\n",
       "      <td>Yellowknife</td>\n",
       "      <td>Request 0 sent for yellowknife.</td>\n",
       "      <td>Response code 200 received for yellowknife.</td>\n",
       "    </tr>\n",
       "    <tr>\n",
       "      <th>1</th>\n",
       "      <td>Alausí</td>\n",
       "      <td>Request 1 sent for alausi.</td>\n",
       "      <td>Response code 200 received for alausi.</td>\n",
       "    </tr>\n",
       "    <tr>\n",
       "      <th>2</th>\n",
       "      <td>Jamestown</td>\n",
       "      <td>Request 3 sent for jamestown.</td>\n",
       "      <td>Response code 200 received for jamestown.</td>\n",
       "    </tr>\n",
       "    <tr>\n",
       "      <th>3</th>\n",
       "      <td>Foki</td>\n",
       "      <td>Request 4 sent for foki.</td>\n",
       "      <td>Response code 200 received for foki.</td>\n",
       "    </tr>\n",
       "    <tr>\n",
       "      <th>4</th>\n",
       "      <td>Hermanus</td>\n",
       "      <td>Request 5 sent for hermanus.</td>\n",
       "      <td>Response code 200 received for hermanus.</td>\n",
       "    </tr>\n",
       "  </tbody>\n",
       "</table>\n",
       "</div>"
      ],
      "text/plain": [
       "          city                     request sent  \\\n",
       "0  Yellowknife  Request 0 sent for yellowknife.   \n",
       "1       Alausí       Request 1 sent for alausi.   \n",
       "2    Jamestown    Request 3 sent for jamestown.   \n",
       "3         Foki         Request 4 sent for foki.   \n",
       "4     Hermanus     Request 5 sent for hermanus.   \n",
       "\n",
       "                             response received  \n",
       "0  Response code 200 received for yellowknife.  \n",
       "1       Response code 200 received for alausi.  \n",
       "2    Response code 200 received for jamestown.  \n",
       "3         Response code 200 received for foki.  \n",
       "4     Response code 200 received for hermanus.  "
      ]
     },
     "execution_count": 14,
     "metadata": {},
     "output_type": "execute_result"
    }
   ],
   "source": [
    "request_response_dict = {\"city\": city1, \"request sent\": print_request, \"response received\": print_response}\n",
    "request_response = pd.DataFrame(request_response_dict)\n",
    "request_response.head()"
   ]
  },
  {
   "cell_type": "code",
   "execution_count": 15,
   "metadata": {},
   "outputs": [
    {
     "data": {
      "text/plain": [
       "592"
      ]
     },
     "execution_count": 15,
     "metadata": {},
     "output_type": "execute_result"
    }
   ],
   "source": [
    "request_response.to_csv(\"fresh_output_data/request_response_log.csv\", index=False)\n",
    "len(request_response)"
   ]
  },
  {
   "cell_type": "code",
   "execution_count": 16,
   "metadata": {
    "scrolled": true
   },
   "outputs": [
    {
     "data": {
      "text/html": [
       "<div>\n",
       "<style scoped>\n",
       "    .dataframe tbody tr th:only-of-type {\n",
       "        vertical-align: middle;\n",
       "    }\n",
       "\n",
       "    .dataframe tbody tr th {\n",
       "        vertical-align: top;\n",
       "    }\n",
       "\n",
       "    .dataframe thead th {\n",
       "        text-align: right;\n",
       "    }\n",
       "</style>\n",
       "<table border=\"1\" class=\"dataframe\">\n",
       "  <thead>\n",
       "    <tr style=\"text-align: right;\">\n",
       "      <th></th>\n",
       "      <th>city</th>\n",
       "      <th>response received</th>\n",
       "    </tr>\n",
       "  </thead>\n",
       "  <tbody>\n",
       "    <tr>\n",
       "      <th>0</th>\n",
       "      <td>shakhrinau</td>\n",
       "      <td>shakhrinau does not exist in OpenWeatherMap.</td>\n",
       "    </tr>\n",
       "    <tr>\n",
       "      <th>1</th>\n",
       "      <td>maimon</td>\n",
       "      <td>maimon does not exist in OpenWeatherMap.</td>\n",
       "    </tr>\n",
       "    <tr>\n",
       "      <th>2</th>\n",
       "      <td>belushya guba</td>\n",
       "      <td>belushya guba does not exist in OpenWeatherMap.</td>\n",
       "    </tr>\n",
       "    <tr>\n",
       "      <th>3</th>\n",
       "      <td>ciras</td>\n",
       "      <td>ciras does not exist in OpenWeatherMap.</td>\n",
       "    </tr>\n",
       "    <tr>\n",
       "      <th>4</th>\n",
       "      <td>okandja</td>\n",
       "      <td>okandja does not exist in OpenWeatherMap.</td>\n",
       "    </tr>\n",
       "  </tbody>\n",
       "</table>\n",
       "</div>"
      ],
      "text/plain": [
       "            city                                response received\n",
       "0     shakhrinau     shakhrinau does not exist in OpenWeatherMap.\n",
       "1         maimon         maimon does not exist in OpenWeatherMap.\n",
       "2  belushya guba  belushya guba does not exist in OpenWeatherMap.\n",
       "3          ciras          ciras does not exist in OpenWeatherMap.\n",
       "4        okandja        okandja does not exist in OpenWeatherMap."
      ]
     },
     "execution_count": 16,
     "metadata": {},
     "output_type": "execute_result"
    }
   ],
   "source": [
    "city_dne_dict = {\"city\": city2, \"response received\": print_dne}\n",
    "city_dne = pd.DataFrame(city_dne_dict)\n",
    "city_dne.head()"
   ]
  },
  {
   "cell_type": "code",
   "execution_count": 17,
   "metadata": {},
   "outputs": [
    {
     "data": {
      "text/plain": [
       "50"
      ]
     },
     "execution_count": 17,
     "metadata": {},
     "output_type": "execute_result"
    }
   ],
   "source": [
    "city_dne.to_csv(\"fresh_output_data/response_error_log.csv\", index=False)\n",
    "\n",
    "len(city_dne)"
   ]
  },
  {
   "cell_type": "code",
   "execution_count": null,
   "metadata": {},
   "outputs": [],
   "source": []
  },
  {
   "cell_type": "markdown",
   "metadata": {},
   "source": [
    "## Inspect the data and remove the cities where the humidity > 100%.\n",
    "----\n",
    "Skip this step if there are no cities that have humidity > 100%. "
   ]
  },
  {
   "cell_type": "code",
   "execution_count": 18,
   "metadata": {
    "scrolled": true
   },
   "outputs": [
    {
     "data": {
      "text/html": [
       "<div>\n",
       "<style scoped>\n",
       "    .dataframe tbody tr th:only-of-type {\n",
       "        vertical-align: middle;\n",
       "    }\n",
       "\n",
       "    .dataframe tbody tr th {\n",
       "        vertical-align: top;\n",
       "    }\n",
       "\n",
       "    .dataframe thead th {\n",
       "        text-align: right;\n",
       "    }\n",
       "</style>\n",
       "<table border=\"1\" class=\"dataframe\">\n",
       "  <thead>\n",
       "    <tr style=\"text-align: right;\">\n",
       "      <th></th>\n",
       "      <th>city</th>\n",
       "      <th>latitude</th>\n",
       "      <th>longitude</th>\n",
       "      <th>Max Temp</th>\n",
       "      <th>humidity</th>\n",
       "      <th>Feels Like</th>\n",
       "      <th>cloudiness</th>\n",
       "      <th>wind speed</th>\n",
       "      <th>country</th>\n",
       "      <th>datetime</th>\n",
       "      <th>date</th>\n",
       "      <th>country name</th>\n",
       "    </tr>\n",
       "  </thead>\n",
       "  <tbody>\n",
       "    <tr>\n",
       "      <th>71</th>\n",
       "      <td>Mataura</td>\n",
       "      <td>-46.1927</td>\n",
       "      <td>168.8643</td>\n",
       "      <td>48.47</td>\n",
       "      <td>99</td>\n",
       "      <td>47.93</td>\n",
       "      <td>100</td>\n",
       "      <td>3.02</td>\n",
       "      <td>NZ</td>\n",
       "      <td>1661107036</td>\n",
       "      <td>2022-08-21 18:37:16-07:00</td>\n",
       "      <td>New Zealand</td>\n",
       "    </tr>\n",
       "    <tr>\n",
       "      <th>76</th>\n",
       "      <td>Severo-Kuril'sk</td>\n",
       "      <td>50.6789</td>\n",
       "      <td>156.1250</td>\n",
       "      <td>55.33</td>\n",
       "      <td>99</td>\n",
       "      <td>55.22</td>\n",
       "      <td>86</td>\n",
       "      <td>4.43</td>\n",
       "      <td>RU</td>\n",
       "      <td>1661107039</td>\n",
       "      <td>2022-08-21 18:37:19-07:00</td>\n",
       "      <td>Russia</td>\n",
       "    </tr>\n",
       "    <tr>\n",
       "      <th>103</th>\n",
       "      <td>Alofi</td>\n",
       "      <td>-19.0595</td>\n",
       "      <td>-169.9187</td>\n",
       "      <td>60.69</td>\n",
       "      <td>100</td>\n",
       "      <td>61.16</td>\n",
       "      <td>0</td>\n",
       "      <td>1.14</td>\n",
       "      <td>NU</td>\n",
       "      <td>1661107053</td>\n",
       "      <td>2022-08-21 18:37:33-07:00</td>\n",
       "      <td>Niue</td>\n",
       "    </tr>\n",
       "    <tr>\n",
       "      <th>108</th>\n",
       "      <td>Tegul'det</td>\n",
       "      <td>57.3064</td>\n",
       "      <td>88.1667</td>\n",
       "      <td>47.91</td>\n",
       "      <td>99</td>\n",
       "      <td>46.71</td>\n",
       "      <td>100</td>\n",
       "      <td>3.69</td>\n",
       "      <td>RU</td>\n",
       "      <td>1661107055</td>\n",
       "      <td>2022-08-21 18:37:35-07:00</td>\n",
       "      <td>Russia</td>\n",
       "    </tr>\n",
       "    <tr>\n",
       "      <th>113</th>\n",
       "      <td>Pampa</td>\n",
       "      <td>35.5362</td>\n",
       "      <td>-100.9599</td>\n",
       "      <td>66.34</td>\n",
       "      <td>100</td>\n",
       "      <td>67.24</td>\n",
       "      <td>100</td>\n",
       "      <td>17.27</td>\n",
       "      <td>US</td>\n",
       "      <td>1661106986</td>\n",
       "      <td>2022-08-21 18:36:26-07:00</td>\n",
       "      <td>United States</td>\n",
       "    </tr>\n",
       "    <tr>\n",
       "      <th>119</th>\n",
       "      <td>Angoram</td>\n",
       "      <td>-4.0625</td>\n",
       "      <td>144.0661</td>\n",
       "      <td>70.90</td>\n",
       "      <td>99</td>\n",
       "      <td>72.34</td>\n",
       "      <td>40</td>\n",
       "      <td>1.92</td>\n",
       "      <td>PG</td>\n",
       "      <td>1661107066</td>\n",
       "      <td>2022-08-21 18:37:46-07:00</td>\n",
       "      <td>Papua New Guinea</td>\n",
       "    </tr>\n",
       "    <tr>\n",
       "      <th>158</th>\n",
       "      <td>Lamar</td>\n",
       "      <td>33.6668</td>\n",
       "      <td>-95.5836</td>\n",
       "      <td>83.64</td>\n",
       "      <td>100</td>\n",
       "      <td>76.01</td>\n",
       "      <td>100</td>\n",
       "      <td>17.27</td>\n",
       "      <td>US</td>\n",
       "      <td>1661107084</td>\n",
       "      <td>2022-08-21 18:38:04-07:00</td>\n",
       "      <td>United States</td>\n",
       "    </tr>\n",
       "    <tr>\n",
       "      <th>183</th>\n",
       "      <td>Kayerkan</td>\n",
       "      <td>69.3497</td>\n",
       "      <td>87.7602</td>\n",
       "      <td>39.52</td>\n",
       "      <td>100</td>\n",
       "      <td>34.21</td>\n",
       "      <td>98</td>\n",
       "      <td>7.63</td>\n",
       "      <td>RU</td>\n",
       "      <td>1661107097</td>\n",
       "      <td>2022-08-21 18:38:17-07:00</td>\n",
       "      <td>Russia</td>\n",
       "    </tr>\n",
       "    <tr>\n",
       "      <th>266</th>\n",
       "      <td>Pedersore</td>\n",
       "      <td>63.6500</td>\n",
       "      <td>22.6833</td>\n",
       "      <td>66.00</td>\n",
       "      <td>100</td>\n",
       "      <td>66.63</td>\n",
       "      <td>100</td>\n",
       "      <td>9.13</td>\n",
       "      <td>FI</td>\n",
       "      <td>1661107138</td>\n",
       "      <td>2022-08-21 18:38:58-07:00</td>\n",
       "      <td>Finland</td>\n",
       "    </tr>\n",
       "    <tr>\n",
       "      <th>301</th>\n",
       "      <td>Yerbogachën</td>\n",
       "      <td>61.2767</td>\n",
       "      <td>108.0108</td>\n",
       "      <td>47.62</td>\n",
       "      <td>99</td>\n",
       "      <td>45.66</td>\n",
       "      <td>100</td>\n",
       "      <td>4.63</td>\n",
       "      <td>RU</td>\n",
       "      <td>1661107158</td>\n",
       "      <td>2022-08-21 18:39:18-07:00</td>\n",
       "      <td>Russia</td>\n",
       "    </tr>\n",
       "    <tr>\n",
       "      <th>310</th>\n",
       "      <td>Steamboat Springs</td>\n",
       "      <td>40.4850</td>\n",
       "      <td>-106.8317</td>\n",
       "      <td>60.39</td>\n",
       "      <td>100</td>\n",
       "      <td>56.52</td>\n",
       "      <td>100</td>\n",
       "      <td>4.61</td>\n",
       "      <td>US</td>\n",
       "      <td>1661107008</td>\n",
       "      <td>2022-08-21 18:36:48-07:00</td>\n",
       "      <td>United States</td>\n",
       "    </tr>\n",
       "    <tr>\n",
       "      <th>316</th>\n",
       "      <td>Saint Paul Harbor</td>\n",
       "      <td>57.7900</td>\n",
       "      <td>-152.4072</td>\n",
       "      <td>53.11</td>\n",
       "      <td>100</td>\n",
       "      <td>52.83</td>\n",
       "      <td>100</td>\n",
       "      <td>14.97</td>\n",
       "      <td>US</td>\n",
       "      <td>1661107170</td>\n",
       "      <td>2022-08-21 18:39:30-07:00</td>\n",
       "      <td>United States</td>\n",
       "    </tr>\n",
       "    <tr>\n",
       "      <th>320</th>\n",
       "      <td>Petropavlovsk-Kamchatskiy</td>\n",
       "      <td>53.0452</td>\n",
       "      <td>158.6483</td>\n",
       "      <td>55.99</td>\n",
       "      <td>100</td>\n",
       "      <td>55.99</td>\n",
       "      <td>100</td>\n",
       "      <td>0.00</td>\n",
       "      <td>RU</td>\n",
       "      <td>1661107172</td>\n",
       "      <td>2022-08-21 18:39:32-07:00</td>\n",
       "      <td>Russia</td>\n",
       "    </tr>\n",
       "    <tr>\n",
       "      <th>343</th>\n",
       "      <td>Prince Rupert</td>\n",
       "      <td>54.3161</td>\n",
       "      <td>-130.3201</td>\n",
       "      <td>57.29</td>\n",
       "      <td>100</td>\n",
       "      <td>55.27</td>\n",
       "      <td>40</td>\n",
       "      <td>9.22</td>\n",
       "      <td>CA</td>\n",
       "      <td>1661107184</td>\n",
       "      <td>2022-08-21 18:39:44-07:00</td>\n",
       "      <td>Canada</td>\n",
       "    </tr>\n",
       "    <tr>\n",
       "      <th>363</th>\n",
       "      <td>Keningau</td>\n",
       "      <td>5.3378</td>\n",
       "      <td>116.1602</td>\n",
       "      <td>71.73</td>\n",
       "      <td>99</td>\n",
       "      <td>73.26</td>\n",
       "      <td>98</td>\n",
       "      <td>0.54</td>\n",
       "      <td>MY</td>\n",
       "      <td>1661107194</td>\n",
       "      <td>2022-08-21 18:39:54-07:00</td>\n",
       "      <td>Malaysia</td>\n",
       "    </tr>\n",
       "    <tr>\n",
       "      <th>419</th>\n",
       "      <td>Noumea</td>\n",
       "      <td>-22.2763</td>\n",
       "      <td>166.4572</td>\n",
       "      <td>72.00</td>\n",
       "      <td>99</td>\n",
       "      <td>73.54</td>\n",
       "      <td>100</td>\n",
       "      <td>12.48</td>\n",
       "      <td>NC</td>\n",
       "      <td>1661107222</td>\n",
       "      <td>2022-08-21 18:40:22-07:00</td>\n",
       "      <td>New Caledonia</td>\n",
       "    </tr>\n",
       "    <tr>\n",
       "      <th>564</th>\n",
       "      <td>Mendi</td>\n",
       "      <td>-6.1761</td>\n",
       "      <td>143.6513</td>\n",
       "      <td>54.36</td>\n",
       "      <td>100</td>\n",
       "      <td>54.19</td>\n",
       "      <td>93</td>\n",
       "      <td>0.89</td>\n",
       "      <td>PG</td>\n",
       "      <td>1661107300</td>\n",
       "      <td>2022-08-21 18:41:40-07:00</td>\n",
       "      <td>Papua New Guinea</td>\n",
       "    </tr>\n",
       "  </tbody>\n",
       "</table>\n",
       "</div>"
      ],
      "text/plain": [
       "                          city  latitude  longitude  Max Temp  humidity  \\\n",
       "71                     Mataura  -46.1927   168.8643     48.47        99   \n",
       "76             Severo-Kuril'sk   50.6789   156.1250     55.33        99   \n",
       "103                      Alofi  -19.0595  -169.9187     60.69       100   \n",
       "108                  Tegul'det   57.3064    88.1667     47.91        99   \n",
       "113                      Pampa   35.5362  -100.9599     66.34       100   \n",
       "119                    Angoram   -4.0625   144.0661     70.90        99   \n",
       "158                      Lamar   33.6668   -95.5836     83.64       100   \n",
       "183                   Kayerkan   69.3497    87.7602     39.52       100   \n",
       "266                  Pedersore   63.6500    22.6833     66.00       100   \n",
       "301                Yerbogachën   61.2767   108.0108     47.62        99   \n",
       "310          Steamboat Springs   40.4850  -106.8317     60.39       100   \n",
       "316          Saint Paul Harbor   57.7900  -152.4072     53.11       100   \n",
       "320  Petropavlovsk-Kamchatskiy   53.0452   158.6483     55.99       100   \n",
       "343              Prince Rupert   54.3161  -130.3201     57.29       100   \n",
       "363                   Keningau    5.3378   116.1602     71.73        99   \n",
       "419                     Noumea  -22.2763   166.4572     72.00        99   \n",
       "564                      Mendi   -6.1761   143.6513     54.36       100   \n",
       "\n",
       "     Feels Like  cloudiness  wind speed country    datetime  \\\n",
       "71        47.93         100        3.02      NZ  1661107036   \n",
       "76        55.22          86        4.43      RU  1661107039   \n",
       "103       61.16           0        1.14      NU  1661107053   \n",
       "108       46.71         100        3.69      RU  1661107055   \n",
       "113       67.24         100       17.27      US  1661106986   \n",
       "119       72.34          40        1.92      PG  1661107066   \n",
       "158       76.01         100       17.27      US  1661107084   \n",
       "183       34.21          98        7.63      RU  1661107097   \n",
       "266       66.63         100        9.13      FI  1661107138   \n",
       "301       45.66         100        4.63      RU  1661107158   \n",
       "310       56.52         100        4.61      US  1661107008   \n",
       "316       52.83         100       14.97      US  1661107170   \n",
       "320       55.99         100        0.00      RU  1661107172   \n",
       "343       55.27          40        9.22      CA  1661107184   \n",
       "363       73.26          98        0.54      MY  1661107194   \n",
       "419       73.54         100       12.48      NC  1661107222   \n",
       "564       54.19          93        0.89      PG  1661107300   \n",
       "\n",
       "                         date      country name  \n",
       "71  2022-08-21 18:37:16-07:00       New Zealand  \n",
       "76  2022-08-21 18:37:19-07:00            Russia  \n",
       "103 2022-08-21 18:37:33-07:00              Niue  \n",
       "108 2022-08-21 18:37:35-07:00            Russia  \n",
       "113 2022-08-21 18:36:26-07:00     United States  \n",
       "119 2022-08-21 18:37:46-07:00  Papua New Guinea  \n",
       "158 2022-08-21 18:38:04-07:00     United States  \n",
       "183 2022-08-21 18:38:17-07:00            Russia  \n",
       "266 2022-08-21 18:38:58-07:00           Finland  \n",
       "301 2022-08-21 18:39:18-07:00            Russia  \n",
       "310 2022-08-21 18:36:48-07:00     United States  \n",
       "316 2022-08-21 18:39:30-07:00     United States  \n",
       "320 2022-08-21 18:39:32-07:00            Russia  \n",
       "343 2022-08-21 18:39:44-07:00            Canada  \n",
       "363 2022-08-21 18:39:54-07:00          Malaysia  \n",
       "419 2022-08-21 18:40:22-07:00     New Caledonia  \n",
       "564 2022-08-21 18:41:40-07:00  Papua New Guinea  "
      ]
     },
     "execution_count": 18,
     "metadata": {},
     "output_type": "execute_result"
    }
   ],
   "source": [
    "# This .loc was initially ran with humidity > 100% with no results.\n",
    "# Lowered humidity percent to verify .loc and to visually inspect the dataframe to confirm results.\n",
    "over_humid = city_weather.loc[city_weather[\"humidity\"] > 98]\n",
    "over_humid"
   ]
  },
  {
   "cell_type": "code",
   "execution_count": 19,
   "metadata": {},
   "outputs": [],
   "source": [
    "#  Get the indices of cities that have humidity over 100%.\n"
   ]
  },
  {
   "cell_type": "code",
   "execution_count": 20,
   "metadata": {},
   "outputs": [],
   "source": [
    "# Make a new DataFrame equal to the city data to drop all humidity outliers by index.\n",
    "# Passing \"inplace=False\" will make a copy of the city_data DataFrame, which we call \"clean_city_data\".\n"
   ]
  },
  {
   "cell_type": "code",
   "execution_count": null,
   "metadata": {},
   "outputs": [],
   "source": [
    "\n"
   ]
  },
  {
   "cell_type": "markdown",
   "metadata": {},
   "source": [
    "## Plotting the Data\n",
    "* Use proper labeling of the plots using plot titles (including date of analysis) and axes labels.\n",
    "* Save the plotted figures as .pngs."
   ]
  },
  {
   "cell_type": "markdown",
   "metadata": {},
   "source": [
    "## Latitude vs. Temperature Plot"
   ]
  },
  {
   "cell_type": "code",
   "execution_count": 21,
   "metadata": {},
   "outputs": [],
   "source": [
    "# USED SOLVED FROM 05-Ins_OpenWeatherDataFrame for these scatter plots."
   ]
  },
  {
   "cell_type": "code",
   "execution_count": 22,
   "metadata": {
    "scrolled": false
   },
   "outputs": [
    {
     "data": {
      "image/png": "[encoded data removed]",
      "text/plain": [
       "<Figure size 432x288 with 1 Axes>"
      ]
     },
     "metadata": {
      "needs_background": "light"
     },
     "output_type": "display_data"
    }
   ],
   "source": [
    "y_values = city_weather2['latitude']\n",
    "x_values = city_weather2['Max Temp']\n",
    "plt.scatter(x_values,y_values)\n",
    "\n",
    "# Label plot and annotate the line equation\n",
    "plt.ylabel('Latitude ($^\\circ$)')\n",
    "plt.xlabel('MAX Temperature ($^\\circ$F)')\n",
    "\n",
    "plt.title(\"MAX Temperature vs Latitude\")\n",
    "plt.savefig(\"fresh_output_data/MAX_Temp_vs_Latitude.pdf\")\n",
    "plt.savefig(\"fresh_output_data/MAX_Temp_vs_Latitude.png\")\n",
    "\n",
    "\n",
    "plt.show()"
   ]
  },
  {
   "cell_type": "markdown",
   "metadata": {},
   "source": [
    "### The temperature range from colder towards the North and South Poles to hotter near the Equator makes sense in this scatter plot."
   ]
  },
  {
   "cell_type": "markdown",
   "metadata": {},
   "source": [
    "## Latitude vs. Humidity Plot"
   ]
  },
  {
   "cell_type": "code",
   "execution_count": 23,
   "metadata": {
    "scrolled": true
   },
   "outputs": [
    {
     "data": {
      "image/png": "[encoded data removed]",
      "text/plain": [
       "<Figure size 432x288 with 1 Axes>"
      ]
     },
     "metadata": {
      "needs_background": "light"
     },
     "output_type": "display_data"
    }
   ],
   "source": [
    "y_values = city_weather2['latitude']\n",
    "x_values = city_weather2['humidity']\n",
    "plt.scatter(x_values,y_values)\n",
    "\n",
    "# Label plot and annotate the line equation\n",
    "plt.ylabel('Latitude ($^\\circ$)')\n",
    "plt.xlabel('Percent Humidity')\n",
    "\n",
    "plt.title(\"Percent Humidity vs Latitude\")\n",
    "plt.savefig(\"fresh_output_data/Percent_Humidity_vs_Latitude.pdf\")\n",
    "plt.savefig(\"fresh_output_data/Percent_Humidity_vs_Latitude.png\")\n",
    "plt.show()"
   ]
  },
  {
   "cell_type": "markdown",
   "metadata": {},
   "source": [
    "### This almost reflects population density.  The more extreme dry locations have fewer cities."
   ]
  },
  {
   "cell_type": "markdown",
   "metadata": {},
   "source": [
    "## Latitude vs. Cloudiness Plot"
   ]
  },
  {
   "cell_type": "code",
   "execution_count": 24,
   "metadata": {
    "scrolled": true
   },
   "outputs": [
    {
     "data": {
      "image/png": "[encoded data removed]",
      "text/plain": [
       "<Figure size 432x288 with 1 Axes>"
      ]
     },
     "metadata": {
      "needs_background": "light"
     },
     "output_type": "display_data"
    }
   ],
   "source": [
    "y_values = city_weather2['latitude']\n",
    "x_values = city_weather2['cloudiness']\n",
    "plt.scatter(x_values,y_values)\n",
    "\n",
    "# Label plot and annotate the line equation\n",
    "plt.ylabel('Latitude ($^\\circ$)')\n",
    "plt.xlabel('Percent Cloudiness')\n",
    "\n",
    "plt.title(\"Percent Cloudiness vs Latitude\")\n",
    "plt.savefig(\"fresh_output_data/Percent_Cloudiness_vs_Latitude.pdf\")\n",
    "plt.savefig(\"fresh_output_data/Percent_Cloudiness_vs_Latitude.png\")\n",
    "plt.show()"
   ]
  },
  {
   "cell_type": "markdown",
   "metadata": {},
   "source": [
    "### The density of 0% cloudy and 100% cloudy is really surprising in this plot.  Other than that, there appears to be no correlation between latitude and cloudiness."
   ]
  },
  {
   "cell_type": "markdown",
   "metadata": {},
   "source": [
    "## Latitude vs. Wind Speed Plot"
   ]
  },
  {
   "cell_type": "code",
   "execution_count": 25,
   "metadata": {
    "scrolled": true
   },
   "outputs": [
    {
     "data": {
      "image/png": "[encoded data removed]",
      "text/plain": [
       "<Figure size 432x288 with 1 Axes>"
      ]
     },
     "metadata": {
      "needs_background": "light"
     },
     "output_type": "display_data"
    }
   ],
   "source": [
    "y_values = city_weather2['latitude']\n",
    "x_values = city_weather2['wind speed']\n",
    "plt.scatter(x_values,y_values)\n",
    "\n",
    "# Label plot and annotate the line equation\n",
    "plt.ylabel('Latitude ($^\\circ$)')\n",
    "plt.xlabel('Wind Speed (mph)')\n",
    "\n",
    "plt.title(\"Wind Speed vs Latitude\")\n",
    "plt.savefig(\"fresh_output_data/Wind_Speed_vs_Latitude.pdf\")\n",
    "plt.savefig(\"fresh_output_data/Wind_Speed_vs_Latitude.png\")\n",
    "plt.show()"
   ]
  },
  {
   "cell_type": "markdown",
   "metadata": {},
   "source": [
    "### This shows wind speeds between 0 and 15 mph are pretty normal throughout the planet."
   ]
  },
  {
   "cell_type": "markdown",
   "metadata": {},
   "source": [
    "## Linear Regression"
   ]
  },
  {
   "cell_type": "code",
   "execution_count": 26,
   "metadata": {},
   "outputs": [],
   "source": [
    "# USED SOLVED FROM 07-Stu_Weather_Stats for these scatter plots with linear regression."
   ]
  },
  {
   "cell_type": "markdown",
   "metadata": {},
   "source": [
    "##  Northern Hemisphere - Linear Regressions and Correlations"
   ]
  },
  {
   "cell_type": "code",
   "execution_count": 27,
   "metadata": {
    "scrolled": true
   },
   "outputs": [
    {
     "data": {
      "text/html": [
       "<div>\n",
       "<style scoped>\n",
       "    .dataframe tbody tr th:only-of-type {\n",
       "        vertical-align: middle;\n",
       "    }\n",
       "\n",
       "    .dataframe tbody tr th {\n",
       "        vertical-align: top;\n",
       "    }\n",
       "\n",
       "    .dataframe thead th {\n",
       "        text-align: right;\n",
       "    }\n",
       "</style>\n",
       "<table border=\"1\" class=\"dataframe\">\n",
       "  <thead>\n",
       "    <tr style=\"text-align: right;\">\n",
       "      <th></th>\n",
       "      <th>city</th>\n",
       "      <th>latitude</th>\n",
       "      <th>longitude</th>\n",
       "      <th>Max Temp</th>\n",
       "      <th>humidity</th>\n",
       "      <th>Feels Like</th>\n",
       "      <th>cloudiness</th>\n",
       "      <th>wind speed</th>\n",
       "      <th>country name</th>\n",
       "      <th>date</th>\n",
       "    </tr>\n",
       "  </thead>\n",
       "  <tbody>\n",
       "    <tr>\n",
       "      <th>0</th>\n",
       "      <td>Yellowknife</td>\n",
       "      <td>62.4560</td>\n",
       "      <td>-114.3525</td>\n",
       "      <td>63.12</td>\n",
       "      <td>59</td>\n",
       "      <td>61.92</td>\n",
       "      <td>75</td>\n",
       "      <td>8.05</td>\n",
       "      <td>Canada</td>\n",
       "      <td>2022-08-21 18:35:20-07:00</td>\n",
       "    </tr>\n",
       "    <tr>\n",
       "      <th>2</th>\n",
       "      <td>Jamestown</td>\n",
       "      <td>42.0970</td>\n",
       "      <td>-79.2353</td>\n",
       "      <td>79.05</td>\n",
       "      <td>59</td>\n",
       "      <td>76.98</td>\n",
       "      <td>100</td>\n",
       "      <td>5.75</td>\n",
       "      <td>United States</td>\n",
       "      <td>2022-08-21 18:36:37-07:00</td>\n",
       "    </tr>\n",
       "    <tr>\n",
       "      <th>3</th>\n",
       "      <td>Foki</td>\n",
       "      <td>56.6930</td>\n",
       "      <td>54.3499</td>\n",
       "      <td>63.41</td>\n",
       "      <td>72</td>\n",
       "      <td>62.83</td>\n",
       "      <td>0</td>\n",
       "      <td>3.98</td>\n",
       "      <td>Russia</td>\n",
       "      <td>2022-08-21 18:36:37-07:00</td>\n",
       "    </tr>\n",
       "    <tr>\n",
       "      <th>5</th>\n",
       "      <td>Ternate</td>\n",
       "      <td>0.8000</td>\n",
       "      <td>127.4000</td>\n",
       "      <td>79.63</td>\n",
       "      <td>81</td>\n",
       "      <td>79.63</td>\n",
       "      <td>63</td>\n",
       "      <td>2.53</td>\n",
       "      <td>Indonesia</td>\n",
       "      <td>2022-08-21 18:36:38-07:00</td>\n",
       "    </tr>\n",
       "    <tr>\n",
       "      <th>7</th>\n",
       "      <td>Dikson</td>\n",
       "      <td>73.5069</td>\n",
       "      <td>80.5464</td>\n",
       "      <td>43.05</td>\n",
       "      <td>95</td>\n",
       "      <td>36.72</td>\n",
       "      <td>100</td>\n",
       "      <td>11.92</td>\n",
       "      <td>Russia</td>\n",
       "      <td>2022-08-21 18:33:10-07:00</td>\n",
       "    </tr>\n",
       "  </tbody>\n",
       "</table>\n",
       "</div>"
      ],
      "text/plain": [
       "          city  latitude  longitude  Max Temp  humidity  Feels Like  \\\n",
       "0  Yellowknife   62.4560  -114.3525     63.12        59       61.92   \n",
       "2    Jamestown   42.0970   -79.2353     79.05        59       76.98   \n",
       "3         Foki   56.6930    54.3499     63.41        72       62.83   \n",
       "5      Ternate    0.8000   127.4000     79.63        81       79.63   \n",
       "7       Dikson   73.5069    80.5464     43.05        95       36.72   \n",
       "\n",
       "   cloudiness  wind speed   country name                      date  \n",
       "0          75        8.05         Canada 2022-08-21 18:35:20-07:00  \n",
       "2         100        5.75  United States 2022-08-21 18:36:37-07:00  \n",
       "3           0        3.98         Russia 2022-08-21 18:36:37-07:00  \n",
       "5          63        2.53      Indonesia 2022-08-21 18:36:38-07:00  \n",
       "7         100       11.92         Russia 2022-08-21 18:33:10-07:00  "
      ]
     },
     "execution_count": 27,
     "metadata": {},
     "output_type": "execute_result"
    }
   ],
   "source": [
    "northern_lat = city_weather2.loc[city_weather2[\"latitude\"] > 0, :]\n",
    "northern_lat.head()"
   ]
  },
  {
   "cell_type": "markdown",
   "metadata": {},
   "source": [
    "####  Northern Hemisphere - Max Temp vs. Latitude Linear Regression"
   ]
  },
  {
   "cell_type": "code",
   "execution_count": 28,
   "metadata": {},
   "outputs": [
    {
     "data": {
      "image/png": "[encoded data removed]",
      "text/plain": [
       "<Figure size 432x288 with 1 Axes>"
      ]
     },
     "metadata": {
      "needs_background": "light"
     },
     "output_type": "display_data"
    }
   ],
   "source": [
    "y_values = northern_lat['latitude']\n",
    "x_values = northern_lat['Max Temp']\n",
    "plt.scatter(x_values,y_values)\n",
    "plt.ylabel('Latitude')\n",
    "plt.xlabel('Temperature')\n",
    "plt.show()"
   ]
  },
  {
   "cell_type": "code",
   "execution_count": 29,
   "metadata": {
    "scrolled": false
   },
   "outputs": [
    {
     "name": "stdout",
     "output_type": "stream",
     "text": [
      "0      45.768771\n",
      "2      30.985083\n",
      "3      45.499639\n",
      "5      30.446819\n",
      "7      64.394548\n",
      "         ...    \n",
      "587    44.766487\n",
      "588    34.428114\n",
      "589    18.224524\n",
      "590    42.808321\n",
      "591    67.837579\n",
      "Name: Max Temp, Length: 411, dtype: float64\n"
     ]
    }
   ],
   "source": [
    "# Perform a linear regression on temperature vs. latitude\n",
    "(slope, intercept, rvalue, pvalue, stderr) = stats.linregress(x_values, y_values)\n",
    "\n",
    "# Get regression values\n",
    "regress_values = x_values * slope + intercept\n",
    "print(regress_values)"
   ]
  },
  {
   "cell_type": "code",
   "execution_count": 30,
   "metadata": {},
   "outputs": [
    {
     "data": {
      "text/plain": [
       "'0.50256'"
      ]
     },
     "execution_count": 30,
     "metadata": {},
     "output_type": "execute_result"
    }
   ],
   "source": [
    "max_temp_correlation = str(round(rvalue**2, 6))\n",
    "max_temp_correlation"
   ]
  },
  {
   "cell_type": "code",
   "execution_count": 31,
   "metadata": {},
   "outputs": [
    {
     "name": "stdout",
     "output_type": "stream",
     "text": [
      "y = -0.93x +104.35\n"
     ]
    }
   ],
   "source": [
    "# Create line equation string\n",
    "line_eq = \"y = \" + str(round(slope,2)) + \"x +\" + str(round(intercept,2))\n",
    "print(line_eq)"
   ]
  },
  {
   "cell_type": "code",
   "execution_count": 32,
   "metadata": {
    "scrolled": true
   },
   "outputs": [
    {
     "name": "stdout",
     "output_type": "stream",
     "text": [
      "The r-value is: 0.5025600971490071\n"
     ]
    },
    {
     "data": {
      "image/png": "[encoded data removed]",
      "text/plain": [
       "<Figure size 432x288 with 1 Axes>"
      ]
     },
     "metadata": {
      "needs_background": "light"
     },
     "output_type": "display_data"
    }
   ],
   "source": [
    "# Create Plot\n",
    "y_values = northern_lat['latitude']\n",
    "x_values = northern_lat['Max Temp']\n",
    "plt.scatter(x_values,y_values)\n",
    "plt.plot(x_values,regress_values,\"r-\")\n",
    "\n",
    "# Label plot and annotate the line equation\n",
    "plt.ylabel('Latitude ($^\\circ$N)')\n",
    "plt.xlabel('MAX Temperature ($^\\circ$F)')\n",
    "plt.annotate(line_eq,xy=(180,180), xycoords='axes pixels',fontsize=15,color=\"red\")\n",
    "\n",
    "plt.title(\"Northern Hemisphere MAX Temperature vs Latitude\\nr-value is \" +max_temp_correlation+ \" (Strong Negative Correlation)\")\n",
    "plt.savefig(\"fresh_output_data/Northern_Hemisphere_MAX_Temp_vs_Latitude.pdf\")\n",
    "plt.savefig(\"fresh_output_data/Northern_Hemisphere_MAX_Temp_vs_Latitude.png\")\n",
    "\n",
    "# Print r value\n",
    "print(f\"The r-value is: {rvalue**2}\")\n",
    "\n",
    "# Show plot\n",
    "plt.show()"
   ]
  },
  {
   "cell_type": "markdown",
   "metadata": {},
   "source": [
    "### This shows a strong negative correlation between temperature and latitude.  As the Northern latitude numbers gets lower (towards the Equator), the temperature increases."
   ]
  },
  {
   "cell_type": "markdown",
   "metadata": {},
   "source": [
    "####  Northern Hemisphere - Humidity (%) vs. Latitude Linear Regression"
   ]
  },
  {
   "cell_type": "code",
   "execution_count": 33,
   "metadata": {
    "scrolled": true
   },
   "outputs": [
    {
     "data": {
      "text/html": [
       "<div>\n",
       "<style scoped>\n",
       "    .dataframe tbody tr th:only-of-type {\n",
       "        vertical-align: middle;\n",
       "    }\n",
       "\n",
       "    .dataframe tbody tr th {\n",
       "        vertical-align: top;\n",
       "    }\n",
       "\n",
       "    .dataframe thead th {\n",
       "        text-align: right;\n",
       "    }\n",
       "</style>\n",
       "<table border=\"1\" class=\"dataframe\">\n",
       "  <thead>\n",
       "    <tr style=\"text-align: right;\">\n",
       "      <th></th>\n",
       "      <th>city</th>\n",
       "      <th>latitude</th>\n",
       "      <th>longitude</th>\n",
       "      <th>Max Temp</th>\n",
       "      <th>humidity</th>\n",
       "      <th>Feels Like</th>\n",
       "      <th>cloudiness</th>\n",
       "      <th>wind speed</th>\n",
       "      <th>country name</th>\n",
       "      <th>date</th>\n",
       "    </tr>\n",
       "  </thead>\n",
       "  <tbody>\n",
       "    <tr>\n",
       "      <th>0</th>\n",
       "      <td>Yellowknife</td>\n",
       "      <td>62.4560</td>\n",
       "      <td>-114.3525</td>\n",
       "      <td>63.12</td>\n",
       "      <td>59</td>\n",
       "      <td>61.92</td>\n",
       "      <td>75</td>\n",
       "      <td>8.05</td>\n",
       "      <td>Canada</td>\n",
       "      <td>2022-08-21 18:35:20-07:00</td>\n",
       "    </tr>\n",
       "    <tr>\n",
       "      <th>2</th>\n",
       "      <td>Jamestown</td>\n",
       "      <td>42.0970</td>\n",
       "      <td>-79.2353</td>\n",
       "      <td>79.05</td>\n",
       "      <td>59</td>\n",
       "      <td>76.98</td>\n",
       "      <td>100</td>\n",
       "      <td>5.75</td>\n",
       "      <td>United States</td>\n",
       "      <td>2022-08-21 18:36:37-07:00</td>\n",
       "    </tr>\n",
       "    <tr>\n",
       "      <th>3</th>\n",
       "      <td>Foki</td>\n",
       "      <td>56.6930</td>\n",
       "      <td>54.3499</td>\n",
       "      <td>63.41</td>\n",
       "      <td>72</td>\n",
       "      <td>62.83</td>\n",
       "      <td>0</td>\n",
       "      <td>3.98</td>\n",
       "      <td>Russia</td>\n",
       "      <td>2022-08-21 18:36:37-07:00</td>\n",
       "    </tr>\n",
       "    <tr>\n",
       "      <th>5</th>\n",
       "      <td>Ternate</td>\n",
       "      <td>0.8000</td>\n",
       "      <td>127.4000</td>\n",
       "      <td>79.63</td>\n",
       "      <td>81</td>\n",
       "      <td>79.63</td>\n",
       "      <td>63</td>\n",
       "      <td>2.53</td>\n",
       "      <td>Indonesia</td>\n",
       "      <td>2022-08-21 18:36:38-07:00</td>\n",
       "    </tr>\n",
       "    <tr>\n",
       "      <th>7</th>\n",
       "      <td>Dikson</td>\n",
       "      <td>73.5069</td>\n",
       "      <td>80.5464</td>\n",
       "      <td>43.05</td>\n",
       "      <td>95</td>\n",
       "      <td>36.72</td>\n",
       "      <td>100</td>\n",
       "      <td>11.92</td>\n",
       "      <td>Russia</td>\n",
       "      <td>2022-08-21 18:33:10-07:00</td>\n",
       "    </tr>\n",
       "  </tbody>\n",
       "</table>\n",
       "</div>"
      ],
      "text/plain": [
       "          city  latitude  longitude  Max Temp  humidity  Feels Like  \\\n",
       "0  Yellowknife   62.4560  -114.3525     63.12        59       61.92   \n",
       "2    Jamestown   42.0970   -79.2353     79.05        59       76.98   \n",
       "3         Foki   56.6930    54.3499     63.41        72       62.83   \n",
       "5      Ternate    0.8000   127.4000     79.63        81       79.63   \n",
       "7       Dikson   73.5069    80.5464     43.05        95       36.72   \n",
       "\n",
       "   cloudiness  wind speed   country name                      date  \n",
       "0          75        8.05         Canada 2022-08-21 18:35:20-07:00  \n",
       "2         100        5.75  United States 2022-08-21 18:36:37-07:00  \n",
       "3           0        3.98         Russia 2022-08-21 18:36:37-07:00  \n",
       "5          63        2.53      Indonesia 2022-08-21 18:36:38-07:00  \n",
       "7         100       11.92         Russia 2022-08-21 18:33:10-07:00  "
      ]
     },
     "execution_count": 33,
     "metadata": {},
     "output_type": "execute_result"
    }
   ],
   "source": [
    "northern_lat = city_weather2.loc[city_weather2[\"latitude\"] > 0, :]\n",
    "northern_lat.head()"
   ]
  },
  {
   "cell_type": "code",
   "execution_count": 34,
   "metadata": {},
   "outputs": [
    {
     "data": {
      "image/png": "[encoded data removed]",
      "text/plain": [
       "<Figure size 432x288 with 1 Axes>"
      ]
     },
     "metadata": {
      "needs_background": "light"
     },
     "output_type": "display_data"
    }
   ],
   "source": [
    "# Create Plot\n",
    "y_values = northern_lat['latitude']\n",
    "x_values = northern_lat['humidity']\n",
    "plt.scatter(x_values,y_values)\n",
    "\n",
    "# Label plot and annotate the line equation\n",
    "plt.ylabel('Latitude')\n",
    "plt.xlabel('humidity')\n",
    "\n",
    "# Show plot\n",
    "plt.show()\n"
   ]
  },
  {
   "cell_type": "code",
   "execution_count": 35,
   "metadata": {
    "scrolled": true
   },
   "outputs": [
    {
     "name": "stdout",
     "output_type": "stream",
     "text": [
      "0      37.935896\n",
      "2      37.935896\n",
      "3      38.816904\n",
      "5      39.426834\n",
      "7      40.375612\n",
      "         ...    \n",
      "587    38.478055\n",
      "588    40.307842\n",
      "589    35.157330\n",
      "590    38.613595\n",
      "591    36.580498\n",
      "Name: humidity, Length: 411, dtype: float64\n"
     ]
    }
   ],
   "source": [
    "# Perform a linear regression on humidity vs. latitude\n",
    "(slope, intercept, rvalue, pvalue, stderr) = stats.linregress(x_values, y_values)\n",
    "\n",
    "# Get regression values\n",
    "regress_values = x_values * slope + intercept\n",
    "print(regress_values)"
   ]
  },
  {
   "cell_type": "code",
   "execution_count": 36,
   "metadata": {},
   "outputs": [
    {
     "data": {
      "text/plain": [
       "'0.005198'"
      ]
     },
     "execution_count": 36,
     "metadata": {},
     "output_type": "execute_result"
    }
   ],
   "source": [
    "humidity_correlation = str(round(rvalue**2, 6))\n",
    "humidity_correlation"
   ]
  },
  {
   "cell_type": "code",
   "execution_count": 37,
   "metadata": {},
   "outputs": [
    {
     "name": "stdout",
     "output_type": "stream",
     "text": [
      "y = 0.07x +33.94\n"
     ]
    }
   ],
   "source": [
    "# Create line equation string\n",
    "line_eq = \"y = \" + str(round(slope,2)) + \"x +\" + str(round(intercept,2))\n",
    "print(line_eq)"
   ]
  },
  {
   "cell_type": "code",
   "execution_count": 38,
   "metadata": {
    "scrolled": true
   },
   "outputs": [
    {
     "name": "stdout",
     "output_type": "stream",
     "text": [
      "The r-value is: 0.0051977928603004035\n"
     ]
    },
    {
     "data": {
      "image/png": "[encoded data removed]",
      "text/plain": [
       "<Figure size 432x288 with 1 Axes>"
      ]
     },
     "metadata": {
      "needs_background": "light"
     },
     "output_type": "display_data"
    }
   ],
   "source": [
    "# Create Plot\n",
    "y_values = northern_lat['latitude']\n",
    "x_values = northern_lat['humidity']\n",
    "plt.scatter(x_values,y_values)\n",
    "plt.plot(x_values,regress_values,\"r-\")\n",
    "\n",
    "# Label plot and annotate the line equation\n",
    "plt.ylabel('Latitude ($^\\circ$N)')\n",
    "plt.xlabel('Percent Humidity')\n",
    "plt.annotate(line_eq, xy=(15,22), xycoords='axes pixels',fontsize=15,color=\"red\")\n",
    "\n",
    "plt.title(\"Northern Hemisphere Percent Humidity vs Latitude\\nr-value is \" +humidity_correlation+ \" (No Correlation)\")\n",
    "plt.savefig(\"fresh_output_data/Northern_Hemisphere_Percent_Humidity_vs_Latitude.pdf\")\n",
    "plt.savefig(\"fresh_output_data/Northern_Hemisphere_Percent_Humidity_vs_Latitude.png\")\n",
    "\n",
    "# Print r value\n",
    "print(f\"The r-value is: {rvalue**2}\")\n",
    "\n",
    "# Show plot\n",
    "plt.show()"
   ]
  },
  {
   "cell_type": "markdown",
   "metadata": {},
   "source": [
    "### The linear regression shows no correlation between percent humidity amd latitude."
   ]
  },
  {
   "cell_type": "markdown",
   "metadata": {},
   "source": [
    "####  Northern Hemisphere - Cloudiness (%) vs. Latitude Linear Regression"
   ]
  },
  {
   "cell_type": "code",
   "execution_count": 39,
   "metadata": {
    "scrolled": true
   },
   "outputs": [
    {
     "data": {
      "image/png": "[encoded data removed]",
      "text/plain": [
       "<Figure size 432x288 with 1 Axes>"
      ]
     },
     "metadata": {
      "needs_background": "light"
     },
     "output_type": "display_data"
    }
   ],
   "source": [
    "# Create Plot\n",
    "y_values = northern_lat['latitude']\n",
    "x_values = northern_lat['cloudiness']\n",
    "plt.scatter(x_values,y_values)\n",
    "\n",
    "# Label plot and annotate the line equation\n",
    "plt.ylabel('Latitude')\n",
    "plt.xlabel('Percent Cloudy')\n",
    "\n",
    "# Show plot\n",
    "plt.show()"
   ]
  },
  {
   "cell_type": "code",
   "execution_count": 40,
   "metadata": {
    "scrolled": true
   },
   "outputs": [
    {
     "name": "stdout",
     "output_type": "stream",
     "text": [
      "0      38.417822\n",
      "2      37.951479\n",
      "3      39.816853\n",
      "5      38.641667\n",
      "7      37.951479\n",
      "         ...    \n",
      "587    38.473784\n",
      "588    37.951479\n",
      "589    39.816853\n",
      "590    39.518393\n",
      "591    39.816853\n",
      "Name: cloudiness, Length: 411, dtype: float64\n"
     ]
    }
   ],
   "source": [
    "# Perform a linear regression on cloudiness vs. latitude\n",
    "(slope, intercept, rvalue, pvalue, stderr) = stats.linregress(x_values, y_values)\n",
    "\n",
    "# Get regression values\n",
    "regress_values = x_values * slope + intercept\n",
    "print(regress_values)"
   ]
  },
  {
   "cell_type": "code",
   "execution_count": 41,
   "metadata": {},
   "outputs": [
    {
     "data": {
      "text/plain": [
       "'0.001448'"
      ]
     },
     "execution_count": 41,
     "metadata": {},
     "output_type": "execute_result"
    }
   ],
   "source": [
    "cloudiness_correlation = str(round(rvalue**2, 6))\n",
    "cloudiness_correlation"
   ]
  },
  {
   "cell_type": "code",
   "execution_count": 42,
   "metadata": {},
   "outputs": [
    {
     "name": "stdout",
     "output_type": "stream",
     "text": [
      "y = -0.02x +39.82\n"
     ]
    }
   ],
   "source": [
    "# Create line equation string\n",
    "line_eq = \"y = \" + str(round(slope,2)) + \"x +\" + str(round(intercept,2))\n",
    "print(line_eq)"
   ]
  },
  {
   "cell_type": "code",
   "execution_count": 43,
   "metadata": {},
   "outputs": [
    {
     "name": "stdout",
     "output_type": "stream",
     "text": [
      "The r-value is: 0.0014480547353237017\n"
     ]
    },
    {
     "data": {
      "image/png": "[encoded data removed]",
      "text/plain": [
       "<Figure size 432x288 with 1 Axes>"
      ]
     },
     "metadata": {
      "needs_background": "light"
     },
     "output_type": "display_data"
    }
   ],
   "source": [
    "# Create Plot\n",
    "y_values = northern_lat['latitude']\n",
    "x_values = northern_lat['cloudiness']\n",
    "plt.scatter(x_values,y_values)\n",
    "plt.plot(x_values,regress_values,\"r-\")\n",
    "\n",
    "# Label plot and annotate the line equation\n",
    "plt.ylabel('Latitude ($^\\circ$N)')\n",
    "plt.xlabel('Percent Cloudiness')\n",
    "plt.annotate(line_eq,xy=(100,110), xycoords='axes pixels',fontsize=15,color=\"red\")\n",
    "\n",
    "plt.title(\"Northern Hemisphere Percent Cloudiness vs Latitude\\nr-value is \" +cloudiness_correlation+ \" (No Correlation)\")\n",
    "plt.savefig(\"fresh_output_data/Northern_Hemisphere_Percent_Cloudiness_vs_Latitude.pdf\")\n",
    "plt.savefig(\"fresh_output_data/Northern_Hemisphere_Percent_Cloudiness_vs_Latitude.png\")\n",
    "\n",
    "# Print r value\n",
    "print(f\"The r-value is: {rvalue**2}\")\n",
    "\n",
    "# Show plot\n",
    "plt.show()"
   ]
  },
  {
   "cell_type": "markdown",
   "metadata": {},
   "source": [
    "### There shows no correlation between percent cloudiness and latitude."
   ]
  },
  {
   "cell_type": "markdown",
   "metadata": {},
   "source": [
    "####  Northern Hemisphere - Wind Speed (mph) vs. Latitude Linear Regression"
   ]
  },
  {
   "cell_type": "code",
   "execution_count": 44,
   "metadata": {},
   "outputs": [
    {
     "data": {
      "image/png": "[encoded data removed]",
      "text/plain": [
       "<Figure size 432x288 with 1 Axes>"
      ]
     },
     "metadata": {
      "needs_background": "light"
     },
     "output_type": "display_data"
    }
   ],
   "source": [
    "# Create Plot                                         \n",
    "y_values = northern_lat['latitude']\n",
    "x_values = northern_lat['wind speed']              # variable is wind speed\n",
    "plt.scatter(x_values,y_values)\n",
    "\n",
    "# Label plot and annotate the line equation\n",
    "plt.ylabel('Latitude')\n",
    "plt.xlabel('wind speed')                          # variable is wind speed\n",
    "\n",
    "# Show plot\n",
    "plt.show()"
   ]
  },
  {
   "cell_type": "code",
   "execution_count": 45,
   "metadata": {
    "scrolled": true
   },
   "outputs": [
    {
     "name": "stdout",
     "output_type": "stream",
     "text": [
      "0      38.624347\n",
      "2      39.091576\n",
      "3      39.451140\n",
      "5      39.745697\n",
      "7      37.838182\n",
      "         ...    \n",
      "587    39.308939\n",
      "588    39.323159\n",
      "589    38.760453\n",
      "590    39.327222\n",
      "591    39.363788\n",
      "Name: wind speed, Length: 411, dtype: float64\n"
     ]
    }
   ],
   "source": [
    "# Perform a linear regression on wind speed vs. latitude                          # variable is wind speed\n",
    "(slope, intercept, rvalue, pvalue, stderr) = stats.linregress(x_values, y_values)\n",
    "\n",
    "# Get regression values\n",
    "regress_values = x_values * slope + intercept\n",
    "print(regress_values)"
   ]
  },
  {
   "cell_type": "code",
   "execution_count": 46,
   "metadata": {},
   "outputs": [
    {
     "data": {
      "text/plain": [
       "'0.002449'"
      ]
     },
     "execution_count": 46,
     "metadata": {},
     "output_type": "execute_result"
    }
   ],
   "source": [
    "wind_correlation = str(round(rvalue**2, 6))\n",
    "wind_correlation"
   ]
  },
  {
   "cell_type": "code",
   "execution_count": 47,
   "metadata": {},
   "outputs": [
    {
     "name": "stdout",
     "output_type": "stream",
     "text": [
      "y = -0.2x +40.26\n"
     ]
    }
   ],
   "source": [
    "# Create line equation string\n",
    "line_eq = \"y = \" + str(round(slope,2)) + \"x +\" + str(round(intercept,2))\n",
    "print(line_eq)"
   ]
  },
  {
   "cell_type": "code",
   "execution_count": 48,
   "metadata": {
    "scrolled": true
   },
   "outputs": [
    {
     "name": "stdout",
     "output_type": "stream",
     "text": [
      "The r-value is: 0.0024494499376196536\n"
     ]
    },
    {
     "data": {
      "image/png": "[encoded data removed]",
      "text/plain": [
       "<Figure size 432x288 with 1 Axes>"
      ]
     },
     "metadata": {
      "needs_background": "light"
     },
     "output_type": "display_data"
    }
   ],
   "source": [
    "# Create Plot\n",
    "y_values = northern_lat['latitude']\n",
    "x_values = northern_lat['wind speed']               # variable is wind speed\n",
    "plt.scatter(x_values,y_values)\n",
    "plt.plot(x_values,regress_values,\"r-\")\n",
    "\n",
    "# Label plot and annotate the line equation\n",
    "plt.ylabel('Latitude ($^\\circ$N)')\n",
    "plt.xlabel('Wind Speed (mph)')                            # variable is wind speed\n",
    "plt.annotate(line_eq,xy=(100,200), xycoords='axes pixels',fontsize=15,color=\"red\")\n",
    "\n",
    "plt.title(\"Northern Hemisphere Wind Speed vs Latitude\\nr-value is \" +wind_correlation+ \" (No Correlation)\")\n",
    "plt.savefig(\"fresh_output_data/Northern_Hemisphere_Wind-Speed_vs_Latitude.pdf\")\n",
    "plt.savefig(\"fresh_output_data/Northern_Hemisphere_Wind-Speed_vs_Latitude.png\")\n",
    "\n",
    "\n",
    "\n",
    "# Print r value\n",
    "print(f\"The r-value is: {rvalue**2}\")\n",
    "\n",
    "# Show plot\n",
    "plt.show()"
   ]
  },
  {
   "cell_type": "markdown",
   "metadata": {},
   "source": [
    "### Linear regression shows no correlation between wind speed and latitude."
   ]
  },
  {
   "cell_type": "markdown",
   "metadata": {},
   "source": [
    "##  Southern Hemisphere - Linear Regressions and Correlations"
   ]
  },
  {
   "cell_type": "code",
   "execution_count": 49,
   "metadata": {
    "scrolled": true
   },
   "outputs": [
    {
     "data": {
      "text/html": [
       "<div>\n",
       "<style scoped>\n",
       "    .dataframe tbody tr th:only-of-type {\n",
       "        vertical-align: middle;\n",
       "    }\n",
       "\n",
       "    .dataframe tbody tr th {\n",
       "        vertical-align: top;\n",
       "    }\n",
       "\n",
       "    .dataframe thead th {\n",
       "        text-align: right;\n",
       "    }\n",
       "</style>\n",
       "<table border=\"1\" class=\"dataframe\">\n",
       "  <thead>\n",
       "    <tr style=\"text-align: right;\">\n",
       "      <th></th>\n",
       "      <th>city</th>\n",
       "      <th>latitude</th>\n",
       "      <th>longitude</th>\n",
       "      <th>Max Temp</th>\n",
       "      <th>humidity</th>\n",
       "      <th>Feels Like</th>\n",
       "      <th>cloudiness</th>\n",
       "      <th>wind speed</th>\n",
       "      <th>country name</th>\n",
       "      <th>date</th>\n",
       "    </tr>\n",
       "  </thead>\n",
       "  <tbody>\n",
       "    <tr>\n",
       "      <th>1</th>\n",
       "      <td>Alausí</td>\n",
       "      <td>-2.2000</td>\n",
       "      <td>-78.8333</td>\n",
       "      <td>54.57</td>\n",
       "      <td>70</td>\n",
       "      <td>53.02</td>\n",
       "      <td>78</td>\n",
       "      <td>2.42</td>\n",
       "      <td>Ecuador</td>\n",
       "      <td>2022-08-21 18:36:33-07:00</td>\n",
       "    </tr>\n",
       "    <tr>\n",
       "      <th>4</th>\n",
       "      <td>Hermanus</td>\n",
       "      <td>-34.4187</td>\n",
       "      <td>19.2345</td>\n",
       "      <td>55.80</td>\n",
       "      <td>84</td>\n",
       "      <td>55.02</td>\n",
       "      <td>0</td>\n",
       "      <td>11.30</td>\n",
       "      <td>South Africa</td>\n",
       "      <td>2022-08-21 18:36:38-07:00</td>\n",
       "    </tr>\n",
       "    <tr>\n",
       "      <th>6</th>\n",
       "      <td>Avarua</td>\n",
       "      <td>-21.2078</td>\n",
       "      <td>-159.7750</td>\n",
       "      <td>73.45</td>\n",
       "      <td>83</td>\n",
       "      <td>74.41</td>\n",
       "      <td>100</td>\n",
       "      <td>8.05</td>\n",
       "      <td>Cook Islands</td>\n",
       "      <td>2022-08-21 18:36:39-07:00</td>\n",
       "    </tr>\n",
       "    <tr>\n",
       "      <th>14</th>\n",
       "      <td>Acaraú</td>\n",
       "      <td>-2.8856</td>\n",
       "      <td>-40.1200</td>\n",
       "      <td>85.78</td>\n",
       "      <td>52</td>\n",
       "      <td>88.14</td>\n",
       "      <td>43</td>\n",
       "      <td>18.05</td>\n",
       "      <td>Brazil</td>\n",
       "      <td>2022-08-21 18:36:43-07:00</td>\n",
       "    </tr>\n",
       "    <tr>\n",
       "      <th>15</th>\n",
       "      <td>Rikitea</td>\n",
       "      <td>-23.1203</td>\n",
       "      <td>-134.9692</td>\n",
       "      <td>71.49</td>\n",
       "      <td>73</td>\n",
       "      <td>71.78</td>\n",
       "      <td>100</td>\n",
       "      <td>17.29</td>\n",
       "      <td>French Polynesia</td>\n",
       "      <td>2022-08-21 18:36:44-07:00</td>\n",
       "    </tr>\n",
       "  </tbody>\n",
       "</table>\n",
       "</div>"
      ],
      "text/plain": [
       "        city  latitude  longitude  Max Temp  humidity  Feels Like  cloudiness  \\\n",
       "1     Alausí   -2.2000   -78.8333     54.57        70       53.02          78   \n",
       "4   Hermanus  -34.4187    19.2345     55.80        84       55.02           0   \n",
       "6     Avarua  -21.2078  -159.7750     73.45        83       74.41         100   \n",
       "14    Acaraú   -2.8856   -40.1200     85.78        52       88.14          43   \n",
       "15   Rikitea  -23.1203  -134.9692     71.49        73       71.78         100   \n",
       "\n",
       "    wind speed      country name                      date  \n",
       "1         2.42           Ecuador 2022-08-21 18:36:33-07:00  \n",
       "4        11.30      South Africa 2022-08-21 18:36:38-07:00  \n",
       "6         8.05      Cook Islands 2022-08-21 18:36:39-07:00  \n",
       "14       18.05            Brazil 2022-08-21 18:36:43-07:00  \n",
       "15       17.29  French Polynesia 2022-08-21 18:36:44-07:00  "
      ]
     },
     "execution_count": 49,
     "metadata": {},
     "output_type": "execute_result"
    }
   ],
   "source": [
    "southern_lat = city_weather2.loc[city_weather2[\"latitude\"] < 0, :]\n",
    "southern_lat.head()"
   ]
  },
  {
   "cell_type": "markdown",
   "metadata": {},
   "source": [
    "####  Southern Hemisphere - Max Temp vs. Latitude Linear Regression"
   ]
  },
  {
   "cell_type": "code",
   "execution_count": 50,
   "metadata": {},
   "outputs": [
    {
     "data": {
      "image/png": "[encoded data removed]",
      "text/plain": [
       "<Figure size 432x288 with 1 Axes>"
      ]
     },
     "metadata": {
      "needs_background": "light"
     },
     "output_type": "display_data"
    }
   ],
   "source": [
    "y_values = southern_lat['latitude']\n",
    "x_values = southern_lat['Max Temp']\n",
    "plt.scatter(x_values,y_values)\n",
    "plt.ylabel('Latitude')\n",
    "plt.xlabel('Temperature')\n",
    "plt.show()"
   ]
  },
  {
   "cell_type": "code",
   "execution_count": 51,
   "metadata": {
    "scrolled": true
   },
   "outputs": [
    {
     "name": "stdout",
     "output_type": "stream",
     "text": [
      "1     -30.344253\n",
      "4     -29.330536\n",
      "6     -14.784113\n",
      "14     -4.622220\n",
      "15    -16.399466\n",
      "         ...    \n",
      "575   -28.399235\n",
      "577     2.440830\n",
      "579   -31.184896\n",
      "581   -45.871426\n",
      "585   -25.374568\n",
      "Name: Max Temp, Length: 181, dtype: float64\n"
     ]
    }
   ],
   "source": [
    "# Perform a linear regression on temperature vs. latitude\n",
    "(slope, intercept, rvalue, pvalue, stderr) = stats.linregress(x_values, y_values)\n",
    "\n",
    "# Get regression values\n",
    "regress_values = x_values * slope + intercept\n",
    "print(regress_values)"
   ]
  },
  {
   "cell_type": "code",
   "execution_count": 52,
   "metadata": {},
   "outputs": [
    {
     "data": {
      "text/plain": [
       "'0.560931'"
      ]
     },
     "execution_count": 52,
     "metadata": {},
     "output_type": "execute_result"
    }
   ],
   "source": [
    "max_temp_correlation = str(round(rvalue**2, 6))\n",
    "max_temp_correlation"
   ]
  },
  {
   "cell_type": "code",
   "execution_count": 53,
   "metadata": {},
   "outputs": [
    {
     "name": "stdout",
     "output_type": "stream",
     "text": [
      "y = 0.82x +-75.32\n"
     ]
    }
   ],
   "source": [
    "# Create line equation string\n",
    "line_eq = \"y = \" + str(round(slope,2)) + \"x +\" + str(round(intercept,2))\n",
    "print(line_eq)"
   ]
  },
  {
   "cell_type": "code",
   "execution_count": 54,
   "metadata": {
    "scrolled": true
   },
   "outputs": [
    {
     "name": "stdout",
     "output_type": "stream",
     "text": [
      "The r-value is: 0.5609307970378216\n"
     ]
    },
    {
     "data": {
      "image/png": "[encoded data removed]",
      "text/plain": [
       "<Figure size 432x288 with 1 Axes>"
      ]
     },
     "metadata": {
      "needs_background": "light"
     },
     "output_type": "display_data"
    }
   ],
   "source": [
    "# Create Plot\n",
    "y_values = southern_lat['latitude']\n",
    "x_values = southern_lat['Max Temp']\n",
    "plt.scatter(x_values,y_values)\n",
    "plt.plot(x_values,regress_values,\"r-\")\n",
    "\n",
    "line_eq = \"y = \" + str(round(slope,2)) + \"x +\" + str(round(intercept,2))\n",
    "\n",
    "\n",
    "# Label plot and annotate the line equation\n",
    "plt.ylabel('Latitude ($^\\circ$S)')\n",
    "plt.xlabel('MAX Temperature ($^\\circ$F)')\n",
    "plt.annotate(line_eq,xy=(20,170), xycoords='axes pixels',fontsize=15,color=\"red\")\n",
    "\n",
    "plt.title(\"Southern Hemisphere MAX Temperature vs Latitude\\nr-value is \" +max_temp_correlation+ \" (Strong Positive Correlation)\")\n",
    "plt.savefig(\"fresh_output_data/Southern_Hemisphere_MAX_Temp_vs_Latitude.pdf\")\n",
    "plt.savefig(\"fresh_output_data/Southern_Hemisphere_MAX_Temp_vs_Latitude.png\")\n",
    "\n",
    "# Print r value\n",
    "print(f\"The r-value is: {rvalue**2}\")\n",
    "\n",
    "# Show plot\n",
    "#plt.show()\n",
    "plt.tight_layout()"
   ]
  },
  {
   "cell_type": "markdown",
   "metadata": {},
   "source": [
    "### This shows a strong positive correlation between temperature and latitude.  As the Southern latitude numbers get greater (towards the Equator), the temperature increases."
   ]
  },
  {
   "cell_type": "markdown",
   "metadata": {},
   "source": [
    "####  Southern Hemisphere - Humidity (%) vs. Latitude Linear Regression"
   ]
  },
  {
   "cell_type": "code",
   "execution_count": 55,
   "metadata": {},
   "outputs": [
    {
     "data": {
      "image/png": "[encoded data removed]",
      "text/plain": [
       "<Figure size 432x288 with 1 Axes>"
      ]
     },
     "metadata": {
      "needs_background": "light"
     },
     "output_type": "display_data"
    }
   ],
   "source": [
    "y_values = southern_lat['latitude']\n",
    "x_values = southern_lat['humidity']\n",
    "plt.scatter(x_values,y_values)\n",
    "plt.ylabel('Latitude')\n",
    "plt.xlabel('humidity')\n",
    "plt.show()"
   ]
  },
  {
   "cell_type": "code",
   "execution_count": 56,
   "metadata": {
    "scrolled": true
   },
   "outputs": [
    {
     "name": "stdout",
     "output_type": "stream",
     "text": [
      "1     -21.569106\n",
      "4     -22.185552\n",
      "6     -22.141520\n",
      "14    -20.776533\n",
      "15    -21.701202\n",
      "         ...    \n",
      "575   -21.833297\n",
      "577   -19.499610\n",
      "579   -21.040724\n",
      "581   -22.317647\n",
      "585   -21.128788\n",
      "Name: humidity, Length: 181, dtype: float64\n"
     ]
    }
   ],
   "source": [
    "# Perform a linear regression on humidity vs. latitude\n",
    "(slope, intercept, rvalue, pvalue, stderr) = stats.linregress(x_values, y_values)\n",
    "\n",
    "# Get regression values\n",
    "regress_values = x_values * slope + intercept\n",
    "print(regress_values)"
   ]
  },
  {
   "cell_type": "code",
   "execution_count": 57,
   "metadata": {},
   "outputs": [
    {
     "data": {
      "text/plain": [
       "'0.004886'"
      ]
     },
     "execution_count": 57,
     "metadata": {},
     "output_type": "execute_result"
    }
   ],
   "source": [
    "humidity_correlation = str(round(rvalue**2, 6))\n",
    "humidity_correlation"
   ]
  },
  {
   "cell_type": "code",
   "execution_count": 58,
   "metadata": {},
   "outputs": [
    {
     "name": "stdout",
     "output_type": "stream",
     "text": [
      "y = -0.04x +-18.49\n"
     ]
    }
   ],
   "source": [
    "# Create line equation string\n",
    "line_eq = \"y = \" + str(round(slope,2)) + \"x +\" + str(round(intercept,2))\n",
    "print(line_eq)"
   ]
  },
  {
   "cell_type": "code",
   "execution_count": 59,
   "metadata": {},
   "outputs": [
    {
     "name": "stdout",
     "output_type": "stream",
     "text": [
      "The r-value is: 0.004886309718429266\n"
     ]
    },
    {
     "data": {
      "image/png": "[encoded data removed]",
      "text/plain": [
       "<Figure size 432x288 with 1 Axes>"
      ]
     },
     "metadata": {
      "needs_background": "light"
     },
     "output_type": "display_data"
    }
   ],
   "source": [
    "# Create Plot\n",
    "y_values = southern_lat['latitude']\n",
    "x_values = southern_lat['humidity']\n",
    "plt.scatter(x_values,y_values)\n",
    "plt.plot(x_values,regress_values,\"r-\")\n",
    "\n",
    "line_eq = \"y = \" + str(round(slope,2)) + \"x +\" + str(round(intercept,2))\n",
    "\n",
    "\n",
    "# Label plot and annotate the line equation\n",
    "plt.ylabel('Latitude ($^\\circ$S)')\n",
    "plt.xlabel('Percent Humidity')\n",
    "plt.annotate(line_eq,xy=(20,60), xycoords='axes pixels',fontsize=15,color=\"red\")\n",
    "\n",
    "plt.title(\"Southern Hemisphere Percent Humidity vs Latitude\\nr-value is \" +humidity_correlation+ \" (No Correlation)\")\n",
    "plt.savefig(\"fresh_output_data/Southern_Hemisphere_Percent_Humidity_vs_Latitude.pdf\")\n",
    "plt.savefig(\"fresh_output_data/Southern_Hemisphere_Percent_Humidity_vs_Latitude.png\")\n",
    "\n",
    "# Print r value\n",
    "print(f\"The r-value is: {rvalue**2}\")\n",
    "\n",
    "# Show plot\n",
    "#plt.show()\n",
    "plt.tight_layout()"
   ]
  },
  {
   "cell_type": "markdown",
   "metadata": {},
   "source": [
    "### There is no correlation shown between percent humidity and latitude for the Southern Hemisphere."
   ]
  },
  {
   "cell_type": "markdown",
   "metadata": {},
   "source": [
    "####  Southern Hemisphere - Cloudiness (%) vs. Latitude Linear Regression"
   ]
  },
  {
   "cell_type": "code",
   "execution_count": 60,
   "metadata": {},
   "outputs": [
    {
     "data": {
      "image/png": "[encoded data removed]",
      "text/plain": [
       "<Figure size 432x288 with 1 Axes>"
      ]
     },
     "metadata": {
      "needs_background": "light"
     },
     "output_type": "display_data"
    }
   ],
   "source": [
    "y_values = southern_lat['latitude']\n",
    "x_values = southern_lat['cloudiness']\n",
    "plt.scatter(x_values,y_values)\n",
    "plt.ylabel('Latitude')\n",
    "plt.xlabel('cloudiness')\n",
    "plt.show()"
   ]
  },
  {
   "cell_type": "code",
   "execution_count": 61,
   "metadata": {},
   "outputs": [
    {
     "name": "stdout",
     "output_type": "stream",
     "text": [
      "1     -21.030119\n",
      "4     -22.112836\n",
      "6     -20.724737\n",
      "14    -21.515953\n",
      "15    -20.724737\n",
      "         ...    \n",
      "575   -20.724737\n",
      "577   -22.112836\n",
      "579   -20.724737\n",
      "581   -21.085643\n",
      "585   -22.112836\n",
      "Name: cloudiness, Length: 181, dtype: float64\n"
     ]
    }
   ],
   "source": [
    "# Perform a linear regression on humidity vs. latitude\n",
    "(slope, intercept, rvalue, pvalue, stderr) = stats.linregress(x_values, y_values)\n",
    "\n",
    "# Get regression values\n",
    "regress_values = x_values * slope + intercept\n",
    "print(regress_values)"
   ]
  },
  {
   "cell_type": "code",
   "execution_count": 62,
   "metadata": {},
   "outputs": [
    {
     "data": {
      "text/plain": [
       "'0.001805'"
      ]
     },
     "execution_count": 62,
     "metadata": {},
     "output_type": "execute_result"
    }
   ],
   "source": [
    "cloudiness_correlation = str(round(rvalue**2, 6))\n",
    "cloudiness_correlation"
   ]
  },
  {
   "cell_type": "code",
   "execution_count": 63,
   "metadata": {},
   "outputs": [
    {
     "name": "stdout",
     "output_type": "stream",
     "text": [
      "y = 0.01x +-22.11\n"
     ]
    }
   ],
   "source": [
    "# Create line equation string\n",
    "line_eq = \"y = \" + str(round(slope,2)) + \"x +\" + str(round(intercept,2))\n",
    "print(line_eq)"
   ]
  },
  {
   "cell_type": "code",
   "execution_count": 64,
   "metadata": {},
   "outputs": [
    {
     "name": "stdout",
     "output_type": "stream",
     "text": [
      "The r-value is: 0.0018053693563484512\n"
     ]
    },
    {
     "data": {
      "image/png": "[encoded data removed]",
      "text/plain": [
       "<Figure size 432x288 with 1 Axes>"
      ]
     },
     "metadata": {
      "needs_background": "light"
     },
     "output_type": "display_data"
    }
   ],
   "source": [
    "# Create Plot\n",
    "y_values = southern_lat['latitude']\n",
    "x_values = southern_lat['cloudiness']\n",
    "plt.scatter(x_values,y_values)\n",
    "plt.plot(x_values,regress_values,\"r-\")\n",
    "\n",
    "line_eq = \"y = \" + str(round(slope,2)) + \"x +\" + str(round(intercept,2))\n",
    "\n",
    "\n",
    "# Label plot and annotate the line equation\n",
    "plt.ylabel('Latitude ($^\\circ$S)')\n",
    "plt.xlabel('Percent Cloudiness')\n",
    "plt.annotate(line_eq,xy=(130,100), xycoords='axes pixels', fontsize=15,color=\"red\")\n",
    "\n",
    "plt.title(\"Southern Hemisphere Percent Cloudiness vs Latitude\\nr-value is \" +cloudiness_correlation+ \" (No Correlation)\")\n",
    "plt.savefig(\"fresh_output_data/Southern_Hemisphere_Percent_Cloudiness_vs_Latitude.pdf\")\n",
    "plt.savefig(\"fresh_output_data/Southern_Hemisphere_Percent_Cloudiness_vs_Latitude.png\")\n",
    "\n",
    "# Print r value\n",
    "print(f\"The r-value is: {rvalue**2}\")\n",
    "\n",
    "# Show plot\n",
    "plt.show()\n",
    "#plt.tight_layout()"
   ]
  },
  {
   "cell_type": "markdown",
   "metadata": {},
   "source": [
    "### There is no correlation between percent cloudiness and latitude for the Southern Hemisphere."
   ]
  },
  {
   "cell_type": "markdown",
   "metadata": {},
   "source": [
    "####  Southern Hemisphere - Wind Speed (mph) vs. Latitude Linear Regression"
   ]
  },
  {
   "cell_type": "code",
   "execution_count": 65,
   "metadata": {},
   "outputs": [
    {
     "data": {
      "image/png": "[encoded data removed]",
      "text/plain": [
       "<Figure size 432x288 with 1 Axes>"
      ]
     },
     "metadata": {
      "needs_background": "light"
     },
     "output_type": "display_data"
    }
   ],
   "source": [
    "y_values = southern_lat['latitude']\n",
    "x_values = southern_lat['wind speed']\n",
    "plt.scatter(x_values,y_values)\n",
    "plt.ylabel('Latitude')\n",
    "plt.xlabel('wind speed')\n",
    "plt.show()"
   ]
  },
  {
   "cell_type": "code",
   "execution_count": 66,
   "metadata": {},
   "outputs": [
    {
     "name": "stdout",
     "output_type": "stream",
     "text": [
      "1     -19.274252\n",
      "4     -22.805737\n",
      "6     -21.513245\n",
      "14    -25.490142\n",
      "15    -25.187898\n",
      "         ...    \n",
      "575   -21.513245\n",
      "577   -19.246414\n",
      "579   -19.679896\n",
      "581   -20.145193\n",
      "585   -19.254368\n",
      "Name: wind speed, Length: 181, dtype: float64\n"
     ]
    }
   ],
   "source": [
    "# Perform a linear regression on humidity vs. latitude\n",
    "(slope, intercept, rvalue, pvalue, stderr) = stats.linregress(x_values, y_values)\n",
    "\n",
    "# Get regression values\n",
    "regress_values = x_values * slope + intercept\n",
    "print(regress_values)"
   ]
  },
  {
   "cell_type": "code",
   "execution_count": 67,
   "metadata": {},
   "outputs": [
    {
     "data": {
      "text/plain": [
       "'0.022586'"
      ]
     },
     "execution_count": 67,
     "metadata": {},
     "output_type": "execute_result"
    }
   ],
   "source": [
    "wind_correlation = str(round(rvalue**2, 6))\n",
    "wind_correlation"
   ]
  },
  {
   "cell_type": "code",
   "execution_count": 68,
   "metadata": {},
   "outputs": [
    {
     "name": "stdout",
     "output_type": "stream",
     "text": [
      "y = -0.4x +-18.31\n"
     ]
    }
   ],
   "source": [
    "# Create line equation string\n",
    "line_eq = \"y = \" + str(round(slope,2)) + \"x +\" + str(round(intercept,2))\n",
    "print(line_eq)"
   ]
  },
  {
   "cell_type": "code",
   "execution_count": 69,
   "metadata": {},
   "outputs": [
    {
     "name": "stdout",
     "output_type": "stream",
     "text": [
      "The r-value is: 0.022585582306295062\n"
     ]
    },
    {
     "data": {
      "image/png": "[encoded data removed]",
      "text/plain": [
       "<Figure size 432x288 with 1 Axes>"
      ]
     },
     "metadata": {
      "needs_background": "light"
     },
     "output_type": "display_data"
    }
   ],
   "source": [
    "# Create Plot\n",
    "y_values = southern_lat['latitude']\n",
    "x_values = southern_lat['wind speed']\n",
    "plt.scatter(x_values,y_values)\n",
    "plt.plot(x_values,regress_values,\"r-\")\n",
    "\n",
    "line_eq = \"y = \" + str(round(slope,2)) + \"x +\" + str(round(intercept,2))\n",
    "\n",
    "\n",
    "# Label plot and annotate the line equation\n",
    "plt.ylabel('Latitude ($^\\circ$S)')\n",
    "plt.xlabel('Wind Speed (mph)')\n",
    "plt.annotate(line_eq,xy=(160,100), xycoords='axes pixels',fontsize=15,color=\"red\")#,\n",
    "#            arrowprops=dict(facecolor='red', shrink=0.05))\n",
    "\n",
    "# plt.title(\"Southern Hemisphere Wind Speed vs Latitude\\nr-value is \" + str(round(rvalue**2, 6)) + \" (Weak Correlation)\")\n",
    "plt.title(\"Southern Hemisphere Wind Speed vs Latitude\\nr-value is \" +wind_correlation+ \" (No Correlation)\")\n",
    "plt.savefig(\"fresh_output_data/Southern_Hemisphere_Wind-Speed_vs_Latitude.pdf\")\n",
    "plt.savefig(\"fresh_output_data/Southern_Hemisphere_Wind-Speed_vs_Latitude.png\")\n",
    "\n",
    "# Print r value\n",
    "print(f\"The r-value is: {rvalue**2}\")\n",
    "\n",
    "\n",
    "\n",
    "# Show plot\n",
    "plt.show()\n",
    "#plt.tight_layout()"
   ]
  },
  {
   "cell_type": "markdown",
   "metadata": {},
   "source": [
    "### The linear regression shows no correlation between wind speed and latitude."
   ]
  },
  {
   "cell_type": "code",
   "execution_count": null,
   "metadata": {},
   "outputs": [],
   "source": []
  }
 ],
 "metadata": {
  "anaconda-cloud": {},
  "kernel_info": {
   "name": "python3"
  },
  "kernelspec": {
   "display_name": "Python 3 (ipykernel)",
   "language": "python",
   "name": "python3"
  },
  "language_info": {
   "codemirror_mode": {
    "name": "ipython",
    "version": 3
   },
   "file_extension": ".py",
   "mimetype": "text/x-python",
   "name": "python",
   "nbconvert_exporter": "python",
   "pygments_lexer": "ipython3",
   "version": "3.9.7"
  },
  "latex_envs": {
   "LaTeX_envs_menu_present": true,
   "autoclose": false,
   "autocomplete": true,
   "bibliofile": "biblio.bib",
   "cite_by": "apalike",
   "current_citInitial": 1,
   "eqLabelWithNumbers": true,
   "eqNumInitial": 1,
   "hotkeys": {
    "equation": "Ctrl-E",
    "itemize": "Ctrl-I"
   },
   "labels_anchors": false,
   "latex_user_defs": false,
   "report_style_numbering": false,
   "user_envs_cfg": false
  },
  "nteract": {
   "version": "0.12.3"
  }
 },
 "nbformat": 4,
 "nbformat_minor": 2
}
