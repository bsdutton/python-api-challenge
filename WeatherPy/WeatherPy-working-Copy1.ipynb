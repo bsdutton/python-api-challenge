{
 "cells": [
  {
   "cell_type": "markdown",
   "metadata": {},
   "source": [
    "# WeatherPy\n",
    "----\n",
    "\n",
    "#### Note\n",
    "* Instructions have been included for each segment. You do not have to follow them exactly, but they are included to help you think through the steps."
   ]
  },
  {
   "cell_type": "code",
   "execution_count": 120,
   "metadata": {
    "scrolled": true
   },
   "outputs": [],
   "source": [
    "# Dependencies and Setup\n",
    "import matplotlib.pyplot as plt\n",
    "import pandas as pd\n",
    "import numpy as np\n",
    "import requests\n",
    "import time\n",
    "import json\n",
    "from scipy.stats import linregress\n",
    "from pprint import pprint\n",
    "import country_converter as coco\n",
    "from scipy import stats\n",
    "\n",
    "# Import API key\n",
    "from api_keys import weather_api_key\n",
    "\n",
    "# Incorporated citipy to determine city based on latitude and longitude\n",
    "from citipy import citipy\n",
    "\n",
    "# Output File (CSV)\n",
    "output_data_file = \"output_data/cities.csv\"\n",
    "\n",
    "# Range of latitudes and longitudes\n",
    "lat_range = (-90, 90)\n",
    "lng_range = (-180, 180)"
   ]
  },
  {
   "cell_type": "code",
   "execution_count": 2,
   "metadata": {},
   "outputs": [],
   "source": [
    "# print(weather_api_key)\n",
    "# type(weather_api_key) # str"
   ]
  },
  {
   "cell_type": "markdown",
   "metadata": {},
   "source": [
    "## Generate Cities List"
   ]
  },
  {
   "cell_type": "code",
   "execution_count": 3,
   "metadata": {},
   "outputs": [
    {
     "data": {
      "text/plain": [
       "616"
      ]
     },
     "execution_count": 3,
     "metadata": {},
     "output_type": "execute_result"
    }
   ],
   "source": [
    "# COMMENT OUT LINES ASSOCIATED WITH CREATING A RANDOM CITY LIST SO THE CURRENT CITY LIST STAYS LOCKED.\n",
    "# List for holding lat_lngs and cities\n",
    "#lat_lngs = []\n",
    "#cities = []\n",
    "\n",
    "# Create a set of random lat and lng combinations\n",
    "#lats = np.random.uniform(lat_range[0], lat_range[1], size=1500)\n",
    "#lngs = np.random.uniform(lng_range[0], lng_range[1], size=1500)\n",
    "#lat_lngs = zip(lats, lngs)\n",
    "\n",
    "# Identify nearest city for each lat, lng combination\n",
    "#for lat_lng in lat_lngs:\n",
    "#    city = citipy.nearest_city(lat_lng[0], lat_lng[1]).city_name\n",
    "    \n",
    "    # If the city is unique, then add it to a our cities list\n",
    "#    if city not in cities:\n",
    "        cities.append(city)\n",
    "\n",
    "# Print the city count to confirm sufficient count\n",
    "len(cities)"
   ]
  },
  {
   "cell_type": "code",
   "execution_count": 4,
   "metadata": {},
   "outputs": [
    {
     "name": "stdout",
     "output_type": "stream",
     "text": [
      "['rikitea', 'meulaboh', 'hilo', 'lasa', 'souillac', 'necochea', 'mar del plata', 'vaini', 'hermanus', 'lavrentiya', 'taoudenni', 'sinnamary', 'nanortalik', 'ushuaia', 'pierre', 'faanui', 'sentyabrskiy', 'tabuk', 'punta arenas', 'port lincoln', 'jiddah', 'buala', 'sturgis', 'eyl', 'willowmore', 'hobart', 'hithadhoo', 'praia', 'saint-philippe', 'tuktoyaktuk', 'marcona', 'bluff', 'bandarbeyla', 'novyy urengoy', 'bonham', 'sitka', 'deputatskiy', 'kapaa', 'hegra', 'chuy', 'geraldton', 'kaitangata', 'rio grande', 'aklavik', 'beloha', 'tuatapere', 'puerto ayora', 'rungata', 'grand river south east', 'ugoofaaru', 'shu', 'kysyl-syr', 'poum', 'cape town', 'mnogovershinnyy', 'vostok', 'kampot', 'nikolskoye', 'mergui', 'neiafu', 'new norfolk', 'avarua', 'flinders', 'longlac', 'atuona', 'kuche', 'taiobeiras', 'illoqqortoormiut', 'honiara', 'mumford', 'sulangan', 'pijijiapan', 'saint-joseph', 'samana', 'jamestown', 'yellowknife', 'mataura', 'busselton', 'khatanga', 'erzin', 'saskylakh', 'kodiak', 'auki', 'mairi', 'port hawkesbury', 'qui nhon', 'taolanaro', 'namatanai', 'rochegda', 'butaritari', 'tasiilaq', 'barentsburg', 'suoyarvi', 'chokurdakh', 'ahipara', 'bredasdorp', 'albany', 'ucluelet', 'port alfred', 'port augusta', 'hofn', 'tracy', 'ngunguru', 'carnarvon', 'tucano', 'hobyo', 'rognan', 'fianga', 'walvis bay', 'belushya guba', 'jarjis', 'qaanaaq', 'rio gallegos', 'odweyne', 'narrabri', 'murgab', 'anloga', 'dehui', 'brae', 'tangier', 'sao filipe', 'aksarka', 'russell', 'lompoc', 'georgetown', 'dikson', 'cutro', 'kaeo', 'north platte', 'leningradskiy', 'west freehold', 'nara', 'rawson', 'ust-nera', 'cabo san lucas', 'rorvik', 'mayumba', 'sigli', 'carstairs', 'lorengau', 'port hardy', 'east london', 'san quintin', 'victoria', 'larsnes', 'longyearbyen', 'thompson', 'tsihombe', 'lolua', 'hasaki', 'manta', 'kulhudhuffushi', 'tieli', 'egvekinot', 'marsh harbour', 'manga', 'tiksi', 'nizhneyansk', 'meadow lake', 'madison heights', 'kyaukse', 'honningsvag', 'juazeiro', 'katherine', 'torbay', 'santa isabel do rio negro', 'sendafa', 'vallenar', 'fortuna', 'praya', 'esso', 'los llanos de aridane', 'luderitz', 'guerrero negro', 'vila franca do campo', 'mushie', 'vestmanna', 'karakendzha', 'klaksvik', 'tagbac', 'vaitupu', 'asyut', 'clyde river', 'luanda', 'progreso', 'esmeralda', 'maceio', 'melville', 'codrington', 'kerki', 'san patricio', 'sabha', 'new bern', 'merauke', 'south venice', 'usinsk', 'opuwo', 'ilulissat', 'namibe', 'timra', 'nanakuli', 'caravelas', 'mahebourg', 'santa marta', 'saint george', 'sambava', 'ixtapa', 'pisco', 'barrow', 'miguel calmon', 'susah', 'bonthe', 'jalu', 'alofi', 'suamico', 'ruyigi', 'sassandra', 'byron bay', 'bairiki', 'tessalit', 'taltal', 'cayenne', 'kahului', 'sao sebastiao', 'toktogul', 'itarema', 'mys shmidta', 'faya', 'auchi', 'airai', 'ostrovnoy', 'nalut', 'sitio novo do tocantins', 'daru', 'gejiu', 'mrirt', 'ijaki', 'upernavik', 'koroni', 'zhanaozen', 'bengkulu', 'vardo', 'srednekolymsk', 'vanimo', 'inuvik', 'pangnirtung', 'balkhash', 'hakkari', 'young', 'avera', 'cap malheureux', 'bontang', 'langnau', 'provideniya', 'hastings', 'araouane', 'alice', 'waipawa', 'bambous virieux', 'casma', 'comodoro rivadavia', 'tual', 'castro', 'broken hill', 'oga', 'saldanha', 'eden', 'hamilton', 'lebu', 'taybad', 'ribeira grande', 'tabou', 'arraial do cabo', 'minnedosa', 'bocanda', 'hambantota', 'narsaq', 'beringovskiy', 'rosetta', 'henties bay', 'tulsipur', 'ampanihy', 'moron', 'krasnovishersk', 'saint-georges', 'morden', 'lalibela', 'orange walk', 'bilibino', 'mayo', 'bardiyah', 'amderma', 'troitskoye', 'milingimbi', 'camargo', 'la puebla de cazalla', 'porangatu', 'belyy yar', 'lasem', 'cidreira', 'ibra', 'wewak', 'pochutla', 'ende', 'suleja', 'kalmunai', 'morristown', 'yerbogachen', 'bethel', 'bizhbulyak', 'gold coast', 'garissa', 'bathsheba', 'margate', 'sisimiut', 'aleppo', 'omsukchan', 'axim', 'turukhansk', 'klyuchi', 'chipata', 'karamay', 'tazovskiy', 'nome', 'dongzhen', 'bela', 'bichura', 'harrison', 'port blair', 'solano', 'espanola', 'lanxi', 'olafsvik', 'bur gabo', 'anage', 'callaway', 'kawalu', 'norman wells', 'umzimvubu', 'zalari', 'tukrah', 'tautira', 'abu kamal', 'zhigansk', 'otane', 'mukhanovo', 'horsham', 'haines junction', 'ambulu', 'pevek', 'samusu', 'springbok', 'mount gambier', 'mentok', 'hebi', 'kathmandu', 'san policarpo', 'pathankot', 'tommot', 'camacha', 'hurghada', 'katiola', 'buchanan', 'gornopravdinsk', 'goderich', 'uvat', 'port keats', 'bubaque', 'shush', 'paredon', 'karpogory', 'antofagasta', 'grootfontein', 'praia da vitoria', 'sipe sipe', 'alta floresta', 'nouakchott', 'petrykivka', 'watsa', 'tagusao', 'iqaluit', 'baykit', 'brownsville', 'zumpango', 'cherskiy', 'malwan', 'fairbanks', 'maykain', 'talara', 'husavik', 'khandbari', 'glendive', 'belgrade', 'kainantu', 'paracuru', 'talaya', 'aras', 'kieta', 'uppsala', 'rensvik', 'ancud', 'filingue', 'iguai', 'vanavara', 'nehe', 'coquimbo', 'akyab', 'aden', 'lodwar', 'diu', 'shimoda', 'swellendam', 'yar-sale', 'formosa', 'santiago', 'kavaratti', 'saposoa', 'kondinskoye', 'traverse city', 'oistins', 'strezhevoy', 'movilita', 'severo-kurilsk', 'fare', 'isangel', 'oranjemund', 'hami', 'uralets', 'turkan', 'caconda', 'ponta do sol', 'pacifica', 'masingbi', 'araceli', 'dingle', 'riyadh', 'nizhneudinsk', 'college', 'barcelos', 'bodden town', 'bonavista', 'wattegama', 'mehran', 'paamiut', 'chernyshevskiy', 'richards bay', 'boulsa', 'port elizabeth', 'papayal', 'brawley', 'gumushane', 'conde', 'kavieng', 'gillette', 'katsuura', 'adrar', 'villarrica', 'havre', 'along', 'talnakh', 'gongzhuling', 'todos santos', 'portland', 'mahe', 'qaqortoq', 'zaysan', 'kanigoro', 'kabo', 'zhangye', 'khurda', 'djambala', 'hermosillo', 'maneadero', 'martapura', 'kruisfontein', 'teya', 'antalaha', 'muleba', 'nouadhibou', 'sorland', 'port moresby', 'tateyama', 'prudnik', 'vila velha', 'salalah', 'saint-francois', 'niquero', 'montemor-o-novo', 'yulara', 'hirara', 'north bend', 'zaykovo', 'san carlos de bariloche', 'deer lake', 'kropotkin', 'grindavik', 'mehamn', 'xiaoweizhai', 'kirakira', 'yanam', 'ovalle', 'manggar', 'buraydah', 'vila', 'bilma', 'mogadishu', 'ketchikan', 'flagstaff', 'kingsport', 'udachnyy', 'akom', 'padang', 'touros', 'mucurapo', 'sribne', 'sao gabriel da cachoeira', 'umm lajj', 'ayan', 'mandurah', 'luwuk', 'takhtamygda', 'panama city', 'red bluff', 'simao', 'awbari', 'ahuimanu', 'sola', 'acapulco', 'pemberton', 'sumbe', 'les escoumins', 'baturaja', 'dharampur', 'biak', 'iranduba', 'lyndon', 'karpathos', 'sobolevo', 'labuhan', 'bosaso', 'shenkursk', 'wilmington', 'te anau', 'grand baie', 'pacific grove', 'farmington', 'bose', 'nhulunbuy', 'tura', 'helong', 'belle fourche', 'kintinku', 'dunedin', 'kovdor', 'honefoss', 'tarbagatay', 'botwood', 'yantal', 'greenwood', 'ocampo', 'quang ngai', 'naze', 'azimur', 'galeana', 'muros', 'tigil', 'kupang', 'benjamin constant', 'alice springs', 'mandiana', 'tena', 'the valley', 'umm durman', 'laguna', 'destin', 'corowa', 'mackay', 'linjiang', 'mabaruma', 'yumen', 'tumannyy', 'sawtell', 'kimbe', 'saint-augustin', 'mandalgovi', 'lata', 'warrnambool', 'ponta delgada', 'broome', 'lichinga', 'bereda', 'saint-leu', 'ferme-neuve', 'tezu', 'pec', 'belaya gora', 'hwange', 'sao joao da barra', 'odesskoye', 'berikulskiy', 'hokitika', 'san cristobal', 'black forest', 'gizo', 'banska bystrica', 'kikwit', 'karauzyak', 'aripuana', 'thaba-tseka', 'esperance', 'constitucion', 'gushikawa', 'bonga', 'oktyabrskoye', 'buritis', 'qandala']\n"
     ]
    }
   ],
   "source": [
    "print(cities)"
   ]
  },
  {
   "cell_type": "code",
   "execution_count": 5,
   "metadata": {},
   "outputs": [],
   "source": [
    "# create DataFrame from zip of random lists of Latitude and Longitude\n",
    "# http://www.pythonpandas.com/create-pandas-dataframe-from-lists-using-zip/\n",
    "list_of_lat_lng_tuples = list(zip(lats, lngs))\n",
    "lat_lng_df = pd.DataFrame(list_of_lat_lng_tuples, columns = [\"Latitude\", \"Longitude\"])\n",
    "# lat_lng_df.head()\n",
    "# len(lat_lng_df)# 1500"
   ]
  },
  {
   "cell_type": "code",
   "execution_count": 504,
   "metadata": {
    "scrolled": true
   },
   "outputs": [],
   "source": [
    "cities_list = {\"city\": cities}\n",
    "# cities_list\n",
    "cities_df = pd.DataFrame(cities_list)\n",
    "cities_df.head(25)\n",
    "cities_df.to_csv(\"output_data/cities_list.csv\")"
   ]
  },
  {
   "cell_type": "code",
   "execution_count": 38,
   "metadata": {},
   "outputs": [
    {
     "data": {
      "text/plain": [
       "0          rikitea\n",
       "1         meulaboh\n",
       "2             hilo\n",
       "3             lasa\n",
       "4         souillac\n",
       "5         necochea\n",
       "6    mar del plata\n",
       "7            vaini\n",
       "8         hermanus\n",
       "9       lavrentiya\n",
       "dtype: object"
      ]
     },
     "execution_count": 38,
     "metadata": {},
     "output_type": "execute_result"
    }
   ],
   "source": [
    "cities2 = pd.Series(cities)\n",
    "cities2.head(10)"
   ]
  },
  {
   "cell_type": "code",
   "execution_count": 8,
   "metadata": {},
   "outputs": [],
   "source": [
    "units = \"imperial\"\n",
    "\n",
    "url_test = \"http://api.openweathermap.org/data/2.5/weather?\"\n",
    "city_test = \"tuktoyaktuk\"\n",
    "# query_url_test = url_test + \"&appid=\" + \"xxxxxxx\" + \"&units=\" + units + \"&q=\" + city_test\n",
    "query_url_test = url_test + \"&appid=\" + weather_api_key + \"&units=\" + units + \"&q=\" + city_test"
   ]
  },
  {
   "cell_type": "code",
   "execution_count": 9,
   "metadata": {
    "scrolled": true
   },
   "outputs": [
    {
     "data": {
      "text/plain": [
       "{'coord': {'lon': -133.0374, 'lat': 69.4541},\n",
       " 'weather': [{'id': 500,\n",
       "   'main': 'Rain',\n",
       "   'description': 'light rain',\n",
       "   'icon': '10d'}],\n",
       " 'base': 'stations',\n",
       " 'main': {'temp': 44.6,\n",
       "  'feels_like': 40.17,\n",
       "  'temp_min': 44.6,\n",
       "  'temp_max': 44.6,\n",
       "  'pressure': 1013,\n",
       "  'humidity': 93},\n",
       " 'visibility': 10000,\n",
       " 'wind': {'speed': 8.05, 'deg': 30},\n",
       " 'clouds': {'all': 100},\n",
       " 'dt': 1660949910,\n",
       " 'sys': {'type': 1,\n",
       "  'id': 942,\n",
       "  'country': 'CA',\n",
       "  'sunrise': 1660911365,\n",
       "  'sunset': 1660973743},\n",
       " 'timezone': -21600,\n",
       " 'id': 6170031,\n",
       " 'name': 'Tuktoyaktuk',\n",
       " 'cod': 200}"
      ]
     },
     "execution_count": 9,
     "metadata": {},
     "output_type": "execute_result"
    }
   ],
   "source": [
    "response_test = requests.get(query_url_test).json()\n",
    "response_test"
   ]
  },
  {
   "cell_type": "code",
   "execution_count": 10,
   "metadata": {},
   "outputs": [],
   "source": [
    "# type(response_test)  # dict"
   ]
  },
  {
   "cell_type": "code",
   "execution_count": 11,
   "metadata": {},
   "outputs": [],
   "source": [
    "url = \"http://api.openweathermap.org/data/2.5/weather?\"\n",
    "units = \"imperial\"\n",
    "query_url = f\"{url}appid={weather_api_key}&units={units}&q=\"  # with units\n",
    "# url1 = \"https://api.openweathermap.org/data/2.5/weather?\"\n",
    "\n"
   ]
  },
  {
   "cell_type": "code",
   "execution_count": 12,
   "metadata": {},
   "outputs": [],
   "source": [
    "\n",
    "weather_check = [requests.get(query_url + str(cities[city])).json() for city in range(len(cities))]\n"
   ]
  },
  {
   "cell_type": "code",
   "execution_count": 13,
   "metadata": {},
   "outputs": [],
   "source": [
    "# print(cities_df)"
   ]
  },
  {
   "cell_type": "code",
   "execution_count": 14,
   "metadata": {
    "scrolled": true
   },
   "outputs": [
    {
     "name": "stdout",
     "output_type": "stream",
     "text": [
      "(\"First response is {'coord': {'lon': -134.9692, 'lat': -23.1203}, 'weather': \"\n",
      " \"[{'id': 803, 'main': 'Clouds', 'description': 'broken clouds', 'icon': \"\n",
      " \"'04d'}], 'base': 'stations', 'main': {'temp': 72.3, 'feels_like': 72.66, \"\n",
      " \"'temp_min': 72.3, 'temp_max': 72.3, 'pressure': 1017, 'humidity': 73, \"\n",
      " \"'sea_level': 1017, 'grnd_level': 1015}, 'visibility': 10000, 'wind': \"\n",
      " \"{'speed': 3.74, 'deg': 300, 'gust': 4.34}, 'clouds': {'all': 55}, 'dt': \"\n",
      " \"1660949879, 'sys': {'country': 'PF', 'sunrise': 1660922516, 'sunset': \"\n",
      " \"1660963519}, 'timezone': -32400, 'id': 4030556, 'name': 'Rikitea', 'cod': \"\n",
      " '200}.')\n",
      "(\"The last response is {'coord': {'lon': 49.8728, 'lat': 11.472}, 'weather': \"\n",
      " \"[{'id': 800, 'main': 'Clear', 'description': 'clear sky', 'icon': '01n'}], \"\n",
      " \"'base': 'stations', 'main': {'temp': 88.81, 'feels_like': 92.43, 'temp_min': \"\n",
      " \"88.81, 'temp_max': 88.81, 'pressure': 1005, 'humidity': 50, 'sea_level': \"\n",
      " \"1005, 'grnd_level': 1004}, 'visibility': 10000, 'wind': {'speed': 4.81, \"\n",
      " \"'deg': 227, 'gust': 9.22}, 'clouds': {'all': 10}, 'dt': 1660950490, 'sys': \"\n",
      " \"{'country': 'SO', 'sunrise': 1660962621, 'sunset': 1661007477}, 'timezone': \"\n",
      " \"10800, 'id': 53157, 'name': 'Qandala', 'cod': 200}.\")\n"
     ]
    }
   ],
   "source": [
    "try:\n",
    "    pprint(f\"First response is {weather_check[0]}.\")\n",
    "    pprint(f\"The last response is {weather_check[-1]}.\")\n",
    "except:\n",
    "    print(\"City not in OpenWeatherMap.\")\n",
    "    pass"
   ]
  },
  {
   "cell_type": "code",
   "execution_count": null,
   "metadata": {},
   "outputs": [],
   "source": []
  },
  {
   "cell_type": "code",
   "execution_count": 54,
   "metadata": {},
   "outputs": [],
   "source": [
    "# set up lists to hold reponse info\n",
    "lat = []\n",
    "long = []\n",
    "temp = []\n",
    "humid = []\n",
    "clouds = []\n",
    "winds = []\n",
    "city1 = []\n",
    "city2 = []\n",
    "max_temp = []\n",
    "country = []\n",
    "datetime = []\n",
    "print_request = []\n",
    "print_response = []\n",
    "print_dne = []"
   ]
  },
  {
   "cell_type": "code",
   "execution_count": 16,
   "metadata": {},
   "outputs": [],
   "source": [
    "#weather = [requests.get(query_url + str(cities[city]))\n",
    "# .json() if weather_check.json()['coord']['cod'] == 200\n",
    "#weather_json = weather.json()"
   ]
  },
  {
   "cell_type": "code",
   "execution_count": 17,
   "metadata": {},
   "outputs": [
    {
     "name": "stdout",
     "output_type": "stream",
     "text": [
      "616\n"
     ]
    }
   ],
   "source": [
    "print(len(weather_check))"
   ]
  },
  {
   "cell_type": "code",
   "execution_count": 44,
   "metadata": {},
   "outputs": [],
   "source": [
    "cities3 = []"
   ]
  },
  {
   "cell_type": "code",
   "execution_count": 45,
   "metadata": {},
   "outputs": [
    {
     "data": {
      "text/plain": [
       "['mys shmidta',\n",
       " 'faya',\n",
       " 'auchi',\n",
       " 'airai',\n",
       " 'ostrovnoy',\n",
       " 'nalut',\n",
       " 'sitio novo do tocantins',\n",
       " 'daru',\n",
       " 'gejiu',\n",
       " 'mrirt']"
      ]
     },
     "execution_count": 45,
     "metadata": {},
     "output_type": "execute_result"
    }
   ],
   "source": [
    "\n",
    "cities3 = ['mys shmidta', 'faya', 'auchi', 'airai', 'ostrovnoy', 'nalut', 'sitio novo do tocantins', 'daru', 'gejiu', 'mrirt']\n",
    "cities3"
   ]
  },
  {
   "cell_type": "code",
   "execution_count": 47,
   "metadata": {},
   "outputs": [
    {
     "name": "stdout",
     "output_type": "stream",
     "text": [
      "mys shmidta does not exist in OpenWeatherMap.\n",
      "Request 1 sent for faya.\n",
      "Response code 200 received for faya.\n",
      "Request 2 sent for auchi.\n",
      "Response code 200 received for auchi.\n",
      "Request 3 sent for airai.\n",
      "Response code 200 received for airai.\n",
      "Request 4 sent for ostrovnoy.\n",
      "Response code 200 received for ostrovnoy.\n",
      "Request 5 sent for nalut.\n",
      "Response code 200 received for nalut.\n",
      "Request 6 sent for sitio novo do tocantins.\n",
      "Response code 200 received for sitio novo do tocantins.\n",
      "Request 7 sent for daru.\n",
      "Response code 200 received for daru.\n",
      "Request 8 sent for gejiu.\n",
      "Response code 200 received for gejiu.\n",
      "mrirt does not exist in OpenWeatherMap.\n"
     ]
    }
   ],
   "source": [
    "for city in range(len(cities3)):\n",
    "    try:\n",
    "        weather3 = requests.get(query_url + str(cities3[city])).json()\n",
    "        lat.append(weather3['coord']['lat'])\n",
    "        long.append(weather3['coord']['lon'])\n",
    "        temp.append(weather3['main']['feels_like'])\n",
    "        max_temp.append(weather3['main']['temp_max'])\n",
    "        humid.append(weather3['main']['humidity'])\n",
    "        clouds.append(weather3['clouds']['all'])\n",
    "        winds.append(weather3['wind']['speed'])\n",
    "        city1.append(weather3['name'])\n",
    "        country.append(weather3['sys']['country'])\n",
    "        datetime.append(weather3['dt'])\n",
    "        print(f\"Request {city} sent for {cities3[city]}.\")\n",
    "        print_request.append(f\"Request {city} sent for {cities3[city]}.\")\n",
    "        print(f\"Response code {weather3['cod']} received for {cities3[city]}.\")\n",
    "        print_response.append(f\"Response code {weather3['cod']} received for {cities3[city]}.\")\n",
    "    except:\n",
    "        print(f\"{cities3[city]} does not exist in OpenWeatherMap.\")\n",
    "        city2.append(cities3[city])\n",
    "        print_dne.append(f\"{cities3[city]} does not exist in OpenWeatherMap.\")\n",
    "        pass"
   ]
  },
  {
   "cell_type": "code",
   "execution_count": 50,
   "metadata": {},
   "outputs": [
    {
     "data": {
      "text/plain": [
       "['mys shmidta does not exist in OpenWeatherMap.',\n",
       " 'mrirt does not exist in OpenWeatherMap.']"
      ]
     },
     "execution_count": 50,
     "metadata": {},
     "output_type": "execute_result"
    }
   ],
   "source": [
    "print_dne"
   ]
  },
  {
   "cell_type": "code",
   "execution_count": 51,
   "metadata": {},
   "outputs": [
    {
     "data": {
      "text/plain": [
       "['SA', 'NG', 'TL', 'RU', 'LY', 'BR', 'PG', 'CN']"
      ]
     },
     "execution_count": 51,
     "metadata": {},
     "output_type": "execute_result"
    }
   ],
   "source": [
    "country"
   ]
  },
  {
   "cell_type": "code",
   "execution_count": 52,
   "metadata": {},
   "outputs": [
    {
     "data": {
      "text/plain": [
       "[1660957241,\n",
       " 1660957242,\n",
       " 1660957242,\n",
       " 1660957243,\n",
       " 1660957243,\n",
       " 1660957244,\n",
       " 1660957245,\n",
       " 1660957245]"
      ]
     },
     "execution_count": 52,
     "metadata": {},
     "output_type": "execute_result"
    }
   ],
   "source": [
    "datetime"
   ]
  },
  {
   "cell_type": "code",
   "execution_count": 53,
   "metadata": {},
   "outputs": [
    {
     "data": {
      "text/plain": [
       "[66.47, 71.37, 65.57, 62.42, 85.06, 78.94, 79.41, 63.99]"
      ]
     },
     "execution_count": 53,
     "metadata": {},
     "output_type": "execute_result"
    }
   ],
   "source": [
    "temp"
   ]
  },
  {
   "cell_type": "code",
   "execution_count": 55,
   "metadata": {},
   "outputs": [
    {
     "data": {
      "text/plain": [
       "[]"
      ]
     },
     "execution_count": 55,
     "metadata": {},
     "output_type": "execute_result"
    }
   ],
   "source": [
    "city2"
   ]
  },
  {
   "cell_type": "code",
   "execution_count": 56,
   "metadata": {},
   "outputs": [
    {
     "name": "stdout",
     "output_type": "stream",
     "text": [
      "Request 0 sent for rikitea.\n",
      "Response code 200 received for rikitea.\n",
      "Request 1 sent for meulaboh.\n",
      "Response code 200 received for meulaboh.\n",
      "Request 2 sent for hilo.\n",
      "Response code 200 received for hilo.\n",
      "Request 3 sent for lasa.\n",
      "Response code 200 received for lasa.\n",
      "Request 4 sent for souillac.\n",
      "Response code 200 received for souillac.\n",
      "Request 5 sent for necochea.\n",
      "Response code 200 received for necochea.\n",
      "Request 6 sent for mar del plata.\n",
      "Response code 200 received for mar del plata.\n",
      "Request 7 sent for vaini.\n",
      "Response code 200 received for vaini.\n",
      "Request 8 sent for hermanus.\n",
      "Response code 200 received for hermanus.\n",
      "Request 9 sent for lavrentiya.\n",
      "Response code 200 received for lavrentiya.\n",
      "Request 10 sent for taoudenni.\n",
      "Response code 200 received for taoudenni.\n",
      "Request 11 sent for sinnamary.\n",
      "Response code 200 received for sinnamary.\n",
      "Request 12 sent for nanortalik.\n",
      "Response code 200 received for nanortalik.\n",
      "Request 13 sent for ushuaia.\n",
      "Response code 200 received for ushuaia.\n",
      "Request 14 sent for pierre.\n",
      "Response code 200 received for pierre.\n",
      "Request 15 sent for faanui.\n",
      "Response code 200 received for faanui.\n",
      "sentyabrskiy does not exist in OpenWeatherMap.\n",
      "Request 17 sent for tabuk.\n",
      "Response code 200 received for tabuk.\n",
      "Request 18 sent for punta arenas.\n",
      "Response code 200 received for punta arenas.\n",
      "Request 19 sent for port lincoln.\n",
      "Response code 200 received for port lincoln.\n",
      "jiddah does not exist in OpenWeatherMap.\n",
      "Request 21 sent for buala.\n",
      "Response code 200 received for buala.\n",
      "Request 22 sent for sturgis.\n",
      "Response code 200 received for sturgis.\n",
      "Request 23 sent for eyl.\n",
      "Response code 200 received for eyl.\n",
      "Request 24 sent for willowmore.\n",
      "Response code 200 received for willowmore.\n",
      "Request 25 sent for hobart.\n",
      "Response code 200 received for hobart.\n",
      "Request 26 sent for hithadhoo.\n",
      "Response code 200 received for hithadhoo.\n",
      "Request 27 sent for praia.\n",
      "Response code 200 received for praia.\n",
      "Request 28 sent for saint-philippe.\n",
      "Response code 200 received for saint-philippe.\n",
      "Request 29 sent for tuktoyaktuk.\n",
      "Response code 200 received for tuktoyaktuk.\n",
      "marcona does not exist in OpenWeatherMap.\n",
      "Request 31 sent for bluff.\n",
      "Response code 200 received for bluff.\n",
      "Request 32 sent for bandarbeyla.\n",
      "Response code 200 received for bandarbeyla.\n",
      "Request 33 sent for novyy urengoy.\n",
      "Response code 200 received for novyy urengoy.\n",
      "Request 34 sent for bonham.\n",
      "Response code 200 received for bonham.\n",
      "Request 35 sent for sitka.\n",
      "Response code 200 received for sitka.\n",
      "Request 36 sent for deputatskiy.\n",
      "Response code 200 received for deputatskiy.\n",
      "Request 37 sent for kapaa.\n",
      "Response code 200 received for kapaa.\n",
      "Request 38 sent for hegra.\n",
      "Response code 200 received for hegra.\n",
      "Request 39 sent for chuy.\n",
      "Response code 200 received for chuy.\n",
      "Request 40 sent for geraldton.\n",
      "Response code 200 received for geraldton.\n",
      "Request 41 sent for kaitangata.\n",
      "Response code 200 received for kaitangata.\n",
      "Request 42 sent for rio grande.\n",
      "Response code 200 received for rio grande.\n",
      "Request 43 sent for aklavik.\n",
      "Response code 200 received for aklavik.\n",
      "Request 44 sent for beloha.\n",
      "Response code 200 received for beloha.\n",
      "Request 45 sent for tuatapere.\n",
      "Response code 200 received for tuatapere.\n",
      "Request 46 sent for puerto ayora.\n",
      "Response code 200 received for puerto ayora.\n",
      "rungata does not exist in OpenWeatherMap.\n",
      "grand river south east does not exist in OpenWeatherMap.\n",
      "Request 49 sent for ugoofaaru.\n",
      "Response code 200 received for ugoofaaru.\n",
      "Request 50 sent for shu.\n",
      "Response code 200 received for shu.\n",
      "Request 51 sent for kysyl-syr.\n",
      "Response code 200 received for kysyl-syr.\n",
      "Request 52 sent for poum.\n",
      "Response code 200 received for poum.\n",
      "Request 53 sent for cape town.\n",
      "Response code 200 received for cape town.\n",
      "Request 54 sent for mnogovershinnyy.\n",
      "Response code 200 received for mnogovershinnyy.\n",
      "Request 55 sent for vostok.\n",
      "Response code 200 received for vostok.\n",
      "Request 56 sent for kampot.\n",
      "Response code 200 received for kampot.\n",
      "Request 57 sent for nikolskoye.\n",
      "Response code 200 received for nikolskoye.\n",
      "mergui does not exist in OpenWeatherMap.\n",
      "Request 59 sent for neiafu.\n",
      "Response code 200 received for neiafu.\n",
      "Request 60 sent for new norfolk.\n",
      "Response code 200 received for new norfolk.\n",
      "Request 61 sent for avarua.\n",
      "Response code 200 received for avarua.\n",
      "Request 62 sent for flinders.\n",
      "Response code 200 received for flinders.\n",
      "longlac does not exist in OpenWeatherMap.\n",
      "Request 64 sent for atuona.\n",
      "Response code 200 received for atuona.\n",
      "kuche does not exist in OpenWeatherMap.\n",
      "Request 66 sent for taiobeiras.\n",
      "Response code 200 received for taiobeiras.\n",
      "illoqqortoormiut does not exist in OpenWeatherMap.\n",
      "Request 68 sent for honiara.\n",
      "Response code 200 received for honiara.\n",
      "Request 69 sent for mumford.\n",
      "Response code 200 received for mumford.\n",
      "Request 70 sent for sulangan.\n",
      "Response code 200 received for sulangan.\n",
      "Request 71 sent for pijijiapan.\n",
      "Response code 200 received for pijijiapan.\n",
      "Request 72 sent for saint-joseph.\n",
      "Response code 200 received for saint-joseph.\n",
      "Request 73 sent for samana.\n",
      "Response code 200 received for samana.\n",
      "Request 74 sent for jamestown.\n",
      "Response code 200 received for jamestown.\n",
      "Request 75 sent for yellowknife.\n",
      "Response code 200 received for yellowknife.\n",
      "Request 76 sent for mataura.\n",
      "Response code 200 received for mataura.\n",
      "Request 77 sent for busselton.\n",
      "Response code 200 received for busselton.\n",
      "Request 78 sent for khatanga.\n",
      "Response code 200 received for khatanga.\n",
      "Request 79 sent for erzin.\n",
      "Response code 200 received for erzin.\n",
      "Request 80 sent for saskylakh.\n",
      "Response code 200 received for saskylakh.\n",
      "Request 81 sent for kodiak.\n",
      "Response code 200 received for kodiak.\n",
      "Request 82 sent for auki.\n",
      "Response code 200 received for auki.\n",
      "Request 83 sent for mairi.\n",
      "Response code 200 received for mairi.\n",
      "Request 84 sent for port hawkesbury.\n",
      "Response code 200 received for port hawkesbury.\n",
      "Request 85 sent for qui nhon.\n",
      "Response code 200 received for qui nhon.\n",
      "taolanaro does not exist in OpenWeatherMap.\n",
      "Request 87 sent for namatanai.\n",
      "Response code 200 received for namatanai.\n",
      "Request 88 sent for rochegda.\n",
      "Response code 200 received for rochegda.\n",
      "Request 89 sent for butaritari.\n",
      "Response code 200 received for butaritari.\n",
      "Request 90 sent for tasiilaq.\n",
      "Response code 200 received for tasiilaq.\n",
      "barentsburg does not exist in OpenWeatherMap.\n",
      "Request 92 sent for suoyarvi.\n",
      "Response code 200 received for suoyarvi.\n",
      "Request 93 sent for chokurdakh.\n",
      "Response code 200 received for chokurdakh.\n",
      "Request 94 sent for ahipara.\n",
      "Response code 200 received for ahipara.\n",
      "Request 95 sent for bredasdorp.\n",
      "Response code 200 received for bredasdorp.\n",
      "Request 96 sent for albany.\n",
      "Response code 200 received for albany.\n",
      "Request 97 sent for ucluelet.\n",
      "Response code 200 received for ucluelet.\n",
      "Request 98 sent for port alfred.\n",
      "Response code 200 received for port alfred.\n",
      "Request 99 sent for port augusta.\n",
      "Response code 200 received for port augusta.\n",
      "Request 100 sent for hofn.\n",
      "Response code 200 received for hofn.\n",
      "Request 101 sent for tracy.\n",
      "Response code 200 received for tracy.\n",
      "Request 102 sent for ngunguru.\n",
      "Response code 200 received for ngunguru.\n",
      "Request 103 sent for carnarvon.\n",
      "Response code 200 received for carnarvon.\n",
      "Request 104 sent for tucano.\n",
      "Response code 200 received for tucano.\n",
      "Request 105 sent for hobyo.\n",
      "Response code 200 received for hobyo.\n",
      "Request 106 sent for rognan.\n",
      "Response code 200 received for rognan.\n",
      "fianga does not exist in OpenWeatherMap.\n",
      "Request 108 sent for walvis bay.\n",
      "Response code 200 received for walvis bay.\n",
      "belushya guba does not exist in OpenWeatherMap.\n",
      "jarjis does not exist in OpenWeatherMap.\n",
      "Request 111 sent for qaanaaq.\n",
      "Response code 200 received for qaanaaq.\n",
      "Request 112 sent for rio gallegos.\n",
      "Response code 200 received for rio gallegos.\n",
      "Request 113 sent for odweyne.\n",
      "Response code 200 received for odweyne.\n",
      "Request 114 sent for narrabri.\n",
      "Response code 200 received for narrabri.\n",
      "Request 115 sent for murgab.\n",
      "Response code 200 received for murgab.\n",
      "Request 116 sent for anloga.\n",
      "Response code 200 received for anloga.\n",
      "Request 117 sent for dehui.\n",
      "Response code 200 received for dehui.\n",
      "Request 118 sent for brae.\n",
      "Response code 200 received for brae.\n",
      "Request 119 sent for tangier.\n",
      "Response code 200 received for tangier.\n",
      "Request 120 sent for sao filipe.\n",
      "Response code 200 received for sao filipe.\n"
     ]
    },
    {
     "name": "stdout",
     "output_type": "stream",
     "text": [
      "Request 121 sent for aksarka.\n",
      "Response code 200 received for aksarka.\n",
      "Request 122 sent for russell.\n",
      "Response code 200 received for russell.\n",
      "Request 123 sent for lompoc.\n",
      "Response code 200 received for lompoc.\n",
      "Request 124 sent for georgetown.\n",
      "Response code 200 received for georgetown.\n",
      "Request 125 sent for dikson.\n",
      "Response code 200 received for dikson.\n",
      "Request 126 sent for cutro.\n",
      "Response code 200 received for cutro.\n",
      "Request 127 sent for kaeo.\n",
      "Response code 200 received for kaeo.\n",
      "Request 128 sent for north platte.\n",
      "Response code 200 received for north platte.\n",
      "Request 129 sent for leningradskiy.\n",
      "Response code 200 received for leningradskiy.\n",
      "Request 130 sent for west freehold.\n",
      "Response code 200 received for west freehold.\n",
      "Request 131 sent for nara.\n",
      "Response code 200 received for nara.\n",
      "Request 132 sent for rawson.\n",
      "Response code 200 received for rawson.\n",
      "Request 133 sent for ust-nera.\n",
      "Response code 200 received for ust-nera.\n",
      "Request 134 sent for cabo san lucas.\n",
      "Response code 200 received for cabo san lucas.\n",
      "Request 135 sent for rorvik.\n",
      "Response code 200 received for rorvik.\n",
      "Request 136 sent for mayumba.\n",
      "Response code 200 received for mayumba.\n",
      "Request 137 sent for sigli.\n",
      "Response code 200 received for sigli.\n",
      "Request 138 sent for carstairs.\n",
      "Response code 200 received for carstairs.\n",
      "Request 139 sent for lorengau.\n",
      "Response code 200 received for lorengau.\n",
      "Request 140 sent for port hardy.\n",
      "Response code 200 received for port hardy.\n",
      "Request 141 sent for east london.\n",
      "Response code 200 received for east london.\n",
      "Request 142 sent for san quintin.\n",
      "Response code 200 received for san quintin.\n",
      "Request 143 sent for victoria.\n",
      "Response code 200 received for victoria.\n",
      "Request 144 sent for larsnes.\n",
      "Response code 200 received for larsnes.\n",
      "Request 145 sent for longyearbyen.\n",
      "Response code 200 received for longyearbyen.\n",
      "Request 146 sent for thompson.\n",
      "Response code 200 received for thompson.\n",
      "tsihombe does not exist in OpenWeatherMap.\n",
      "lolua does not exist in OpenWeatherMap.\n",
      "Request 149 sent for hasaki.\n",
      "Response code 200 received for hasaki.\n",
      "Request 150 sent for manta.\n",
      "Response code 200 received for manta.\n",
      "Request 151 sent for kulhudhuffushi.\n",
      "Response code 200 received for kulhudhuffushi.\n",
      "Request 152 sent for tieli.\n",
      "Response code 200 received for tieli.\n",
      "Request 153 sent for egvekinot.\n",
      "Response code 200 received for egvekinot.\n",
      "Request 154 sent for marsh harbour.\n",
      "Response code 200 received for marsh harbour.\n",
      "Request 155 sent for manga.\n",
      "Response code 200 received for manga.\n",
      "Request 156 sent for tiksi.\n",
      "Response code 200 received for tiksi.\n",
      "nizhneyansk does not exist in OpenWeatherMap.\n",
      "Request 158 sent for meadow lake.\n",
      "Response code 200 received for meadow lake.\n",
      "Request 159 sent for madison heights.\n",
      "Response code 200 received for madison heights.\n",
      "Request 160 sent for kyaukse.\n",
      "Response code 200 received for kyaukse.\n",
      "Request 161 sent for honningsvag.\n",
      "Response code 200 received for honningsvag.\n",
      "Request 162 sent for juazeiro.\n",
      "Response code 200 received for juazeiro.\n",
      "Request 163 sent for katherine.\n",
      "Response code 200 received for katherine.\n",
      "Request 164 sent for torbay.\n",
      "Response code 200 received for torbay.\n",
      "Request 165 sent for santa isabel do rio negro.\n",
      "Response code 200 received for santa isabel do rio negro.\n",
      "Request 166 sent for sendafa.\n",
      "Response code 200 received for sendafa.\n",
      "Request 167 sent for vallenar.\n",
      "Response code 200 received for vallenar.\n",
      "Request 168 sent for fortuna.\n",
      "Response code 200 received for fortuna.\n",
      "Request 169 sent for praya.\n",
      "Response code 200 received for praya.\n",
      "Request 170 sent for esso.\n",
      "Response code 200 received for esso.\n",
      "Request 171 sent for los llanos de aridane.\n",
      "Response code 200 received for los llanos de aridane.\n",
      "Request 172 sent for luderitz.\n",
      "Response code 200 received for luderitz.\n",
      "Request 173 sent for guerrero negro.\n",
      "Response code 200 received for guerrero negro.\n",
      "Request 174 sent for vila franca do campo.\n",
      "Response code 200 received for vila franca do campo.\n",
      "Request 175 sent for mushie.\n",
      "Response code 200 received for mushie.\n",
      "Request 176 sent for vestmanna.\n",
      "Response code 200 received for vestmanna.\n",
      "karakendzha does not exist in OpenWeatherMap.\n",
      "Request 178 sent for klaksvik.\n",
      "Response code 200 received for klaksvik.\n",
      "Request 179 sent for tagbac.\n",
      "Response code 200 received for tagbac.\n",
      "vaitupu does not exist in OpenWeatherMap.\n",
      "Request 181 sent for asyut.\n",
      "Response code 200 received for asyut.\n",
      "Request 182 sent for clyde river.\n",
      "Response code 200 received for clyde river.\n",
      "Request 183 sent for luanda.\n",
      "Response code 200 received for luanda.\n",
      "Request 184 sent for progreso.\n",
      "Response code 200 received for progreso.\n",
      "Request 185 sent for esmeralda.\n",
      "Response code 200 received for esmeralda.\n",
      "Request 186 sent for maceio.\n",
      "Response code 200 received for maceio.\n",
      "Request 187 sent for melville.\n",
      "Response code 200 received for melville.\n",
      "Request 188 sent for codrington.\n",
      "Response code 200 received for codrington.\n",
      "kerki does not exist in OpenWeatherMap.\n",
      "Request 190 sent for san patricio.\n",
      "Response code 200 received for san patricio.\n",
      "Request 191 sent for sabha.\n",
      "Response code 200 received for sabha.\n",
      "Request 192 sent for new bern.\n",
      "Response code 200 received for new bern.\n",
      "Request 193 sent for merauke.\n",
      "Response code 200 received for merauke.\n",
      "Request 194 sent for south venice.\n",
      "Response code 200 received for south venice.\n",
      "Request 195 sent for usinsk.\n",
      "Response code 200 received for usinsk.\n",
      "Request 196 sent for opuwo.\n",
      "Response code 200 received for opuwo.\n",
      "Request 197 sent for ilulissat.\n",
      "Response code 200 received for ilulissat.\n",
      "Request 198 sent for namibe.\n",
      "Response code 200 received for namibe.\n",
      "Request 199 sent for timra.\n",
      "Response code 200 received for timra.\n",
      "Request 200 sent for nanakuli.\n",
      "Response code 200 received for nanakuli.\n",
      "Request 201 sent for caravelas.\n",
      "Response code 200 received for caravelas.\n",
      "Request 202 sent for mahebourg.\n",
      "Response code 200 received for mahebourg.\n",
      "Request 203 sent for santa marta.\n",
      "Response code 200 received for santa marta.\n",
      "Request 204 sent for saint george.\n",
      "Response code 200 received for saint george.\n",
      "Request 205 sent for sambava.\n",
      "Response code 200 received for sambava.\n",
      "Request 206 sent for ixtapa.\n",
      "Response code 200 received for ixtapa.\n",
      "Request 207 sent for pisco.\n",
      "Response code 200 received for pisco.\n",
      "Request 208 sent for barrow.\n",
      "Response code 200 received for barrow.\n",
      "Request 209 sent for miguel calmon.\n",
      "Response code 200 received for miguel calmon.\n",
      "susah does not exist in OpenWeatherMap.\n",
      "Request 211 sent for bonthe.\n",
      "Response code 200 received for bonthe.\n",
      "Request 212 sent for jalu.\n",
      "Response code 200 received for jalu.\n",
      "Request 213 sent for alofi.\n",
      "Response code 200 received for alofi.\n",
      "Request 214 sent for suamico.\n",
      "Response code 200 received for suamico.\n",
      "Request 215 sent for ruyigi.\n",
      "Response code 200 received for ruyigi.\n",
      "Request 216 sent for sassandra.\n",
      "Response code 200 received for sassandra.\n",
      "Request 217 sent for byron bay.\n",
      "Response code 200 received for byron bay.\n",
      "Request 218 sent for bairiki.\n",
      "Response code 200 received for bairiki.\n",
      "Request 219 sent for tessalit.\n",
      "Response code 200 received for tessalit.\n",
      "Request 220 sent for taltal.\n",
      "Response code 200 received for taltal.\n",
      "Request 221 sent for cayenne.\n",
      "Response code 200 received for cayenne.\n",
      "Request 222 sent for kahului.\n",
      "Response code 200 received for kahului.\n",
      "Request 223 sent for sao sebastiao.\n",
      "Response code 200 received for sao sebastiao.\n",
      "Request 224 sent for toktogul.\n",
      "Response code 200 received for toktogul.\n",
      "Request 225 sent for itarema.\n",
      "Response code 200 received for itarema.\n",
      "mys shmidta does not exist in OpenWeatherMap.\n",
      "Request 227 sent for faya.\n",
      "Response code 200 received for faya.\n",
      "Request 228 sent for auchi.\n",
      "Response code 200 received for auchi.\n",
      "Request 229 sent for airai.\n",
      "Response code 200 received for airai.\n",
      "Request 230 sent for ostrovnoy.\n",
      "Response code 200 received for ostrovnoy.\n",
      "Request 231 sent for nalut.\n",
      "Response code 200 received for nalut.\n",
      "Request 232 sent for sitio novo do tocantins.\n",
      "Response code 200 received for sitio novo do tocantins.\n",
      "Request 233 sent for daru.\n",
      "Response code 200 received for daru.\n",
      "Request 234 sent for gejiu.\n",
      "Response code 200 received for gejiu.\n",
      "mrirt does not exist in OpenWeatherMap.\n",
      "ijaki does not exist in OpenWeatherMap.\n",
      "Request 237 sent for upernavik.\n",
      "Response code 200 received for upernavik.\n"
     ]
    },
    {
     "name": "stdout",
     "output_type": "stream",
     "text": [
      "Request 238 sent for koroni.\n",
      "Response code 200 received for koroni.\n",
      "Request 239 sent for zhanaozen.\n",
      "Response code 200 received for zhanaozen.\n",
      "Request 240 sent for bengkulu.\n",
      "Response code 200 received for bengkulu.\n",
      "Request 241 sent for vardo.\n",
      "Response code 200 received for vardo.\n",
      "Request 242 sent for srednekolymsk.\n",
      "Response code 200 received for srednekolymsk.\n",
      "Request 243 sent for vanimo.\n",
      "Response code 200 received for vanimo.\n",
      "Request 244 sent for inuvik.\n",
      "Response code 200 received for inuvik.\n",
      "Request 245 sent for pangnirtung.\n",
      "Response code 200 received for pangnirtung.\n",
      "Request 246 sent for balkhash.\n",
      "Response code 200 received for balkhash.\n",
      "Request 247 sent for hakkari.\n",
      "Response code 200 received for hakkari.\n",
      "Request 248 sent for young.\n",
      "Response code 200 received for young.\n",
      "Request 249 sent for avera.\n",
      "Response code 200 received for avera.\n",
      "Request 250 sent for cap malheureux.\n",
      "Response code 200 received for cap malheureux.\n",
      "Request 251 sent for bontang.\n",
      "Response code 200 received for bontang.\n",
      "Request 252 sent for langnau.\n",
      "Response code 200 received for langnau.\n",
      "Request 253 sent for provideniya.\n",
      "Response code 200 received for provideniya.\n",
      "Request 254 sent for hastings.\n",
      "Response code 200 received for hastings.\n",
      "Request 255 sent for araouane.\n",
      "Response code 200 received for araouane.\n",
      "Request 256 sent for alice.\n",
      "Response code 200 received for alice.\n",
      "Request 257 sent for waipawa.\n",
      "Response code 200 received for waipawa.\n",
      "Request 258 sent for bambous virieux.\n",
      "Response code 200 received for bambous virieux.\n",
      "Request 259 sent for casma.\n",
      "Response code 200 received for casma.\n",
      "Request 260 sent for comodoro rivadavia.\n",
      "Response code 200 received for comodoro rivadavia.\n",
      "Request 261 sent for tual.\n",
      "Response code 200 received for tual.\n",
      "Request 262 sent for castro.\n",
      "Response code 200 received for castro.\n",
      "Request 263 sent for broken hill.\n",
      "Response code 200 received for broken hill.\n",
      "Request 264 sent for oga.\n",
      "Response code 200 received for oga.\n",
      "Request 265 sent for saldanha.\n",
      "Response code 200 received for saldanha.\n",
      "Request 266 sent for eden.\n",
      "Response code 200 received for eden.\n",
      "Request 267 sent for hamilton.\n",
      "Response code 200 received for hamilton.\n",
      "Request 268 sent for lebu.\n",
      "Response code 200 received for lebu.\n",
      "Request 269 sent for taybad.\n",
      "Response code 200 received for taybad.\n",
      "Request 270 sent for ribeira grande.\n",
      "Response code 200 received for ribeira grande.\n",
      "Request 271 sent for tabou.\n",
      "Response code 200 received for tabou.\n",
      "Request 272 sent for arraial do cabo.\n",
      "Response code 200 received for arraial do cabo.\n",
      "Request 273 sent for minnedosa.\n",
      "Response code 200 received for minnedosa.\n",
      "Request 274 sent for bocanda.\n",
      "Response code 200 received for bocanda.\n",
      "Request 275 sent for hambantota.\n",
      "Response code 200 received for hambantota.\n",
      "Request 276 sent for narsaq.\n",
      "Response code 200 received for narsaq.\n",
      "Request 277 sent for beringovskiy.\n",
      "Response code 200 received for beringovskiy.\n",
      "Request 278 sent for rosetta.\n",
      "Response code 200 received for rosetta.\n",
      "Request 279 sent for henties bay.\n",
      "Response code 200 received for henties bay.\n",
      "Request 280 sent for tulsipur.\n",
      "Response code 200 received for tulsipur.\n",
      "Request 281 sent for ampanihy.\n",
      "Response code 200 received for ampanihy.\n",
      "Request 282 sent for moron.\n",
      "Response code 200 received for moron.\n",
      "Request 283 sent for krasnovishersk.\n",
      "Response code 200 received for krasnovishersk.\n",
      "Request 284 sent for saint-georges.\n",
      "Response code 200 received for saint-georges.\n",
      "Request 285 sent for morden.\n",
      "Response code 200 received for morden.\n",
      "Request 286 sent for lalibela.\n",
      "Response code 200 received for lalibela.\n",
      "Request 287 sent for orange walk.\n",
      "Response code 200 received for orange walk.\n",
      "Request 288 sent for bilibino.\n",
      "Response code 200 received for bilibino.\n",
      "Request 289 sent for mayo.\n",
      "Response code 200 received for mayo.\n",
      "Request 290 sent for bardiyah.\n",
      "Response code 200 received for bardiyah.\n",
      "amderma does not exist in OpenWeatherMap.\n",
      "Request 292 sent for troitskoye.\n",
      "Response code 200 received for troitskoye.\n",
      "milingimbi does not exist in OpenWeatherMap.\n",
      "Request 294 sent for camargo.\n",
      "Response code 200 received for camargo.\n",
      "Request 295 sent for la puebla de cazalla.\n",
      "Response code 200 received for la puebla de cazalla.\n",
      "Request 296 sent for porangatu.\n",
      "Response code 200 received for porangatu.\n",
      "Request 297 sent for belyy yar.\n",
      "Response code 200 received for belyy yar.\n",
      "Request 298 sent for lasem.\n",
      "Response code 200 received for lasem.\n",
      "Request 299 sent for cidreira.\n",
      "Response code 200 received for cidreira.\n",
      "Request 300 sent for ibra.\n",
      "Response code 200 received for ibra.\n",
      "Request 301 sent for wewak.\n",
      "Response code 200 received for wewak.\n",
      "Request 302 sent for pochutla.\n",
      "Response code 200 received for pochutla.\n",
      "Request 303 sent for ende.\n",
      "Response code 200 received for ende.\n",
      "Request 304 sent for suleja.\n",
      "Response code 200 received for suleja.\n",
      "Request 305 sent for kalmunai.\n",
      "Response code 200 received for kalmunai.\n",
      "Request 306 sent for morristown.\n",
      "Response code 200 received for morristown.\n",
      "Request 307 sent for yerbogachen.\n",
      "Response code 200 received for yerbogachen.\n",
      "Request 308 sent for bethel.\n",
      "Response code 200 received for bethel.\n",
      "Request 309 sent for bizhbulyak.\n",
      "Response code 200 received for bizhbulyak.\n",
      "Request 310 sent for gold coast.\n",
      "Response code 200 received for gold coast.\n",
      "Request 311 sent for garissa.\n",
      "Response code 200 received for garissa.\n",
      "Request 312 sent for bathsheba.\n",
      "Response code 200 received for bathsheba.\n",
      "Request 313 sent for margate.\n",
      "Response code 200 received for margate.\n",
      "Request 314 sent for sisimiut.\n",
      "Response code 200 received for sisimiut.\n",
      "Request 315 sent for aleppo.\n",
      "Response code 200 received for aleppo.\n",
      "Request 316 sent for omsukchan.\n",
      "Response code 200 received for omsukchan.\n",
      "Request 317 sent for axim.\n",
      "Response code 200 received for axim.\n",
      "Request 318 sent for turukhansk.\n",
      "Response code 200 received for turukhansk.\n",
      "Request 319 sent for klyuchi.\n",
      "Response code 200 received for klyuchi.\n",
      "Request 320 sent for chipata.\n",
      "Response code 200 received for chipata.\n",
      "karamay does not exist in OpenWeatherMap.\n",
      "Request 322 sent for tazovskiy.\n",
      "Response code 200 received for tazovskiy.\n",
      "Request 323 sent for nome.\n",
      "Response code 200 received for nome.\n",
      "Request 324 sent for dongzhen.\n",
      "Response code 200 received for dongzhen.\n",
      "Request 325 sent for bela.\n",
      "Response code 200 received for bela.\n",
      "Request 326 sent for bichura.\n",
      "Response code 200 received for bichura.\n",
      "Request 327 sent for harrison.\n",
      "Response code 200 received for harrison.\n",
      "Request 328 sent for port blair.\n",
      "Response code 200 received for port blair.\n",
      "Request 329 sent for solano.\n",
      "Response code 200 received for solano.\n",
      "Request 330 sent for espanola.\n",
      "Response code 200 received for espanola.\n",
      "Request 331 sent for lanxi.\n",
      "Response code 200 received for lanxi.\n",
      "Request 332 sent for olafsvik.\n",
      "Response code 200 received for olafsvik.\n",
      "bur gabo does not exist in OpenWeatherMap.\n",
      "Request 334 sent for anage.\n",
      "Response code 200 received for anage.\n",
      "Request 335 sent for callaway.\n",
      "Response code 200 received for callaway.\n",
      "Request 336 sent for kawalu.\n",
      "Response code 200 received for kawalu.\n",
      "Request 337 sent for norman wells.\n",
      "Response code 200 received for norman wells.\n",
      "umzimvubu does not exist in OpenWeatherMap.\n",
      "Request 339 sent for zalari.\n",
      "Response code 200 received for zalari.\n",
      "Request 340 sent for tukrah.\n",
      "Response code 200 received for tukrah.\n",
      "Request 341 sent for tautira.\n",
      "Response code 200 received for tautira.\n",
      "Request 342 sent for abu kamal.\n",
      "Response code 200 received for abu kamal.\n",
      "Request 343 sent for zhigansk.\n",
      "Response code 200 received for zhigansk.\n",
      "Request 344 sent for otane.\n",
      "Response code 200 received for otane.\n",
      "mukhanovo does not exist in OpenWeatherMap.\n",
      "Request 346 sent for horsham.\n",
      "Response code 200 received for horsham.\n",
      "Request 347 sent for haines junction.\n",
      "Response code 200 received for haines junction.\n",
      "Request 348 sent for ambulu.\n",
      "Response code 200 received for ambulu.\n",
      "Request 349 sent for pevek.\n",
      "Response code 200 received for pevek.\n",
      "samusu does not exist in OpenWeatherMap.\n",
      "Request 351 sent for springbok.\n",
      "Response code 200 received for springbok.\n",
      "Request 352 sent for mount gambier.\n",
      "Response code 200 received for mount gambier.\n",
      "mentok does not exist in OpenWeatherMap.\n",
      "Request 354 sent for hebi.\n",
      "Response code 200 received for hebi.\n",
      "Request 355 sent for kathmandu.\n",
      "Response code 200 received for kathmandu.\n"
     ]
    },
    {
     "name": "stdout",
     "output_type": "stream",
     "text": [
      "Request 356 sent for san policarpo.\n",
      "Response code 200 received for san policarpo.\n",
      "Request 357 sent for pathankot.\n",
      "Response code 200 received for pathankot.\n",
      "Request 358 sent for tommot.\n",
      "Response code 200 received for tommot.\n",
      "Request 359 sent for camacha.\n",
      "Response code 200 received for camacha.\n",
      "Request 360 sent for hurghada.\n",
      "Response code 200 received for hurghada.\n",
      "Request 361 sent for katiola.\n",
      "Response code 200 received for katiola.\n",
      "Request 362 sent for buchanan.\n",
      "Response code 200 received for buchanan.\n",
      "Request 363 sent for gornopravdinsk.\n",
      "Response code 200 received for gornopravdinsk.\n",
      "Request 364 sent for goderich.\n",
      "Response code 200 received for goderich.\n",
      "Request 365 sent for uvat.\n",
      "Response code 200 received for uvat.\n",
      "Request 366 sent for port keats.\n",
      "Response code 200 received for port keats.\n",
      "Request 367 sent for bubaque.\n",
      "Response code 200 received for bubaque.\n",
      "Request 368 sent for shush.\n",
      "Response code 200 received for shush.\n",
      "Request 369 sent for paredon.\n",
      "Response code 200 received for paredon.\n",
      "Request 370 sent for karpogory.\n",
      "Response code 200 received for karpogory.\n",
      "Request 371 sent for antofagasta.\n",
      "Response code 200 received for antofagasta.\n",
      "Request 372 sent for grootfontein.\n",
      "Response code 200 received for grootfontein.\n",
      "Request 373 sent for praia da vitoria.\n",
      "Response code 200 received for praia da vitoria.\n",
      "Request 374 sent for sipe sipe.\n",
      "Response code 200 received for sipe sipe.\n",
      "Request 375 sent for alta floresta.\n",
      "Response code 200 received for alta floresta.\n",
      "Request 376 sent for nouakchott.\n",
      "Response code 200 received for nouakchott.\n",
      "Request 377 sent for petrykivka.\n",
      "Response code 200 received for petrykivka.\n",
      "Request 378 sent for watsa.\n",
      "Response code 200 received for watsa.\n",
      "Request 379 sent for tagusao.\n",
      "Response code 200 received for tagusao.\n",
      "Request 380 sent for iqaluit.\n",
      "Response code 200 received for iqaluit.\n",
      "Request 381 sent for baykit.\n",
      "Response code 200 received for baykit.\n",
      "Request 382 sent for brownsville.\n",
      "Response code 200 received for brownsville.\n",
      "Request 383 sent for zumpango.\n",
      "Response code 200 received for zumpango.\n",
      "Request 384 sent for cherskiy.\n",
      "Response code 200 received for cherskiy.\n",
      "malwan does not exist in OpenWeatherMap.\n",
      "Request 386 sent for fairbanks.\n",
      "Response code 200 received for fairbanks.\n",
      "maykain does not exist in OpenWeatherMap.\n",
      "Request 388 sent for talara.\n",
      "Response code 200 received for talara.\n",
      "Request 389 sent for husavik.\n",
      "Response code 200 received for husavik.\n",
      "Request 390 sent for khandbari.\n",
      "Response code 200 received for khandbari.\n",
      "Request 391 sent for glendive.\n",
      "Response code 200 received for glendive.\n",
      "Request 392 sent for belgrade.\n",
      "Response code 200 received for belgrade.\n",
      "Request 393 sent for kainantu.\n",
      "Response code 200 received for kainantu.\n",
      "Request 394 sent for paracuru.\n",
      "Response code 200 received for paracuru.\n",
      "Request 395 sent for talaya.\n",
      "Response code 200 received for talaya.\n",
      "Request 396 sent for aras.\n",
      "Response code 200 received for aras.\n",
      "Request 397 sent for kieta.\n",
      "Response code 200 received for kieta.\n",
      "Request 398 sent for uppsala.\n",
      "Response code 200 received for uppsala.\n",
      "Request 399 sent for rensvik.\n",
      "Response code 200 received for rensvik.\n",
      "Request 400 sent for ancud.\n",
      "Response code 200 received for ancud.\n",
      "Request 401 sent for filingue.\n",
      "Response code 200 received for filingue.\n",
      "Request 402 sent for iguai.\n",
      "Response code 200 received for iguai.\n",
      "Request 403 sent for vanavara.\n",
      "Response code 200 received for vanavara.\n",
      "Request 404 sent for nehe.\n",
      "Response code 200 received for nehe.\n",
      "Request 405 sent for coquimbo.\n",
      "Response code 200 received for coquimbo.\n",
      "Request 406 sent for akyab.\n",
      "Response code 200 received for akyab.\n",
      "Request 407 sent for aden.\n",
      "Response code 200 received for aden.\n",
      "Request 408 sent for lodwar.\n",
      "Response code 200 received for lodwar.\n",
      "Request 409 sent for diu.\n",
      "Response code 200 received for diu.\n",
      "Request 410 sent for shimoda.\n",
      "Response code 200 received for shimoda.\n",
      "Request 411 sent for swellendam.\n",
      "Response code 200 received for swellendam.\n",
      "Request 412 sent for yar-sale.\n",
      "Response code 200 received for yar-sale.\n",
      "Request 413 sent for formosa.\n",
      "Response code 200 received for formosa.\n",
      "Request 414 sent for santiago.\n",
      "Response code 200 received for santiago.\n",
      "Request 415 sent for kavaratti.\n",
      "Response code 200 received for kavaratti.\n",
      "Request 416 sent for saposoa.\n",
      "Response code 200 received for saposoa.\n",
      "Request 417 sent for kondinskoye.\n",
      "Response code 200 received for kondinskoye.\n",
      "Request 418 sent for traverse city.\n",
      "Response code 200 received for traverse city.\n",
      "Request 419 sent for oistins.\n",
      "Response code 200 received for oistins.\n",
      "Request 420 sent for strezhevoy.\n",
      "Response code 200 received for strezhevoy.\n",
      "Request 421 sent for movilita.\n",
      "Response code 200 received for movilita.\n",
      "Request 422 sent for severo-kurilsk.\n",
      "Response code 200 received for severo-kurilsk.\n",
      "Request 423 sent for fare.\n",
      "Response code 200 received for fare.\n",
      "Request 424 sent for isangel.\n",
      "Response code 200 received for isangel.\n",
      "Request 425 sent for oranjemund.\n",
      "Response code 200 received for oranjemund.\n",
      "Request 426 sent for hami.\n",
      "Response code 200 received for hami.\n",
      "Request 427 sent for uralets.\n",
      "Response code 200 received for uralets.\n",
      "Request 428 sent for turkan.\n",
      "Response code 200 received for turkan.\n",
      "Request 429 sent for caconda.\n",
      "Response code 200 received for caconda.\n",
      "Request 430 sent for ponta do sol.\n",
      "Response code 200 received for ponta do sol.\n",
      "Request 431 sent for pacifica.\n",
      "Response code 200 received for pacifica.\n",
      "Request 432 sent for masingbi.\n",
      "Response code 200 received for masingbi.\n",
      "Request 433 sent for araceli.\n",
      "Response code 200 received for araceli.\n",
      "Request 434 sent for dingle.\n",
      "Response code 200 received for dingle.\n",
      "Request 435 sent for riyadh.\n",
      "Response code 200 received for riyadh.\n",
      "Request 436 sent for nizhneudinsk.\n",
      "Response code 200 received for nizhneudinsk.\n",
      "Request 437 sent for college.\n",
      "Response code 200 received for college.\n",
      "Request 438 sent for barcelos.\n",
      "Response code 200 received for barcelos.\n",
      "Request 439 sent for bodden town.\n",
      "Response code 200 received for bodden town.\n",
      "Request 440 sent for bonavista.\n",
      "Response code 200 received for bonavista.\n",
      "Request 441 sent for wattegama.\n",
      "Response code 200 received for wattegama.\n",
      "Request 442 sent for mehran.\n",
      "Response code 200 received for mehran.\n",
      "Request 443 sent for paamiut.\n",
      "Response code 200 received for paamiut.\n",
      "Request 444 sent for chernyshevskiy.\n",
      "Response code 200 received for chernyshevskiy.\n",
      "Request 445 sent for richards bay.\n",
      "Response code 200 received for richards bay.\n",
      "Request 446 sent for boulsa.\n",
      "Response code 200 received for boulsa.\n",
      "Request 447 sent for port elizabeth.\n",
      "Response code 200 received for port elizabeth.\n",
      "Request 448 sent for papayal.\n",
      "Response code 200 received for papayal.\n",
      "Request 449 sent for brawley.\n",
      "Response code 200 received for brawley.\n",
      "gumushane does not exist in OpenWeatherMap.\n",
      "Request 451 sent for conde.\n",
      "Response code 200 received for conde.\n",
      "Request 452 sent for kavieng.\n",
      "Response code 200 received for kavieng.\n",
      "Request 453 sent for gillette.\n",
      "Response code 200 received for gillette.\n",
      "Request 454 sent for katsuura.\n",
      "Response code 200 received for katsuura.\n",
      "Request 455 sent for adrar.\n",
      "Response code 200 received for adrar.\n",
      "Request 456 sent for villarrica.\n",
      "Response code 200 received for villarrica.\n",
      "Request 457 sent for havre.\n",
      "Response code 200 received for havre.\n",
      "Request 458 sent for along.\n",
      "Response code 200 received for along.\n",
      "Request 459 sent for talnakh.\n",
      "Response code 200 received for talnakh.\n",
      "Request 460 sent for gongzhuling.\n",
      "Response code 200 received for gongzhuling.\n",
      "Request 461 sent for todos santos.\n",
      "Response code 200 received for todos santos.\n",
      "Request 462 sent for portland.\n",
      "Response code 200 received for portland.\n",
      "Request 463 sent for mahe.\n",
      "Response code 200 received for mahe.\n",
      "Request 464 sent for qaqortoq.\n",
      "Response code 200 received for qaqortoq.\n",
      "Request 465 sent for zaysan.\n",
      "Response code 200 received for zaysan.\n",
      "Request 466 sent for kanigoro.\n",
      "Response code 200 received for kanigoro.\n",
      "Request 467 sent for kabo.\n",
      "Response code 200 received for kabo.\n",
      "Request 468 sent for zhangye.\n",
      "Response code 200 received for zhangye.\n",
      "Request 469 sent for khurda.\n",
      "Response code 200 received for khurda.\n",
      "Request 470 sent for djambala.\n",
      "Response code 200 received for djambala.\n",
      "Request 471 sent for hermosillo.\n",
      "Response code 200 received for hermosillo.\n"
     ]
    },
    {
     "name": "stdout",
     "output_type": "stream",
     "text": [
      "Request 472 sent for maneadero.\n",
      "Response code 200 received for maneadero.\n",
      "Request 473 sent for martapura.\n",
      "Response code 200 received for martapura.\n",
      "Request 474 sent for kruisfontein.\n",
      "Response code 200 received for kruisfontein.\n",
      "Request 475 sent for teya.\n",
      "Response code 200 received for teya.\n",
      "Request 476 sent for antalaha.\n",
      "Response code 200 received for antalaha.\n",
      "Request 477 sent for muleba.\n",
      "Response code 200 received for muleba.\n",
      "Request 478 sent for nouadhibou.\n",
      "Response code 200 received for nouadhibou.\n",
      "Request 479 sent for sorland.\n",
      "Response code 200 received for sorland.\n",
      "Request 480 sent for port moresby.\n",
      "Response code 200 received for port moresby.\n",
      "Request 481 sent for tateyama.\n",
      "Response code 200 received for tateyama.\n",
      "Request 482 sent for prudnik.\n",
      "Response code 200 received for prudnik.\n",
      "Request 483 sent for vila velha.\n",
      "Response code 200 received for vila velha.\n",
      "Request 484 sent for salalah.\n",
      "Response code 200 received for salalah.\n",
      "Request 485 sent for saint-francois.\n",
      "Response code 200 received for saint-francois.\n",
      "Request 486 sent for niquero.\n",
      "Response code 200 received for niquero.\n",
      "Request 487 sent for montemor-o-novo.\n",
      "Response code 200 received for montemor-o-novo.\n",
      "Request 488 sent for yulara.\n",
      "Response code 200 received for yulara.\n",
      "Request 489 sent for hirara.\n",
      "Response code 200 received for hirara.\n",
      "Request 490 sent for north bend.\n",
      "Response code 200 received for north bend.\n",
      "Request 491 sent for zaykovo.\n",
      "Response code 200 received for zaykovo.\n",
      "Request 492 sent for san carlos de bariloche.\n",
      "Response code 200 received for san carlos de bariloche.\n",
      "Request 493 sent for deer lake.\n",
      "Response code 200 received for deer lake.\n",
      "Request 494 sent for kropotkin.\n",
      "Response code 200 received for kropotkin.\n",
      "Request 495 sent for grindavik.\n",
      "Response code 200 received for grindavik.\n",
      "Request 496 sent for mehamn.\n",
      "Response code 200 received for mehamn.\n",
      "Request 497 sent for xiaoweizhai.\n",
      "Response code 200 received for xiaoweizhai.\n",
      "Request 498 sent for kirakira.\n",
      "Response code 200 received for kirakira.\n",
      "Request 499 sent for yanam.\n",
      "Response code 200 received for yanam.\n",
      "Request 500 sent for ovalle.\n",
      "Response code 200 received for ovalle.\n",
      "Request 501 sent for manggar.\n",
      "Response code 200 received for manggar.\n",
      "Request 502 sent for buraydah.\n",
      "Response code 200 received for buraydah.\n",
      "Request 503 sent for vila.\n",
      "Response code 200 received for vila.\n",
      "Request 504 sent for bilma.\n",
      "Response code 200 received for bilma.\n",
      "Request 505 sent for mogadishu.\n",
      "Response code 200 received for mogadishu.\n",
      "Request 506 sent for ketchikan.\n",
      "Response code 200 received for ketchikan.\n",
      "Request 507 sent for flagstaff.\n",
      "Response code 200 received for flagstaff.\n",
      "Request 508 sent for kingsport.\n",
      "Response code 200 received for kingsport.\n",
      "Request 509 sent for udachnyy.\n",
      "Response code 200 received for udachnyy.\n",
      "Request 510 sent for akom.\n",
      "Response code 200 received for akom.\n",
      "Request 511 sent for padang.\n",
      "Response code 200 received for padang.\n",
      "Request 512 sent for touros.\n",
      "Response code 200 received for touros.\n",
      "Request 513 sent for mucurapo.\n",
      "Response code 200 received for mucurapo.\n",
      "Request 514 sent for sribne.\n",
      "Response code 200 received for sribne.\n",
      "Request 515 sent for sao gabriel da cachoeira.\n",
      "Response code 200 received for sao gabriel da cachoeira.\n",
      "Request 516 sent for umm lajj.\n",
      "Response code 200 received for umm lajj.\n",
      "Request 517 sent for ayan.\n",
      "Response code 200 received for ayan.\n",
      "Request 518 sent for mandurah.\n",
      "Response code 200 received for mandurah.\n",
      "Request 519 sent for luwuk.\n",
      "Response code 200 received for luwuk.\n",
      "Request 520 sent for takhtamygda.\n",
      "Response code 200 received for takhtamygda.\n",
      "Request 521 sent for panama city.\n",
      "Response code 200 received for panama city.\n",
      "Request 522 sent for red bluff.\n",
      "Response code 200 received for red bluff.\n",
      "Request 523 sent for simao.\n",
      "Response code 200 received for simao.\n",
      "Request 524 sent for awbari.\n",
      "Response code 200 received for awbari.\n",
      "Request 525 sent for ahuimanu.\n",
      "Response code 200 received for ahuimanu.\n",
      "Request 526 sent for sola.\n",
      "Response code 200 received for sola.\n",
      "Request 527 sent for acapulco.\n",
      "Response code 200 received for acapulco.\n",
      "Request 528 sent for pemberton.\n",
      "Response code 200 received for pemberton.\n",
      "Request 529 sent for sumbe.\n",
      "Response code 200 received for sumbe.\n",
      "Request 530 sent for les escoumins.\n",
      "Response code 200 received for les escoumins.\n",
      "Request 531 sent for baturaja.\n",
      "Response code 200 received for baturaja.\n",
      "Request 532 sent for dharampur.\n",
      "Response code 200 received for dharampur.\n",
      "Request 533 sent for biak.\n",
      "Response code 200 received for biak.\n",
      "Request 534 sent for iranduba.\n",
      "Response code 200 received for iranduba.\n",
      "Request 535 sent for lyndon.\n",
      "Response code 200 received for lyndon.\n",
      "Request 536 sent for karpathos.\n",
      "Response code 200 received for karpathos.\n",
      "Request 537 sent for sobolevo.\n",
      "Response code 200 received for sobolevo.\n",
      "Request 538 sent for labuhan.\n",
      "Response code 200 received for labuhan.\n",
      "Request 539 sent for bosaso.\n",
      "Response code 200 received for bosaso.\n",
      "Request 540 sent for shenkursk.\n",
      "Response code 200 received for shenkursk.\n",
      "Request 541 sent for wilmington.\n",
      "Response code 200 received for wilmington.\n",
      "Request 542 sent for te anau.\n",
      "Response code 200 received for te anau.\n",
      "Request 543 sent for grand baie.\n",
      "Response code 200 received for grand baie.\n",
      "Request 544 sent for pacific grove.\n",
      "Response code 200 received for pacific grove.\n",
      "Request 545 sent for farmington.\n",
      "Response code 200 received for farmington.\n",
      "Request 546 sent for bose.\n",
      "Response code 200 received for bose.\n",
      "Request 547 sent for nhulunbuy.\n",
      "Response code 200 received for nhulunbuy.\n",
      "Request 548 sent for tura.\n",
      "Response code 200 received for tura.\n",
      "Request 549 sent for helong.\n",
      "Response code 200 received for helong.\n",
      "Request 550 sent for belle fourche.\n",
      "Response code 200 received for belle fourche.\n",
      "Request 551 sent for kintinku.\n",
      "Response code 200 received for kintinku.\n",
      "Request 552 sent for dunedin.\n",
      "Response code 200 received for dunedin.\n",
      "Request 553 sent for kovdor.\n",
      "Response code 200 received for kovdor.\n",
      "Request 554 sent for honefoss.\n",
      "Response code 200 received for honefoss.\n",
      "Request 555 sent for tarbagatay.\n",
      "Response code 200 received for tarbagatay.\n",
      "Request 556 sent for botwood.\n",
      "Response code 200 received for botwood.\n",
      "Request 557 sent for yantal.\n",
      "Response code 200 received for yantal.\n",
      "Request 558 sent for greenwood.\n",
      "Response code 200 received for greenwood.\n",
      "Request 559 sent for ocampo.\n",
      "Response code 200 received for ocampo.\n",
      "Request 560 sent for quang ngai.\n",
      "Response code 200 received for quang ngai.\n",
      "Request 561 sent for naze.\n",
      "Response code 200 received for naze.\n",
      "azimur does not exist in OpenWeatherMap.\n",
      "Request 563 sent for galeana.\n",
      "Response code 200 received for galeana.\n",
      "Request 564 sent for muros.\n",
      "Response code 200 received for muros.\n",
      "Request 565 sent for tigil.\n",
      "Response code 200 received for tigil.\n",
      "Request 566 sent for kupang.\n",
      "Response code 200 received for kupang.\n",
      "Request 567 sent for benjamin constant.\n",
      "Response code 200 received for benjamin constant.\n",
      "Request 568 sent for alice springs.\n",
      "Response code 200 received for alice springs.\n",
      "Request 569 sent for mandiana.\n",
      "Response code 200 received for mandiana.\n",
      "Request 570 sent for tena.\n",
      "Response code 200 received for tena.\n",
      "Request 571 sent for the valley.\n",
      "Response code 200 received for the valley.\n",
      "umm durman does not exist in OpenWeatherMap.\n",
      "Request 573 sent for laguna.\n",
      "Response code 200 received for laguna.\n",
      "Request 574 sent for destin.\n",
      "Response code 200 received for destin.\n",
      "Request 575 sent for corowa.\n",
      "Response code 200 received for corowa.\n",
      "Request 576 sent for mackay.\n",
      "Response code 200 received for mackay.\n",
      "Request 577 sent for linjiang.\n",
      "Response code 200 received for linjiang.\n",
      "Request 578 sent for mabaruma.\n",
      "Response code 200 received for mabaruma.\n",
      "Request 579 sent for yumen.\n",
      "Response code 200 received for yumen.\n",
      "tumannyy does not exist in OpenWeatherMap.\n",
      "Request 581 sent for sawtell.\n",
      "Response code 200 received for sawtell.\n",
      "Request 582 sent for kimbe.\n",
      "Response code 200 received for kimbe.\n",
      "Request 583 sent for saint-augustin.\n",
      "Response code 200 received for saint-augustin.\n",
      "Request 584 sent for mandalgovi.\n",
      "Response code 200 received for mandalgovi.\n",
      "Request 585 sent for lata.\n",
      "Response code 200 received for lata.\n",
      "Request 586 sent for warrnambool.\n",
      "Response code 200 received for warrnambool.\n"
     ]
    },
    {
     "name": "stdout",
     "output_type": "stream",
     "text": [
      "Request 587 sent for ponta delgada.\n",
      "Response code 200 received for ponta delgada.\n",
      "Request 588 sent for broome.\n",
      "Response code 200 received for broome.\n",
      "Request 589 sent for lichinga.\n",
      "Response code 200 received for lichinga.\n",
      "Request 590 sent for bereda.\n",
      "Response code 200 received for bereda.\n",
      "Request 591 sent for saint-leu.\n",
      "Response code 200 received for saint-leu.\n",
      "Request 592 sent for ferme-neuve.\n",
      "Response code 200 received for ferme-neuve.\n",
      "Request 593 sent for tezu.\n",
      "Response code 200 received for tezu.\n",
      "Request 594 sent for pec.\n",
      "Response code 200 received for pec.\n",
      "Request 595 sent for belaya gora.\n",
      "Response code 200 received for belaya gora.\n",
      "Request 596 sent for hwange.\n",
      "Response code 200 received for hwange.\n",
      "Request 597 sent for sao joao da barra.\n",
      "Response code 200 received for sao joao da barra.\n",
      "Request 598 sent for odesskoye.\n",
      "Response code 200 received for odesskoye.\n",
      "berikulskiy does not exist in OpenWeatherMap.\n",
      "Request 600 sent for hokitika.\n",
      "Response code 200 received for hokitika.\n",
      "Request 601 sent for san cristobal.\n",
      "Response code 200 received for san cristobal.\n",
      "Request 602 sent for black forest.\n",
      "Response code 200 received for black forest.\n",
      "Request 603 sent for gizo.\n",
      "Response code 200 received for gizo.\n",
      "Request 604 sent for banska bystrica.\n",
      "Response code 200 received for banska bystrica.\n",
      "Request 605 sent for kikwit.\n",
      "Response code 200 received for kikwit.\n",
      "karauzyak does not exist in OpenWeatherMap.\n",
      "Request 607 sent for aripuana.\n",
      "Response code 200 received for aripuana.\n",
      "Request 608 sent for thaba-tseka.\n",
      "Response code 200 received for thaba-tseka.\n",
      "Request 609 sent for esperance.\n",
      "Response code 200 received for esperance.\n",
      "Request 610 sent for constitucion.\n",
      "Response code 200 received for constitucion.\n",
      "Request 611 sent for gushikawa.\n",
      "Response code 200 received for gushikawa.\n",
      "Request 612 sent for bonga.\n",
      "Response code 200 received for bonga.\n",
      "Request 613 sent for oktyabrskoye.\n",
      "Response code 200 received for oktyabrskoye.\n",
      "Request 614 sent for buritis.\n",
      "Response code 200 received for buritis.\n",
      "Request 615 sent for qandala.\n",
      "Response code 200 received for qandala.\n"
     ]
    }
   ],
   "source": [
    "for city in range(len(cities)):\n",
    "    try:\n",
    "        weather2 = requests.get(query_url + str(cities[city])).json()\n",
    "        lat.append(weather2['coord']['lat'])\n",
    "        long.append(weather2['coord']['lon'])\n",
    "        temp.append(weather2['main']['feels_like'])\n",
    "        max_temp.append(weather2['main']['temp_max'])\n",
    "        humid.append(weather2['main']['humidity'])\n",
    "        clouds.append(weather2['clouds']['all'])\n",
    "        winds.append(weather2['wind']['speed'])\n",
    "        city1.append(weather2['name'])\n",
    "        country.append(weather2['sys']['country'])\n",
    "        datetime.append(weather2['dt'])\n",
    "        print(f\"Request {city} sent for {cities[city]}.\")\n",
    "        print_request.append(f\"Request {city} sent for {cities[city]}.\")\n",
    "        print(f\"Response code {weather2['cod']} received for {cities[city]}.\")\n",
    "        print_response.append(f\"Response code {weather2['cod']} received for {cities[city]}.\")\n",
    "    except:\n",
    "        print(f\"{cities[city]} does not exist in OpenWeatherMap.\")\n",
    "        city2.append(cities[city])\n",
    "        print_dne.append(f\"{cities[city]} does not exist in OpenWeatherMap.\")\n",
    "        pass\n",
    "\n",
    "    "
   ]
  },
  {
   "cell_type": "code",
   "execution_count": 83,
   "metadata": {},
   "outputs": [
    {
     "ename": "AttributeError",
     "evalue": "'list' object has no attribute 'tz_convert'",
     "output_type": "error",
     "traceback": [
      "\u001b[0;31m---------------------------------------------------------------------------\u001b[0m",
      "\u001b[0;31mAttributeError\u001b[0m                            Traceback (most recent call last)",
      "\u001b[0;32m/var/folders/6t/7ljyhyps1g50vwwrjcwyl8bw0000gp/T/ipykernel_78502/90607832.py\u001b[0m in \u001b[0;36m<module>\u001b[0;34m\u001b[0m\n\u001b[1;32m      1\u001b[0m \u001b[0;31m#city2\u001b[0m\u001b[0;34m\u001b[0m\u001b[0;34m\u001b[0m\u001b[0m\n\u001b[0;32m----> 2\u001b[0;31m \u001b[0mdatetime2\u001b[0m \u001b[0;34m=\u001b[0m \u001b[0mdatetime\u001b[0m\u001b[0;34m.\u001b[0m\u001b[0mtz_convert\u001b[0m\u001b[0;34m(\u001b[0m\u001b[0;34m\"US/Pacific\"\u001b[0m\u001b[0;34m)\u001b[0m\u001b[0;34m\u001b[0m\u001b[0;34m\u001b[0m\u001b[0m\n\u001b[0m",
      "\u001b[0;31mAttributeError\u001b[0m: 'list' object has no attribute 'tz_convert'"
     ]
    }
   ],
   "source": [
    "#city2\n",
    "datetime2 = datetime.tz_convert(\"US/Pacific\")"
   ]
  },
  {
   "cell_type": "markdown",
   "metadata": {},
   "source": [
    "### Perform API Calls\n",
    "* Perform a weather check on each city using a series of successive API calls.\n",
    "* Include a print log of each city as it'sbeing processed (with the city number and city name).\n"
   ]
  },
  {
   "cell_type": "code",
   "execution_count": 59,
   "metadata": {},
   "outputs": [],
   "source": [
    "city_weather_dict ={\"city\": city1, \"latitude\": lat, \"longitude\": long, \"Max Temp\": max_temp,\n",
    "                   \"humidity\": humid, \"Feels Like\": temp, \"cloudiness\": clouds, \"wind speed\": winds,\n",
    "                   \"country\": country, \"datetime\": datetime}"
   ]
  },
  {
   "cell_type": "code",
   "execution_count": 61,
   "metadata": {
    "scrolled": true
   },
   "outputs": [
    {
     "data": {
      "text/html": [
       "<div>\n",
       "<style scoped>\n",
       "    .dataframe tbody tr th:only-of-type {\n",
       "        vertical-align: middle;\n",
       "    }\n",
       "\n",
       "    .dataframe tbody tr th {\n",
       "        vertical-align: top;\n",
       "    }\n",
       "\n",
       "    .dataframe thead th {\n",
       "        text-align: right;\n",
       "    }\n",
       "</style>\n",
       "<table border=\"1\" class=\"dataframe\">\n",
       "  <thead>\n",
       "    <tr style=\"text-align: right;\">\n",
       "      <th></th>\n",
       "      <th>city</th>\n",
       "      <th>latitude</th>\n",
       "      <th>longitude</th>\n",
       "      <th>Max Temp</th>\n",
       "      <th>humidity</th>\n",
       "      <th>Feels Like</th>\n",
       "      <th>cloudiness</th>\n",
       "      <th>wind speed</th>\n",
       "      <th>country</th>\n",
       "      <th>datetime</th>\n",
       "    </tr>\n",
       "  </thead>\n",
       "  <tbody>\n",
       "    <tr>\n",
       "      <th>0</th>\n",
       "      <td>Rikitea</td>\n",
       "      <td>-23.1203</td>\n",
       "      <td>-134.9692</td>\n",
       "      <td>72.84</td>\n",
       "      <td>73</td>\n",
       "      <td>73.26</td>\n",
       "      <td>9</td>\n",
       "      <td>6.44</td>\n",
       "      <td>PF</td>\n",
       "      <td>1660957528</td>\n",
       "    </tr>\n",
       "    <tr>\n",
       "      <th>1</th>\n",
       "      <td>Meulaboh</td>\n",
       "      <td>4.1363</td>\n",
       "      <td>96.1285</td>\n",
       "      <td>77.40</td>\n",
       "      <td>89</td>\n",
       "      <td>79.02</td>\n",
       "      <td>69</td>\n",
       "      <td>4.41</td>\n",
       "      <td>ID</td>\n",
       "      <td>1660957529</td>\n",
       "    </tr>\n",
       "    <tr>\n",
       "      <th>2</th>\n",
       "      <td>Hilo</td>\n",
       "      <td>19.7297</td>\n",
       "      <td>-155.0900</td>\n",
       "      <td>89.28</td>\n",
       "      <td>83</td>\n",
       "      <td>78.21</td>\n",
       "      <td>100</td>\n",
       "      <td>6.91</td>\n",
       "      <td>US</td>\n",
       "      <td>1660957524</td>\n",
       "    </tr>\n",
       "    <tr>\n",
       "      <th>3</th>\n",
       "      <td>Laas</td>\n",
       "      <td>46.6166</td>\n",
       "      <td>10.7002</td>\n",
       "      <td>59.36</td>\n",
       "      <td>95</td>\n",
       "      <td>59.47</td>\n",
       "      <td>100</td>\n",
       "      <td>6.31</td>\n",
       "      <td>IT</td>\n",
       "      <td>1660957529</td>\n",
       "    </tr>\n",
       "    <tr>\n",
       "      <th>4</th>\n",
       "      <td>Souillac</td>\n",
       "      <td>-20.5167</td>\n",
       "      <td>57.5167</td>\n",
       "      <td>70.30</td>\n",
       "      <td>74</td>\n",
       "      <td>70.52</td>\n",
       "      <td>42</td>\n",
       "      <td>14.79</td>\n",
       "      <td>MU</td>\n",
       "      <td>1660957306</td>\n",
       "    </tr>\n",
       "  </tbody>\n",
       "</table>\n",
       "</div>"
      ],
      "text/plain": [
       "       city  latitude  longitude  Max Temp  humidity  Feels Like  cloudiness  \\\n",
       "0   Rikitea  -23.1203  -134.9692     72.84        73       73.26           9   \n",
       "1  Meulaboh    4.1363    96.1285     77.40        89       79.02          69   \n",
       "2      Hilo   19.7297  -155.0900     89.28        83       78.21         100   \n",
       "3      Laas   46.6166    10.7002     59.36        95       59.47         100   \n",
       "4  Souillac  -20.5167    57.5167     70.30        74       70.52          42   \n",
       "\n",
       "   wind speed country    datetime  \n",
       "0        6.44      PF  1660957528  \n",
       "1        4.41      ID  1660957529  \n",
       "2        6.91      US  1660957524  \n",
       "3        6.31      IT  1660957529  \n",
       "4       14.79      MU  1660957306  "
      ]
     },
     "execution_count": 61,
     "metadata": {},
     "output_type": "execute_result"
    }
   ],
   "source": [
    "city_weather = pd.DataFrame(city_weather_dict)\n",
    "city_weather.head()"
   ]
  },
  {
   "cell_type": "code",
   "execution_count": 93,
   "metadata": {},
   "outputs": [
    {
     "data": {
      "text/html": [
       "<div>\n",
       "<style scoped>\n",
       "    .dataframe tbody tr th:only-of-type {\n",
       "        vertical-align: middle;\n",
       "    }\n",
       "\n",
       "    .dataframe tbody tr th {\n",
       "        vertical-align: top;\n",
       "    }\n",
       "\n",
       "    .dataframe thead th {\n",
       "        text-align: right;\n",
       "    }\n",
       "</style>\n",
       "<table border=\"1\" class=\"dataframe\">\n",
       "  <thead>\n",
       "    <tr style=\"text-align: right;\">\n",
       "      <th></th>\n",
       "      <th>city</th>\n",
       "      <th>latitude</th>\n",
       "      <th>longitude</th>\n",
       "      <th>Max Temp</th>\n",
       "      <th>humidity</th>\n",
       "      <th>Feels Like</th>\n",
       "      <th>cloudiness</th>\n",
       "      <th>wind speed</th>\n",
       "      <th>country</th>\n",
       "      <th>datetime</th>\n",
       "      <th>date</th>\n",
       "    </tr>\n",
       "  </thead>\n",
       "  <tbody>\n",
       "    <tr>\n",
       "      <th>0</th>\n",
       "      <td>Rikitea</td>\n",
       "      <td>-23.1203</td>\n",
       "      <td>-134.9692</td>\n",
       "      <td>72.84</td>\n",
       "      <td>73</td>\n",
       "      <td>73.26</td>\n",
       "      <td>9</td>\n",
       "      <td>6.44</td>\n",
       "      <td>PF</td>\n",
       "      <td>1660957528</td>\n",
       "      <td>2022-08-20 01:05:28-07:00</td>\n",
       "    </tr>\n",
       "    <tr>\n",
       "      <th>1</th>\n",
       "      <td>Meulaboh</td>\n",
       "      <td>4.1363</td>\n",
       "      <td>96.1285</td>\n",
       "      <td>77.40</td>\n",
       "      <td>89</td>\n",
       "      <td>79.02</td>\n",
       "      <td>69</td>\n",
       "      <td>4.41</td>\n",
       "      <td>ID</td>\n",
       "      <td>1660957529</td>\n",
       "      <td>2022-08-20 01:05:29-07:00</td>\n",
       "    </tr>\n",
       "    <tr>\n",
       "      <th>2</th>\n",
       "      <td>Hilo</td>\n",
       "      <td>19.7297</td>\n",
       "      <td>-155.0900</td>\n",
       "      <td>89.28</td>\n",
       "      <td>83</td>\n",
       "      <td>78.21</td>\n",
       "      <td>100</td>\n",
       "      <td>6.91</td>\n",
       "      <td>US</td>\n",
       "      <td>1660957524</td>\n",
       "      <td>2022-08-20 01:05:24-07:00</td>\n",
       "    </tr>\n",
       "    <tr>\n",
       "      <th>3</th>\n",
       "      <td>Laas</td>\n",
       "      <td>46.6166</td>\n",
       "      <td>10.7002</td>\n",
       "      <td>59.36</td>\n",
       "      <td>95</td>\n",
       "      <td>59.47</td>\n",
       "      <td>100</td>\n",
       "      <td>6.31</td>\n",
       "      <td>IT</td>\n",
       "      <td>1660957529</td>\n",
       "      <td>2022-08-20 01:05:29-07:00</td>\n",
       "    </tr>\n",
       "    <tr>\n",
       "      <th>4</th>\n",
       "      <td>Souillac</td>\n",
       "      <td>-20.5167</td>\n",
       "      <td>57.5167</td>\n",
       "      <td>70.30</td>\n",
       "      <td>74</td>\n",
       "      <td>70.52</td>\n",
       "      <td>42</td>\n",
       "      <td>14.79</td>\n",
       "      <td>MU</td>\n",
       "      <td>1660957306</td>\n",
       "      <td>2022-08-20 01:01:46-07:00</td>\n",
       "    </tr>\n",
       "  </tbody>\n",
       "</table>\n",
       "</div>"
      ],
      "text/plain": [
       "       city  latitude  longitude  Max Temp  humidity  Feels Like  cloudiness  \\\n",
       "0   Rikitea  -23.1203  -134.9692     72.84        73       73.26           9   \n",
       "1  Meulaboh    4.1363    96.1285     77.40        89       79.02          69   \n",
       "2      Hilo   19.7297  -155.0900     89.28        83       78.21         100   \n",
       "3      Laas   46.6166    10.7002     59.36        95       59.47         100   \n",
       "4  Souillac  -20.5167    57.5167     70.30        74       70.52          42   \n",
       "\n",
       "   wind speed country    datetime                      date  \n",
       "0        6.44      PF  1660957528 2022-08-20 01:05:28-07:00  \n",
       "1        4.41      ID  1660957529 2022-08-20 01:05:29-07:00  \n",
       "2        6.91      US  1660957524 2022-08-20 01:05:24-07:00  \n",
       "3        6.31      IT  1660957529 2022-08-20 01:05:29-07:00  \n",
       "4       14.79      MU  1660957306 2022-08-20 01:01:46-07:00  "
      ]
     },
     "execution_count": 93,
     "metadata": {},
     "output_type": "execute_result"
    }
   ],
   "source": [
    "# unix, UTC timestamp conversion from:\n",
    "# https://www.codegrepper.com/code-examples/python/convert+unix+timestamp+to+datetime+python+pandas\n",
    "city_weather[\"date\"] = pd.to_datetime(city_weather[\"datetime\"], unit=\"s\").dt.tz_localize(\"US/Pacific\")\n",
    "\n",
    "#city_weather[\"date\"].dt.tz_localize(\"US/Pacific\")\n",
    "#city_weather[\"date\"].dt.tz_convert(\"US/Pacific\")\n",
    "city_weather.head()"
   ]
  },
  {
   "cell_type": "code",
   "execution_count": 100,
   "metadata": {
    "scrolled": false
   },
   "outputs": [],
   "source": [
    "# found country converter to convert from ISO 2 letter country to country name at the following\"\n",
    "# https://pypi.org/project/country-converter/\n",
    "# https://stackoverflow.com/questions/64051741/how-to-convert-country-code-to-name-with-country-converter-in-pandas\n",
    "# https://notebook.community/konstantinstadler/country_converter/doc/country_converter_examples\n",
    "converter = coco.CountryConverter()\n",
    "city_weather[\"country name\"] = converter.convert(city_weather[\"country\"], src=\"ISO2\", to=\"name_short\")"
   ]
  },
  {
   "cell_type": "code",
   "execution_count": 101,
   "metadata": {},
   "outputs": [
    {
     "data": {
      "text/html": [
       "<div>\n",
       "<style scoped>\n",
       "    .dataframe tbody tr th:only-of-type {\n",
       "        vertical-align: middle;\n",
       "    }\n",
       "\n",
       "    .dataframe tbody tr th {\n",
       "        vertical-align: top;\n",
       "    }\n",
       "\n",
       "    .dataframe thead th {\n",
       "        text-align: right;\n",
       "    }\n",
       "</style>\n",
       "<table border=\"1\" class=\"dataframe\">\n",
       "  <thead>\n",
       "    <tr style=\"text-align: right;\">\n",
       "      <th></th>\n",
       "      <th>city</th>\n",
       "      <th>latitude</th>\n",
       "      <th>longitude</th>\n",
       "      <th>Max Temp</th>\n",
       "      <th>humidity</th>\n",
       "      <th>Feels Like</th>\n",
       "      <th>cloudiness</th>\n",
       "      <th>wind speed</th>\n",
       "      <th>country</th>\n",
       "      <th>datetime</th>\n",
       "      <th>date</th>\n",
       "      <th>country name</th>\n",
       "    </tr>\n",
       "  </thead>\n",
       "  <tbody>\n",
       "    <tr>\n",
       "      <th>0</th>\n",
       "      <td>Rikitea</td>\n",
       "      <td>-23.1203</td>\n",
       "      <td>-134.9692</td>\n",
       "      <td>72.84</td>\n",
       "      <td>73</td>\n",
       "      <td>73.26</td>\n",
       "      <td>9</td>\n",
       "      <td>6.44</td>\n",
       "      <td>PF</td>\n",
       "      <td>1660957528</td>\n",
       "      <td>2022-08-20 01:05:28-07:00</td>\n",
       "      <td>French Polynesia</td>\n",
       "    </tr>\n",
       "    <tr>\n",
       "      <th>1</th>\n",
       "      <td>Meulaboh</td>\n",
       "      <td>4.1363</td>\n",
       "      <td>96.1285</td>\n",
       "      <td>77.40</td>\n",
       "      <td>89</td>\n",
       "      <td>79.02</td>\n",
       "      <td>69</td>\n",
       "      <td>4.41</td>\n",
       "      <td>ID</td>\n",
       "      <td>1660957529</td>\n",
       "      <td>2022-08-20 01:05:29-07:00</td>\n",
       "      <td>Indonesia</td>\n",
       "    </tr>\n",
       "    <tr>\n",
       "      <th>2</th>\n",
       "      <td>Hilo</td>\n",
       "      <td>19.7297</td>\n",
       "      <td>-155.0900</td>\n",
       "      <td>89.28</td>\n",
       "      <td>83</td>\n",
       "      <td>78.21</td>\n",
       "      <td>100</td>\n",
       "      <td>6.91</td>\n",
       "      <td>US</td>\n",
       "      <td>1660957524</td>\n",
       "      <td>2022-08-20 01:05:24-07:00</td>\n",
       "      <td>United States</td>\n",
       "    </tr>\n",
       "    <tr>\n",
       "      <th>3</th>\n",
       "      <td>Laas</td>\n",
       "      <td>46.6166</td>\n",
       "      <td>10.7002</td>\n",
       "      <td>59.36</td>\n",
       "      <td>95</td>\n",
       "      <td>59.47</td>\n",
       "      <td>100</td>\n",
       "      <td>6.31</td>\n",
       "      <td>IT</td>\n",
       "      <td>1660957529</td>\n",
       "      <td>2022-08-20 01:05:29-07:00</td>\n",
       "      <td>Italy</td>\n",
       "    </tr>\n",
       "    <tr>\n",
       "      <th>4</th>\n",
       "      <td>Souillac</td>\n",
       "      <td>-20.5167</td>\n",
       "      <td>57.5167</td>\n",
       "      <td>70.30</td>\n",
       "      <td>74</td>\n",
       "      <td>70.52</td>\n",
       "      <td>42</td>\n",
       "      <td>14.79</td>\n",
       "      <td>MU</td>\n",
       "      <td>1660957306</td>\n",
       "      <td>2022-08-20 01:01:46-07:00</td>\n",
       "      <td>Mauritius</td>\n",
       "    </tr>\n",
       "  </tbody>\n",
       "</table>\n",
       "</div>"
      ],
      "text/plain": [
       "       city  latitude  longitude  Max Temp  humidity  Feels Like  cloudiness  \\\n",
       "0   Rikitea  -23.1203  -134.9692     72.84        73       73.26           9   \n",
       "1  Meulaboh    4.1363    96.1285     77.40        89       79.02          69   \n",
       "2      Hilo   19.7297  -155.0900     89.28        83       78.21         100   \n",
       "3      Laas   46.6166    10.7002     59.36        95       59.47         100   \n",
       "4  Souillac  -20.5167    57.5167     70.30        74       70.52          42   \n",
       "\n",
       "   wind speed country    datetime                      date      country name  \n",
       "0        6.44      PF  1660957528 2022-08-20 01:05:28-07:00  French Polynesia  \n",
       "1        4.41      ID  1660957529 2022-08-20 01:05:29-07:00         Indonesia  \n",
       "2        6.91      US  1660957524 2022-08-20 01:05:24-07:00     United States  \n",
       "3        6.31      IT  1660957529 2022-08-20 01:05:29-07:00             Italy  \n",
       "4       14.79      MU  1660957306 2022-08-20 01:01:46-07:00         Mauritius  "
      ]
     },
     "execution_count": 101,
     "metadata": {},
     "output_type": "execute_result"
    }
   ],
   "source": [
    "city_weather.head()"
   ]
  },
  {
   "cell_type": "code",
   "execution_count": 500,
   "metadata": {
    "scrolled": true
   },
   "outputs": [
    {
     "data": {
      "text/html": [
       "<div>\n",
       "<style scoped>\n",
       "    .dataframe tbody tr th:only-of-type {\n",
       "        vertical-align: middle;\n",
       "    }\n",
       "\n",
       "    .dataframe tbody tr th {\n",
       "        vertical-align: top;\n",
       "    }\n",
       "\n",
       "    .dataframe thead th {\n",
       "        text-align: right;\n",
       "    }\n",
       "</style>\n",
       "<table border=\"1\" class=\"dataframe\">\n",
       "  <thead>\n",
       "    <tr style=\"text-align: right;\">\n",
       "      <th></th>\n",
       "      <th>city</th>\n",
       "      <th>latitude</th>\n",
       "      <th>longitude</th>\n",
       "      <th>Max Temp</th>\n",
       "      <th>humidity</th>\n",
       "      <th>Feels Like</th>\n",
       "      <th>cloudiness</th>\n",
       "      <th>wind speed</th>\n",
       "      <th>country name</th>\n",
       "      <th>date</th>\n",
       "    </tr>\n",
       "  </thead>\n",
       "  <tbody>\n",
       "    <tr>\n",
       "      <th>0</th>\n",
       "      <td>Rikitea</td>\n",
       "      <td>-23.1203</td>\n",
       "      <td>-134.9692</td>\n",
       "      <td>72.84</td>\n",
       "      <td>73</td>\n",
       "      <td>73.26</td>\n",
       "      <td>9</td>\n",
       "      <td>6.44</td>\n",
       "      <td>French Polynesia</td>\n",
       "      <td>2022-08-20 01:05:28-07:00</td>\n",
       "    </tr>\n",
       "    <tr>\n",
       "      <th>1</th>\n",
       "      <td>Meulaboh</td>\n",
       "      <td>4.1363</td>\n",
       "      <td>96.1285</td>\n",
       "      <td>77.40</td>\n",
       "      <td>89</td>\n",
       "      <td>79.02</td>\n",
       "      <td>69</td>\n",
       "      <td>4.41</td>\n",
       "      <td>Indonesia</td>\n",
       "      <td>2022-08-20 01:05:29-07:00</td>\n",
       "    </tr>\n",
       "    <tr>\n",
       "      <th>2</th>\n",
       "      <td>Hilo</td>\n",
       "      <td>19.7297</td>\n",
       "      <td>-155.0900</td>\n",
       "      <td>89.28</td>\n",
       "      <td>83</td>\n",
       "      <td>78.21</td>\n",
       "      <td>100</td>\n",
       "      <td>6.91</td>\n",
       "      <td>United States</td>\n",
       "      <td>2022-08-20 01:05:24-07:00</td>\n",
       "    </tr>\n",
       "    <tr>\n",
       "      <th>3</th>\n",
       "      <td>Laas</td>\n",
       "      <td>46.6166</td>\n",
       "      <td>10.7002</td>\n",
       "      <td>59.36</td>\n",
       "      <td>95</td>\n",
       "      <td>59.47</td>\n",
       "      <td>100</td>\n",
       "      <td>6.31</td>\n",
       "      <td>Italy</td>\n",
       "      <td>2022-08-20 01:05:29-07:00</td>\n",
       "    </tr>\n",
       "    <tr>\n",
       "      <th>4</th>\n",
       "      <td>Souillac</td>\n",
       "      <td>-20.5167</td>\n",
       "      <td>57.5167</td>\n",
       "      <td>70.30</td>\n",
       "      <td>74</td>\n",
       "      <td>70.52</td>\n",
       "      <td>42</td>\n",
       "      <td>14.79</td>\n",
       "      <td>Mauritius</td>\n",
       "      <td>2022-08-20 01:01:46-07:00</td>\n",
       "    </tr>\n",
       "  </tbody>\n",
       "</table>\n",
       "</div>"
      ],
      "text/plain": [
       "       city  latitude  longitude  Max Temp  humidity  Feels Like  cloudiness  \\\n",
       "0   Rikitea  -23.1203  -134.9692     72.84        73       73.26           9   \n",
       "1  Meulaboh    4.1363    96.1285     77.40        89       79.02          69   \n",
       "2      Hilo   19.7297  -155.0900     89.28        83       78.21         100   \n",
       "3      Laas   46.6166    10.7002     59.36        95       59.47         100   \n",
       "4  Souillac  -20.5167    57.5167     70.30        74       70.52          42   \n",
       "\n",
       "   wind speed      country name                      date  \n",
       "0        6.44  French Polynesia 2022-08-20 01:05:28-07:00  \n",
       "1        4.41         Indonesia 2022-08-20 01:05:29-07:00  \n",
       "2        6.91     United States 2022-08-20 01:05:24-07:00  \n",
       "3        6.31             Italy 2022-08-20 01:05:29-07:00  \n",
       "4       14.79         Mauritius 2022-08-20 01:01:46-07:00  "
      ]
     },
     "execution_count": 500,
     "metadata": {},
     "output_type": "execute_result"
    }
   ],
   "source": [
    "city_weather2 = city_weather[[\"city\", \"latitude\", \"longitude\", \"Max Temp\", \"humidity\",\n",
    "                             \"Feels Like\", \"cloudiness\", \"wind speed\", \"country name\",\n",
    "                             \"date\"]] \n",
    "city_weather2.head()"
   ]
  },
  {
   "cell_type": "code",
   "execution_count": 505,
   "metadata": {},
   "outputs": [
    {
     "data": {
      "text/plain": [
       "576"
      ]
     },
     "execution_count": 505,
     "metadata": {},
     "output_type": "execute_result"
    }
   ],
   "source": [
    "city_weather2.to_csv(\"output_data/cities.csv\")\n",
    "len(city_weather2)\n"
   ]
  },
  {
   "cell_type": "code",
   "execution_count": 64,
   "metadata": {
    "scrolled": false
   },
   "outputs": [
    {
     "data": {
      "text/html": [
       "<div>\n",
       "<style scoped>\n",
       "    .dataframe tbody tr th:only-of-type {\n",
       "        vertical-align: middle;\n",
       "    }\n",
       "\n",
       "    .dataframe tbody tr th {\n",
       "        vertical-align: top;\n",
       "    }\n",
       "\n",
       "    .dataframe thead th {\n",
       "        text-align: right;\n",
       "    }\n",
       "</style>\n",
       "<table border=\"1\" class=\"dataframe\">\n",
       "  <thead>\n",
       "    <tr style=\"text-align: right;\">\n",
       "      <th></th>\n",
       "      <th>city</th>\n",
       "      <th>request sent</th>\n",
       "      <th>response received</th>\n",
       "    </tr>\n",
       "  </thead>\n",
       "  <tbody>\n",
       "    <tr>\n",
       "      <th>0</th>\n",
       "      <td>Rikitea</td>\n",
       "      <td>Request 0 sent for rikitea.</td>\n",
       "      <td>Response code 200 received for rikitea.</td>\n",
       "    </tr>\n",
       "    <tr>\n",
       "      <th>1</th>\n",
       "      <td>Meulaboh</td>\n",
       "      <td>Request 1 sent for meulaboh.</td>\n",
       "      <td>Response code 200 received for meulaboh.</td>\n",
       "    </tr>\n",
       "    <tr>\n",
       "      <th>2</th>\n",
       "      <td>Hilo</td>\n",
       "      <td>Request 2 sent for hilo.</td>\n",
       "      <td>Response code 200 received for hilo.</td>\n",
       "    </tr>\n",
       "    <tr>\n",
       "      <th>3</th>\n",
       "      <td>Laas</td>\n",
       "      <td>Request 3 sent for lasa.</td>\n",
       "      <td>Response code 200 received for lasa.</td>\n",
       "    </tr>\n",
       "    <tr>\n",
       "      <th>4</th>\n",
       "      <td>Souillac</td>\n",
       "      <td>Request 4 sent for souillac.</td>\n",
       "      <td>Response code 200 received for souillac.</td>\n",
       "    </tr>\n",
       "  </tbody>\n",
       "</table>\n",
       "</div>"
      ],
      "text/plain": [
       "       city                  request sent  \\\n",
       "0   Rikitea   Request 0 sent for rikitea.   \n",
       "1  Meulaboh  Request 1 sent for meulaboh.   \n",
       "2      Hilo      Request 2 sent for hilo.   \n",
       "3      Laas      Request 3 sent for lasa.   \n",
       "4  Souillac  Request 4 sent for souillac.   \n",
       "\n",
       "                          response received  \n",
       "0   Response code 200 received for rikitea.  \n",
       "1  Response code 200 received for meulaboh.  \n",
       "2      Response code 200 received for hilo.  \n",
       "3      Response code 200 received for lasa.  \n",
       "4  Response code 200 received for souillac.  "
      ]
     },
     "execution_count": 64,
     "metadata": {},
     "output_type": "execute_result"
    }
   ],
   "source": [
    "request_response_dict = {\"city\": city1, \"request sent\": print_request, \"response received\": print_response}\n",
    "request_response = pd.DataFrame(request_response_dict)\n",
    "request_response.head()"
   ]
  },
  {
   "cell_type": "code",
   "execution_count": 106,
   "metadata": {},
   "outputs": [
    {
     "data": {
      "text/plain": [
       "576"
      ]
     },
     "execution_count": 106,
     "metadata": {},
     "output_type": "execute_result"
    }
   ],
   "source": [
    "request_response.to_csv(\"output_data/request_response_log.csv\", index=False)\n",
    "len(request_response)"
   ]
  },
  {
   "cell_type": "code",
   "execution_count": 68,
   "metadata": {
    "scrolled": true
   },
   "outputs": [
    {
     "data": {
      "text/html": [
       "<div>\n",
       "<style scoped>\n",
       "    .dataframe tbody tr th:only-of-type {\n",
       "        vertical-align: middle;\n",
       "    }\n",
       "\n",
       "    .dataframe tbody tr th {\n",
       "        vertical-align: top;\n",
       "    }\n",
       "\n",
       "    .dataframe thead th {\n",
       "        text-align: right;\n",
       "    }\n",
       "</style>\n",
       "<table border=\"1\" class=\"dataframe\">\n",
       "  <thead>\n",
       "    <tr style=\"text-align: right;\">\n",
       "      <th></th>\n",
       "      <th>city</th>\n",
       "      <th>response received</th>\n",
       "    </tr>\n",
       "  </thead>\n",
       "  <tbody>\n",
       "    <tr>\n",
       "      <th>0</th>\n",
       "      <td>sentyabrskiy</td>\n",
       "      <td>sentyabrskiy does not exist in OpenWeatherMap.</td>\n",
       "    </tr>\n",
       "    <tr>\n",
       "      <th>1</th>\n",
       "      <td>jiddah</td>\n",
       "      <td>jiddah does not exist in OpenWeatherMap.</td>\n",
       "    </tr>\n",
       "    <tr>\n",
       "      <th>2</th>\n",
       "      <td>marcona</td>\n",
       "      <td>marcona does not exist in OpenWeatherMap.</td>\n",
       "    </tr>\n",
       "    <tr>\n",
       "      <th>3</th>\n",
       "      <td>rungata</td>\n",
       "      <td>rungata does not exist in OpenWeatherMap.</td>\n",
       "    </tr>\n",
       "    <tr>\n",
       "      <th>4</th>\n",
       "      <td>grand river south east</td>\n",
       "      <td>grand river south east does not exist in OpenW...</td>\n",
       "    </tr>\n",
       "  </tbody>\n",
       "</table>\n",
       "</div>"
      ],
      "text/plain": [
       "                     city                                  response received\n",
       "0            sentyabrskiy     sentyabrskiy does not exist in OpenWeatherMap.\n",
       "1                  jiddah           jiddah does not exist in OpenWeatherMap.\n",
       "2                 marcona          marcona does not exist in OpenWeatherMap.\n",
       "3                 rungata          rungata does not exist in OpenWeatherMap.\n",
       "4  grand river south east  grand river south east does not exist in OpenW..."
      ]
     },
     "execution_count": 68,
     "metadata": {},
     "output_type": "execute_result"
    }
   ],
   "source": [
    "city_dne_dict = {\"city\": city2, \"response received\": print_dne}\n",
    "city_dne = pd.DataFrame(city_dne_dict)\n",
    "city_dne.head()"
   ]
  },
  {
   "cell_type": "code",
   "execution_count": 107,
   "metadata": {},
   "outputs": [
    {
     "data": {
      "text/plain": [
       "40"
      ]
     },
     "execution_count": 107,
     "metadata": {},
     "output_type": "execute_result"
    }
   ],
   "source": [
    "city_dne.to_csv(\"output_data/response_error_log.csv\", index=False)\n",
    "\n",
    "len(city_dne)"
   ]
  },
  {
   "cell_type": "code",
   "execution_count": null,
   "metadata": {},
   "outputs": [],
   "source": []
  },
  {
   "cell_type": "markdown",
   "metadata": {},
   "source": [
    "### Convert Raw Data to DataFrame\n",
    "* Export the city data into a .csv.\n",
    "* Display the DataFrame"
   ]
  },
  {
   "cell_type": "code",
   "execution_count": null,
   "metadata": {},
   "outputs": [],
   "source": []
  },
  {
   "cell_type": "code",
   "execution_count": null,
   "metadata": {},
   "outputs": [],
   "source": []
  },
  {
   "cell_type": "markdown",
   "metadata": {},
   "source": [
    "## Inspect the data and remove the cities where the humidity > 100%.\n",
    "----\n",
    "Skip this step if there are no cities that have humidity > 100%. "
   ]
  },
  {
   "cell_type": "code",
   "execution_count": 503,
   "metadata": {
    "scrolled": true
   },
   "outputs": [
    {
     "data": {
      "text/html": [
       "<div>\n",
       "<style scoped>\n",
       "    .dataframe tbody tr th:only-of-type {\n",
       "        vertical-align: middle;\n",
       "    }\n",
       "\n",
       "    .dataframe tbody tr th {\n",
       "        vertical-align: top;\n",
       "    }\n",
       "\n",
       "    .dataframe thead th {\n",
       "        text-align: right;\n",
       "    }\n",
       "</style>\n",
       "<table border=\"1\" class=\"dataframe\">\n",
       "  <thead>\n",
       "    <tr style=\"text-align: right;\">\n",
       "      <th></th>\n",
       "      <th>city</th>\n",
       "      <th>latitude</th>\n",
       "      <th>longitude</th>\n",
       "      <th>Max Temp</th>\n",
       "      <th>humidity</th>\n",
       "      <th>Feels Like</th>\n",
       "      <th>cloudiness</th>\n",
       "      <th>wind speed</th>\n",
       "      <th>country</th>\n",
       "      <th>datetime</th>\n",
       "      <th>date</th>\n",
       "      <th>country name</th>\n",
       "    </tr>\n",
       "  </thead>\n",
       "  <tbody>\n",
       "    <tr>\n",
       "      <th>49</th>\n",
       "      <td>Mnogovershinnyy</td>\n",
       "      <td>53.9353</td>\n",
       "      <td>139.9242</td>\n",
       "      <td>52.75</td>\n",
       "      <td>99</td>\n",
       "      <td>52.38</td>\n",
       "      <td>100</td>\n",
       "      <td>8.37</td>\n",
       "      <td>RU</td>\n",
       "      <td>1660957551</td>\n",
       "      <td>2022-08-20 01:05:51-07:00</td>\n",
       "      <td>Russia</td>\n",
       "    </tr>\n",
       "    <tr>\n",
       "      <th>179</th>\n",
       "      <td>Timrå</td>\n",
       "      <td>62.4870</td>\n",
       "      <td>17.3257</td>\n",
       "      <td>61.68</td>\n",
       "      <td>100</td>\n",
       "      <td>60.93</td>\n",
       "      <td>40</td>\n",
       "      <td>1.14</td>\n",
       "      <td>SE</td>\n",
       "      <td>1660957610</td>\n",
       "      <td>2022-08-20 01:06:50-07:00</td>\n",
       "      <td>Sweden</td>\n",
       "    </tr>\n",
       "    <tr>\n",
       "      <th>242</th>\n",
       "      <td>Eden</td>\n",
       "      <td>36.4885</td>\n",
       "      <td>-79.7667</td>\n",
       "      <td>75.02</td>\n",
       "      <td>100</td>\n",
       "      <td>71.17</td>\n",
       "      <td>0</td>\n",
       "      <td>0.00</td>\n",
       "      <td>US</td>\n",
       "      <td>1660957478</td>\n",
       "      <td>2022-08-20 01:04:38-07:00</td>\n",
       "      <td>United States</td>\n",
       "    </tr>\n",
       "    <tr>\n",
       "      <th>271</th>\n",
       "      <td>Belyy Yar</td>\n",
       "      <td>53.6039</td>\n",
       "      <td>91.3903</td>\n",
       "      <td>48.85</td>\n",
       "      <td>100</td>\n",
       "      <td>48.85</td>\n",
       "      <td>75</td>\n",
       "      <td>2.24</td>\n",
       "      <td>RU</td>\n",
       "      <td>1660957651</td>\n",
       "      <td>2022-08-20 01:07:31-07:00</td>\n",
       "      <td>Russia</td>\n",
       "    </tr>\n",
       "    <tr>\n",
       "      <th>323</th>\n",
       "      <td>Kathmandu</td>\n",
       "      <td>27.7167</td>\n",
       "      <td>85.3167</td>\n",
       "      <td>68.22</td>\n",
       "      <td>100</td>\n",
       "      <td>69.44</td>\n",
       "      <td>75</td>\n",
       "      <td>2.30</td>\n",
       "      <td>NP</td>\n",
       "      <td>1660957631</td>\n",
       "      <td>2022-08-20 01:07:11-07:00</td>\n",
       "      <td>Nepal</td>\n",
       "    </tr>\n",
       "    <tr>\n",
       "      <th>331</th>\n",
       "      <td>Gornopravdinsk</td>\n",
       "      <td>60.0500</td>\n",
       "      <td>69.9000</td>\n",
       "      <td>54.09</td>\n",
       "      <td>99</td>\n",
       "      <td>53.85</td>\n",
       "      <td>91</td>\n",
       "      <td>3.58</td>\n",
       "      <td>RU</td>\n",
       "      <td>1660957682</td>\n",
       "      <td>2022-08-20 01:08:02-07:00</td>\n",
       "      <td>Russia</td>\n",
       "    </tr>\n",
       "    <tr>\n",
       "      <th>346</th>\n",
       "      <td>Watsa</td>\n",
       "      <td>3.0372</td>\n",
       "      <td>29.5355</td>\n",
       "      <td>63.82</td>\n",
       "      <td>100</td>\n",
       "      <td>64.60</td>\n",
       "      <td>100</td>\n",
       "      <td>1.72</td>\n",
       "      <td>CD</td>\n",
       "      <td>1660957690</td>\n",
       "      <td>2022-08-20 01:08:10-07:00</td>\n",
       "      <td>DR Congo</td>\n",
       "    </tr>\n",
       "    <tr>\n",
       "      <th>355</th>\n",
       "      <td>Husavik</td>\n",
       "      <td>66.0449</td>\n",
       "      <td>-17.3389</td>\n",
       "      <td>48.38</td>\n",
       "      <td>99</td>\n",
       "      <td>43.20</td>\n",
       "      <td>100</td>\n",
       "      <td>12.64</td>\n",
       "      <td>IS</td>\n",
       "      <td>1660957693</td>\n",
       "      <td>2022-08-20 01:08:13-07:00</td>\n",
       "      <td>Iceland</td>\n",
       "    </tr>\n",
       "    <tr>\n",
       "      <th>371</th>\n",
       "      <td>Coquimbo</td>\n",
       "      <td>-29.9533</td>\n",
       "      <td>-71.3436</td>\n",
       "      <td>53.33</td>\n",
       "      <td>100</td>\n",
       "      <td>53.06</td>\n",
       "      <td>100</td>\n",
       "      <td>2.30</td>\n",
       "      <td>CL</td>\n",
       "      <td>1660957700</td>\n",
       "      <td>2022-08-20 01:08:20-07:00</td>\n",
       "      <td>Chile</td>\n",
       "    </tr>\n",
       "    <tr>\n",
       "      <th>382</th>\n",
       "      <td>Saposoa</td>\n",
       "      <td>-6.9340</td>\n",
       "      <td>-76.7716</td>\n",
       "      <td>69.69</td>\n",
       "      <td>99</td>\n",
       "      <td>71.01</td>\n",
       "      <td>100</td>\n",
       "      <td>2.26</td>\n",
       "      <td>PE</td>\n",
       "      <td>1660957704</td>\n",
       "      <td>2022-08-20 01:08:24-07:00</td>\n",
       "      <td>Peru</td>\n",
       "    </tr>\n",
       "    <tr>\n",
       "      <th>398</th>\n",
       "      <td>Masingbi</td>\n",
       "      <td>8.7833</td>\n",
       "      <td>-11.9500</td>\n",
       "      <td>72.18</td>\n",
       "      <td>99</td>\n",
       "      <td>73.74</td>\n",
       "      <td>100</td>\n",
       "      <td>2.06</td>\n",
       "      <td>SL</td>\n",
       "      <td>1660957711</td>\n",
       "      <td>2022-08-20 01:08:31-07:00</td>\n",
       "      <td>Sierra Leone</td>\n",
       "    </tr>\n",
       "    <tr>\n",
       "      <th>449</th>\n",
       "      <td>Salalah</td>\n",
       "      <td>17.0151</td>\n",
       "      <td>54.0924</td>\n",
       "      <td>75.29</td>\n",
       "      <td>100</td>\n",
       "      <td>77.22</td>\n",
       "      <td>100</td>\n",
       "      <td>5.75</td>\n",
       "      <td>OM</td>\n",
       "      <td>1660957734</td>\n",
       "      <td>2022-08-20 01:08:54-07:00</td>\n",
       "      <td>Oman</td>\n",
       "    </tr>\n",
       "    <tr>\n",
       "      <th>552</th>\n",
       "      <td>Bereda</td>\n",
       "      <td>43.2686</td>\n",
       "      <td>-7.5406</td>\n",
       "      <td>58.57</td>\n",
       "      <td>100</td>\n",
       "      <td>52.86</td>\n",
       "      <td>36</td>\n",
       "      <td>2.51</td>\n",
       "      <td>ES</td>\n",
       "      <td>1660957783</td>\n",
       "      <td>2022-08-20 01:09:43-07:00</td>\n",
       "      <td>Spain</td>\n",
       "    </tr>\n",
       "  </tbody>\n",
       "</table>\n",
       "</div>"
      ],
      "text/plain": [
       "                city  latitude  longitude  Max Temp  humidity  Feels Like  \\\n",
       "49   Mnogovershinnyy   53.9353   139.9242     52.75        99       52.38   \n",
       "179            Timrå   62.4870    17.3257     61.68       100       60.93   \n",
       "242             Eden   36.4885   -79.7667     75.02       100       71.17   \n",
       "271        Belyy Yar   53.6039    91.3903     48.85       100       48.85   \n",
       "323        Kathmandu   27.7167    85.3167     68.22       100       69.44   \n",
       "331   Gornopravdinsk   60.0500    69.9000     54.09        99       53.85   \n",
       "346            Watsa    3.0372    29.5355     63.82       100       64.60   \n",
       "355          Husavik   66.0449   -17.3389     48.38        99       43.20   \n",
       "371         Coquimbo  -29.9533   -71.3436     53.33       100       53.06   \n",
       "382          Saposoa   -6.9340   -76.7716     69.69        99       71.01   \n",
       "398         Masingbi    8.7833   -11.9500     72.18        99       73.74   \n",
       "449          Salalah   17.0151    54.0924     75.29       100       77.22   \n",
       "552           Bereda   43.2686    -7.5406     58.57       100       52.86   \n",
       "\n",
       "     cloudiness  wind speed country    datetime                      date  \\\n",
       "49          100        8.37      RU  1660957551 2022-08-20 01:05:51-07:00   \n",
       "179          40        1.14      SE  1660957610 2022-08-20 01:06:50-07:00   \n",
       "242           0        0.00      US  1660957478 2022-08-20 01:04:38-07:00   \n",
       "271          75        2.24      RU  1660957651 2022-08-20 01:07:31-07:00   \n",
       "323          75        2.30      NP  1660957631 2022-08-20 01:07:11-07:00   \n",
       "331          91        3.58      RU  1660957682 2022-08-20 01:08:02-07:00   \n",
       "346         100        1.72      CD  1660957690 2022-08-20 01:08:10-07:00   \n",
       "355         100       12.64      IS  1660957693 2022-08-20 01:08:13-07:00   \n",
       "371         100        2.30      CL  1660957700 2022-08-20 01:08:20-07:00   \n",
       "382         100        2.26      PE  1660957704 2022-08-20 01:08:24-07:00   \n",
       "398         100        2.06      SL  1660957711 2022-08-20 01:08:31-07:00   \n",
       "449         100        5.75      OM  1660957734 2022-08-20 01:08:54-07:00   \n",
       "552          36        2.51      ES  1660957783 2022-08-20 01:09:43-07:00   \n",
       "\n",
       "      country name  \n",
       "49          Russia  \n",
       "179         Sweden  \n",
       "242  United States  \n",
       "271         Russia  \n",
       "323          Nepal  \n",
       "331         Russia  \n",
       "346       DR Congo  \n",
       "355        Iceland  \n",
       "371          Chile  \n",
       "382           Peru  \n",
       "398   Sierra Leone  \n",
       "449           Oman  \n",
       "552          Spain  "
      ]
     },
     "execution_count": 503,
     "metadata": {},
     "output_type": "execute_result"
    }
   ],
   "source": [
    "# This .loc was initially ran with humidity > 100% with no results.\n",
    "# Lowered humidity percent to verify .loc and to visually inspect the dataframe to confirm results.\n",
    "over_humid = city_weather.loc[city_weather[\"humidity\"] > 98]\n",
    "over_humid"
   ]
  },
  {
   "cell_type": "markdown",
   "metadata": {},
   "source": [
    "#### NO CITIES SHOW HUMIDITY > 100%."
   ]
  },
  {
   "cell_type": "code",
   "execution_count": 24,
   "metadata": {},
   "outputs": [],
   "source": [
    "#  Get the indices of cities that have humidity over 100%.\n"
   ]
  },
  {
   "cell_type": "code",
   "execution_count": 25,
   "metadata": {},
   "outputs": [],
   "source": [
    "# Make a new DataFrame equal to the city data to drop all humidity outliers by index.\n",
    "# Passing \"inplace=False\" will make a copy of the city_data DataFrame, which we call \"clean_city_data\".\n"
   ]
  },
  {
   "cell_type": "code",
   "execution_count": null,
   "metadata": {},
   "outputs": [],
   "source": [
    "\n"
   ]
  },
  {
   "cell_type": "markdown",
   "metadata": {},
   "source": [
    "## Plotting the Data\n",
    "* Use proper labeling of the plots using plot titles (including date of analysis) and axes labels.\n",
    "* Save the plotted figures as .pngs."
   ]
  },
  {
   "cell_type": "markdown",
   "metadata": {},
   "source": [
    "## Latitude vs. Temperature Plot"
   ]
  },
  {
   "cell_type": "code",
   "execution_count": null,
   "metadata": {},
   "outputs": [],
   "source": [
    "# USED SOLVED FROM 05-Ins_OpenWeatherDataFrame for these scatter plots."
   ]
  },
  {
   "cell_type": "code",
   "execution_count": 509,
   "metadata": {
    "scrolled": false
   },
   "outputs": [
    {
     "data": {
      "image/png": "[encoded data removed]",
      "text/plain": [
       "<Figure size 432x288 with 1 Axes>"
      ]
     },
     "metadata": {
      "needs_background": "light"
     },
     "output_type": "display_data"
    }
   ],
   "source": [
    "y_values = city_weather2['latitude']\n",
    "x_values = city_weather2['Max Temp']\n",
    "plt.scatter(x_values,y_values)\n",
    "\n",
    "# Label plot and annotate the line equation\n",
    "plt.ylabel('Latitude ($^\\circ$)')\n",
    "plt.xlabel('MAX Temperature ($^\\circ$F)')\n",
    "\n",
    "plt.title(\"MAX Temperature vs Latitude\")\n",
    "plt.savefig(\"output_data/MAX_Temp_vs_Latitude.pdf\")\n",
    "plt.savefig(\"output_data/MAX_Temp_vs_Latitude.png\")\n",
    "\n",
    "\n",
    "plt.show()"
   ]
  },
  {
   "cell_type": "markdown",
   "metadata": {},
   "source": [
    "### The temperature range from colder towards the North and South Poles to hotter near the Equator makes sense in this scatter plot."
   ]
  },
  {
   "cell_type": "markdown",
   "metadata": {},
   "source": [
    "## Latitude vs. Humidity Plot"
   ]
  },
  {
   "cell_type": "code",
   "execution_count": 510,
   "metadata": {
    "scrolled": true
   },
   "outputs": [
    {
     "data": {
      "image/png": "[encoded data removed]",
      "text/plain": [
       "<Figure size 432x288 with 1 Axes>"
      ]
     },
     "metadata": {
      "needs_background": "light"
     },
     "output_type": "display_data"
    }
   ],
   "source": [
    "y_values = city_weather2['latitude']\n",
    "x_values = city_weather2['humidity']\n",
    "plt.scatter(x_values,y_values)\n",
    "\n",
    "# Label plot and annotate the line equation\n",
    "plt.ylabel('Latitude ($^\\circ$)')\n",
    "plt.xlabel('Percent Humidity')\n",
    "\n",
    "plt.title(\"Percent Humidity vs Latitude\")\n",
    "plt.savefig(\"output_data/Percent_Humidity_vs_Latitude.pdf\")\n",
    "plt.savefig(\"output_data/Percent_Humidity_vs_Latitude.png\")\n",
    "plt.show()"
   ]
  },
  {
   "cell_type": "markdown",
   "metadata": {},
   "source": [
    "### This almost reflects population density.  The more extreme dry locations have fewer cities."
   ]
  },
  {
   "cell_type": "markdown",
   "metadata": {},
   "source": [
    "## Latitude vs. Cloudiness Plot"
   ]
  },
  {
   "cell_type": "code",
   "execution_count": 511,
   "metadata": {
    "scrolled": true
   },
   "outputs": [
    {
     "data": {
      "image/png": "[encoded data removed]",
      "text/plain": [
       "<Figure size 432x288 with 1 Axes>"
      ]
     },
     "metadata": {
      "needs_background": "light"
     },
     "output_type": "display_data"
    }
   ],
   "source": [
    "y_values = city_weather2['latitude']\n",
    "x_values = city_weather2['cloudiness']\n",
    "plt.scatter(x_values,y_values)\n",
    "\n",
    "# Label plot and annotate the line equation\n",
    "plt.ylabel('Latitude ($^\\circ$)')\n",
    "plt.xlabel('Percent Cloudiness')\n",
    "\n",
    "plt.title(\"Percent Cloudiness vs Latitude\")\n",
    "plt.savefig(\"output_data/Percent_Cloudiness_vs_Latitude.pdf\")\n",
    "plt.savefig(\"output_data/Percent_Cloudiness_vs_Latitude.png\")\n",
    "plt.show()"
   ]
  },
  {
   "cell_type": "markdown",
   "metadata": {},
   "source": [
    "### The density of 0% cloudy and 100% cloudy is really surprising in this plot.  Other than that, there appears to be no correlation between latitude and cloudiness."
   ]
  },
  {
   "cell_type": "markdown",
   "metadata": {},
   "source": [
    "## Latitude vs. Wind Speed Plot"
   ]
  },
  {
   "cell_type": "code",
   "execution_count": 512,
   "metadata": {
    "scrolled": true
   },
   "outputs": [
    {
     "data": {
      "image/png": "[encoded data removed]",
      "text/plain": [
       "<Figure size 432x288 with 1 Axes>"
      ]
     },
     "metadata": {
      "needs_background": "light"
     },
     "output_type": "display_data"
    }
   ],
   "source": [
    "y_values = city_weather2['latitude']\n",
    "x_values = city_weather2['wind speed']\n",
    "plt.scatter(x_values,y_values)\n",
    "\n",
    "# Label plot and annotate the line equation\n",
    "plt.ylabel('Latitude ($^\\circ$)')\n",
    "plt.xlabel('Wind Speed (mph)')\n",
    "\n",
    "plt.title(\"Wind Speed vs Latitude\")\n",
    "plt.savefig(\"output_data/Wind_Speed_vs_Latitude.pdf\")\n",
    "plt.savefig(\"output_data/Wind_Speed_vs_Latitude.png\")\n",
    "plt.show()"
   ]
  },
  {
   "cell_type": "markdown",
   "metadata": {},
   "source": [
    "### This shows wind speeds between 0 and 15 mph are pretty normal throughout the planet."
   ]
  },
  {
   "cell_type": "markdown",
   "metadata": {},
   "source": [
    "## Linear Regression"
   ]
  },
  {
   "cell_type": "code",
   "execution_count": 513,
   "metadata": {},
   "outputs": [],
   "source": [
    "# USED SOLVED FROM 07-Stu_Weather_Stats for these scatter plots with linear regression."
   ]
  },
  {
   "cell_type": "markdown",
   "metadata": {},
   "source": [
    "##  Northern Hemisphere - Linear Regressions and Correlations"
   ]
  },
  {
   "cell_type": "code",
   "execution_count": 514,
   "metadata": {
    "scrolled": true
   },
   "outputs": [
    {
     "data": {
      "text/html": [
       "<div>\n",
       "<style scoped>\n",
       "    .dataframe tbody tr th:only-of-type {\n",
       "        vertical-align: middle;\n",
       "    }\n",
       "\n",
       "    .dataframe tbody tr th {\n",
       "        vertical-align: top;\n",
       "    }\n",
       "\n",
       "    .dataframe thead th {\n",
       "        text-align: right;\n",
       "    }\n",
       "</style>\n",
       "<table border=\"1\" class=\"dataframe\">\n",
       "  <thead>\n",
       "    <tr style=\"text-align: right;\">\n",
       "      <th></th>\n",
       "      <th>city</th>\n",
       "      <th>latitude</th>\n",
       "      <th>longitude</th>\n",
       "      <th>Max Temp</th>\n",
       "      <th>humidity</th>\n",
       "      <th>Feels Like</th>\n",
       "      <th>cloudiness</th>\n",
       "      <th>wind speed</th>\n",
       "      <th>country name</th>\n",
       "      <th>date</th>\n",
       "    </tr>\n",
       "  </thead>\n",
       "  <tbody>\n",
       "    <tr>\n",
       "      <th>1</th>\n",
       "      <td>Meulaboh</td>\n",
       "      <td>4.1363</td>\n",
       "      <td>96.1285</td>\n",
       "      <td>77.40</td>\n",
       "      <td>89</td>\n",
       "      <td>79.02</td>\n",
       "      <td>69</td>\n",
       "      <td>4.41</td>\n",
       "      <td>Indonesia</td>\n",
       "      <td>2022-08-20 01:05:29-07:00</td>\n",
       "    </tr>\n",
       "    <tr>\n",
       "      <th>2</th>\n",
       "      <td>Hilo</td>\n",
       "      <td>19.7297</td>\n",
       "      <td>-155.0900</td>\n",
       "      <td>89.28</td>\n",
       "      <td>83</td>\n",
       "      <td>78.21</td>\n",
       "      <td>100</td>\n",
       "      <td>6.91</td>\n",
       "      <td>United States</td>\n",
       "      <td>2022-08-20 01:05:24-07:00</td>\n",
       "    </tr>\n",
       "    <tr>\n",
       "      <th>3</th>\n",
       "      <td>Laas</td>\n",
       "      <td>46.6166</td>\n",
       "      <td>10.7002</td>\n",
       "      <td>59.36</td>\n",
       "      <td>95</td>\n",
       "      <td>59.47</td>\n",
       "      <td>100</td>\n",
       "      <td>6.31</td>\n",
       "      <td>Italy</td>\n",
       "      <td>2022-08-20 01:05:29-07:00</td>\n",
       "    </tr>\n",
       "    <tr>\n",
       "      <th>9</th>\n",
       "      <td>Lavrentiya</td>\n",
       "      <td>65.5833</td>\n",
       "      <td>-171.0000</td>\n",
       "      <td>45.59</td>\n",
       "      <td>83</td>\n",
       "      <td>42.62</td>\n",
       "      <td>77</td>\n",
       "      <td>5.66</td>\n",
       "      <td>Russia</td>\n",
       "      <td>2022-08-20 01:05:31-07:00</td>\n",
       "    </tr>\n",
       "    <tr>\n",
       "      <th>10</th>\n",
       "      <td>Taoudenni</td>\n",
       "      <td>22.6783</td>\n",
       "      <td>-3.9836</td>\n",
       "      <td>96.08</td>\n",
       "      <td>28</td>\n",
       "      <td>95.20</td>\n",
       "      <td>83</td>\n",
       "      <td>4.43</td>\n",
       "      <td>Mali</td>\n",
       "      <td>2022-08-20 01:05:32-07:00</td>\n",
       "    </tr>\n",
       "  </tbody>\n",
       "</table>\n",
       "</div>"
      ],
      "text/plain": [
       "          city  latitude  longitude  Max Temp  humidity  Feels Like  \\\n",
       "1     Meulaboh    4.1363    96.1285     77.40        89       79.02   \n",
       "2         Hilo   19.7297  -155.0900     89.28        83       78.21   \n",
       "3         Laas   46.6166    10.7002     59.36        95       59.47   \n",
       "9   Lavrentiya   65.5833  -171.0000     45.59        83       42.62   \n",
       "10   Taoudenni   22.6783    -3.9836     96.08        28       95.20   \n",
       "\n",
       "    cloudiness  wind speed   country name                      date  \n",
       "1           69        4.41      Indonesia 2022-08-20 01:05:29-07:00  \n",
       "2          100        6.91  United States 2022-08-20 01:05:24-07:00  \n",
       "3          100        6.31          Italy 2022-08-20 01:05:29-07:00  \n",
       "9           77        5.66         Russia 2022-08-20 01:05:31-07:00  \n",
       "10          83        4.43           Mali 2022-08-20 01:05:32-07:00  "
      ]
     },
     "execution_count": 514,
     "metadata": {},
     "output_type": "execute_result"
    }
   ],
   "source": [
    "northern_lat = city_weather2.loc[city_weather2[\"latitude\"] > 0, :]\n",
    "northern_lat.head()"
   ]
  },
  {
   "cell_type": "markdown",
   "metadata": {},
   "source": [
    "####  Northern Hemisphere - Max Temp vs. Latitude Linear Regression"
   ]
  },
  {
   "cell_type": "code",
   "execution_count": 515,
   "metadata": {},
   "outputs": [
    {
     "data": {
      "image/png": "[encoded data removed]",
      "text/plain": [
       "<Figure size 432x288 with 1 Axes>"
      ]
     },
     "metadata": {
      "needs_background": "light"
     },
     "output_type": "display_data"
    }
   ],
   "source": [
    "y_values = northern_lat['latitude']\n",
    "x_values = northern_lat['Max Temp']\n",
    "plt.scatter(x_values,y_values)\n",
    "plt.ylabel('Latitude')\n",
    "plt.xlabel('Temperature')\n",
    "plt.show()"
   ]
  },
  {
   "cell_type": "code",
   "execution_count": 516,
   "metadata": {
    "scrolled": false
   },
   "outputs": [
    {
     "name": "stdout",
     "output_type": "stream",
     "text": [
      "1      30.620976\n",
      "2      18.611456\n",
      "3      48.857655\n",
      "9      62.777781\n",
      "10     11.737320\n",
      "         ...    \n",
      "565    40.780545\n",
      "571    18.287967\n",
      "572    49.383324\n",
      "573    43.621181\n",
      "575    19.652686\n",
      "Name: Max Temp, Length: 388, dtype: float64\n"
     ]
    }
   ],
   "source": [
    "# Perform a linear regression on temperature vs. latitude\n",
    "(slope, intercept, rvalue, pvalue, stderr) = stats.linregress(x_values, y_values)\n",
    "\n",
    "# Get regression values\n",
    "regress_values = x_values * slope + intercept\n",
    "print(regress_values)"
   ]
  },
  {
   "cell_type": "code",
   "execution_count": 519,
   "metadata": {},
   "outputs": [
    {
     "data": {
      "text/plain": [
       "'0.50606'"
      ]
     },
     "execution_count": 519,
     "metadata": {},
     "output_type": "execute_result"
    }
   ],
   "source": [
    "max_temp_correlation = str(round(rvalue**2, 6))\n",
    "max_temp_correlation"
   ]
  },
  {
   "cell_type": "code",
   "execution_count": 520,
   "metadata": {},
   "outputs": [
    {
     "name": "stdout",
     "output_type": "stream",
     "text": [
      "y = -1.01x +108.86\n"
     ]
    }
   ],
   "source": [
    "# Create line equation string\n",
    "line_eq = \"y = \" + str(round(slope,2)) + \"x +\" + str(round(intercept,2))\n",
    "print(line_eq)"
   ]
  },
  {
   "cell_type": "code",
   "execution_count": 522,
   "metadata": {
    "scrolled": true
   },
   "outputs": [
    {
     "name": "stdout",
     "output_type": "stream",
     "text": [
      "The r-value is: 0.5060600207058125\n"
     ]
    },
    {
     "data": {
      "image/png": "[encoded data removed]",
      "text/plain": [
       "<Figure size 432x288 with 1 Axes>"
      ]
     },
     "metadata": {
      "needs_background": "light"
     },
     "output_type": "display_data"
    }
   ],
   "source": [
    "# Create Plot\n",
    "y_values = northern_lat['latitude']\n",
    "x_values = northern_lat['Max Temp']\n",
    "plt.scatter(x_values,y_values)\n",
    "plt.plot(x_values,regress_values,\"r-\")\n",
    "\n",
    "# Label plot and annotate the line equation\n",
    "plt.ylabel('Latitude ($^\\circ$N)')\n",
    "plt.xlabel('MAX Temperature ($^\\circ$F)')\n",
    "plt.annotate(line_eq,xy=(180,180), xycoords='axes pixels',fontsize=15,color=\"red\")\n",
    "\n",
    "plt.title(\"Northern Hemisphere MAX Temperature vs Latitude\\nr-value is \" +max_temp_correlation+ \" (Strong Negative Correlation)\")\n",
    "plt.savefig(\"output_data/Northern_Hemisphere_MAX_Temp_vs_Latitude.pdf\")\n",
    "plt.savefig(\"output_data/Northern_Hemisphere_MAX_Temp_vs_Latitude.png\")\n",
    "\n",
    "# Print r value\n",
    "print(f\"The r-value is: {rvalue**2}\")\n",
    "\n",
    "# Show plot\n",
    "plt.show()"
   ]
  },
  {
   "cell_type": "markdown",
   "metadata": {},
   "source": [
    "### This shows a strong negative correlation between temperature and latitude.  As the Northern latitude numbers gets lower (towards the Equator), the temperature increases."
   ]
  },
  {
   "cell_type": "markdown",
   "metadata": {},
   "source": [
    "####  Northern Hemisphere - Humidity (%) vs. Latitude Linear Regression"
   ]
  },
  {
   "cell_type": "code",
   "execution_count": 523,
   "metadata": {
    "scrolled": true
   },
   "outputs": [
    {
     "data": {
      "text/html": [
       "<div>\n",
       "<style scoped>\n",
       "    .dataframe tbody tr th:only-of-type {\n",
       "        vertical-align: middle;\n",
       "    }\n",
       "\n",
       "    .dataframe tbody tr th {\n",
       "        vertical-align: top;\n",
       "    }\n",
       "\n",
       "    .dataframe thead th {\n",
       "        text-align: right;\n",
       "    }\n",
       "</style>\n",
       "<table border=\"1\" class=\"dataframe\">\n",
       "  <thead>\n",
       "    <tr style=\"text-align: right;\">\n",
       "      <th></th>\n",
       "      <th>city</th>\n",
       "      <th>latitude</th>\n",
       "      <th>longitude</th>\n",
       "      <th>Max Temp</th>\n",
       "      <th>humidity</th>\n",
       "      <th>Feels Like</th>\n",
       "      <th>cloudiness</th>\n",
       "      <th>wind speed</th>\n",
       "      <th>country name</th>\n",
       "      <th>date</th>\n",
       "    </tr>\n",
       "  </thead>\n",
       "  <tbody>\n",
       "    <tr>\n",
       "      <th>1</th>\n",
       "      <td>Meulaboh</td>\n",
       "      <td>4.1363</td>\n",
       "      <td>96.1285</td>\n",
       "      <td>77.40</td>\n",
       "      <td>89</td>\n",
       "      <td>79.02</td>\n",
       "      <td>69</td>\n",
       "      <td>4.41</td>\n",
       "      <td>Indonesia</td>\n",
       "      <td>2022-08-20 01:05:29-07:00</td>\n",
       "    </tr>\n",
       "    <tr>\n",
       "      <th>2</th>\n",
       "      <td>Hilo</td>\n",
       "      <td>19.7297</td>\n",
       "      <td>-155.0900</td>\n",
       "      <td>89.28</td>\n",
       "      <td>83</td>\n",
       "      <td>78.21</td>\n",
       "      <td>100</td>\n",
       "      <td>6.91</td>\n",
       "      <td>United States</td>\n",
       "      <td>2022-08-20 01:05:24-07:00</td>\n",
       "    </tr>\n",
       "    <tr>\n",
       "      <th>3</th>\n",
       "      <td>Laas</td>\n",
       "      <td>46.6166</td>\n",
       "      <td>10.7002</td>\n",
       "      <td>59.36</td>\n",
       "      <td>95</td>\n",
       "      <td>59.47</td>\n",
       "      <td>100</td>\n",
       "      <td>6.31</td>\n",
       "      <td>Italy</td>\n",
       "      <td>2022-08-20 01:05:29-07:00</td>\n",
       "    </tr>\n",
       "    <tr>\n",
       "      <th>9</th>\n",
       "      <td>Lavrentiya</td>\n",
       "      <td>65.5833</td>\n",
       "      <td>-171.0000</td>\n",
       "      <td>45.59</td>\n",
       "      <td>83</td>\n",
       "      <td>42.62</td>\n",
       "      <td>77</td>\n",
       "      <td>5.66</td>\n",
       "      <td>Russia</td>\n",
       "      <td>2022-08-20 01:05:31-07:00</td>\n",
       "    </tr>\n",
       "    <tr>\n",
       "      <th>10</th>\n",
       "      <td>Taoudenni</td>\n",
       "      <td>22.6783</td>\n",
       "      <td>-3.9836</td>\n",
       "      <td>96.08</td>\n",
       "      <td>28</td>\n",
       "      <td>95.20</td>\n",
       "      <td>83</td>\n",
       "      <td>4.43</td>\n",
       "      <td>Mali</td>\n",
       "      <td>2022-08-20 01:05:32-07:00</td>\n",
       "    </tr>\n",
       "  </tbody>\n",
       "</table>\n",
       "</div>"
      ],
      "text/plain": [
       "          city  latitude  longitude  Max Temp  humidity  Feels Like  \\\n",
       "1     Meulaboh    4.1363    96.1285     77.40        89       79.02   \n",
       "2         Hilo   19.7297  -155.0900     89.28        83       78.21   \n",
       "3         Laas   46.6166    10.7002     59.36        95       59.47   \n",
       "9   Lavrentiya   65.5833  -171.0000     45.59        83       42.62   \n",
       "10   Taoudenni   22.6783    -3.9836     96.08        28       95.20   \n",
       "\n",
       "    cloudiness  wind speed   country name                      date  \n",
       "1           69        4.41      Indonesia 2022-08-20 01:05:29-07:00  \n",
       "2          100        6.91  United States 2022-08-20 01:05:24-07:00  \n",
       "3          100        6.31          Italy 2022-08-20 01:05:29-07:00  \n",
       "9           77        5.66         Russia 2022-08-20 01:05:31-07:00  \n",
       "10          83        4.43           Mali 2022-08-20 01:05:32-07:00  "
      ]
     },
     "execution_count": 523,
     "metadata": {},
     "output_type": "execute_result"
    }
   ],
   "source": [
    "northern_lat = city_weather2.loc[city_weather2[\"latitude\"] > 0, :]\n",
    "northern_lat.head()"
   ]
  },
  {
   "cell_type": "code",
   "execution_count": 524,
   "metadata": {},
   "outputs": [
    {
     "data": {
      "image/png": "[encoded data removed]",
      "text/plain": [
       "<Figure size 432x288 with 1 Axes>"
      ]
     },
     "metadata": {
      "needs_background": "light"
     },
     "output_type": "display_data"
    }
   ],
   "source": [
    "# Create Plot\n",
    "y_values = northern_lat['latitude']\n",
    "x_values = northern_lat['humidity']\n",
    "plt.scatter(x_values,y_values)\n",
    "\n",
    "# Label plot and annotate the line equation\n",
    "plt.ylabel('Latitude')\n",
    "plt.xlabel('humidity')\n",
    "\n",
    "# Show plot\n",
    "plt.show()\n"
   ]
  },
  {
   "cell_type": "code",
   "execution_count": 525,
   "metadata": {
    "scrolled": true
   },
   "outputs": [
    {
     "name": "stdout",
     "output_type": "stream",
     "text": [
      "1      37.771875\n",
      "2      37.969647\n",
      "3      37.574104\n",
      "9      37.969647\n",
      "10     39.782553\n",
      "         ...    \n",
      "565    37.903723\n",
      "571    38.167419\n",
      "572    37.475218\n",
      "573    37.804837\n",
      "575    39.090353\n",
      "Name: humidity, Length: 388, dtype: float64\n"
     ]
    }
   ],
   "source": [
    "# Perform a linear regression on humidity vs. latitude\n",
    "(slope, intercept, rvalue, pvalue, stderr) = stats.linregress(x_values, y_values)\n",
    "\n",
    "# Get regression values\n",
    "regress_values = x_values * slope + intercept\n",
    "print(regress_values)"
   ]
  },
  {
   "cell_type": "code",
   "execution_count": 526,
   "metadata": {},
   "outputs": [
    {
     "data": {
      "text/plain": [
       "'0.001135'"
      ]
     },
     "execution_count": 526,
     "metadata": {},
     "output_type": "execute_result"
    }
   ],
   "source": [
    "humidity_correlation = str(round(rvalue**2, 6))\n",
    "humidity_correlation"
   ]
  },
  {
   "cell_type": "code",
   "execution_count": 527,
   "metadata": {},
   "outputs": [
    {
     "name": "stdout",
     "output_type": "stream",
     "text": [
      "y = -0.03x +40.71\n"
     ]
    }
   ],
   "source": [
    "# Create line equation string\n",
    "line_eq = \"y = \" + str(round(slope,2)) + \"x +\" + str(round(intercept,2))\n",
    "print(line_eq)"
   ]
  },
  {
   "cell_type": "code",
   "execution_count": 531,
   "metadata": {
    "scrolled": true
   },
   "outputs": [
    {
     "name": "stdout",
     "output_type": "stream",
     "text": [
      "The r-value is: 0.001134715375021215\n"
     ]
    },
    {
     "data": {
      "image/png": "[encoded data removed]",
      "text/plain": [
       "<Figure size 432x288 with 1 Axes>"
      ]
     },
     "metadata": {
      "needs_background": "light"
     },
     "output_type": "display_data"
    }
   ],
   "source": [
    "# Create Plot\n",
    "y_values = northern_lat['latitude']\n",
    "x_values = northern_lat['humidity']\n",
    "plt.scatter(x_values,y_values)\n",
    "plt.plot(x_values,regress_values,\"r-\")\n",
    "\n",
    "# Label plot and annotate the line equation\n",
    "plt.ylabel('Latitude ($^\\circ$N)')\n",
    "plt.xlabel('Percent Humidity')\n",
    "plt.annotate(line_eq, xy=(15,22), xycoords='axes pixels',fontsize=15,color=\"red\")\n",
    "\n",
    "plt.title(\"Northern Hemisphere Percent Humidity vs Latitude\\nr-value is \" +humidity_correlation+ \" (No Correlation)\")\n",
    "plt.savefig(\"output_data/Northern_Hemisphere_Percent_Humidity_vs_Latitude.pdf\")\n",
    "plt.savefig(\"output_data/Northern_Hemisphere_Percent_Humidity_vs_Latitude.png\")\n",
    "\n",
    "# Print r value\n",
    "print(f\"The r-value is: {rvalue**2}\")\n",
    "\n",
    "# Show plot\n",
    "plt.show()"
   ]
  },
  {
   "cell_type": "markdown",
   "metadata": {},
   "source": [
    "### The linear regression shows no correlation between percent humidity amd latitude."
   ]
  },
  {
   "cell_type": "markdown",
   "metadata": {},
   "source": [
    "####  Northern Hemisphere - Cloudiness (%) vs. Latitude Linear Regression"
   ]
  },
  {
   "cell_type": "code",
   "execution_count": 532,
   "metadata": {
    "scrolled": true
   },
   "outputs": [
    {
     "data": {
      "image/png": "[encoded data removed]",
      "text/plain": [
       "<Figure size 432x288 with 1 Axes>"
      ]
     },
     "metadata": {
      "needs_background": "light"
     },
     "output_type": "display_data"
    }
   ],
   "source": [
    "# Create Plot\n",
    "y_values = northern_lat['latitude']\n",
    "x_values = northern_lat['cloudiness']\n",
    "plt.scatter(x_values,y_values)\n",
    "\n",
    "# Label plot and annotate the line equation\n",
    "plt.ylabel('Latitude')\n",
    "plt.xlabel('Percent Cloudy')\n",
    "\n",
    "# Show plot\n",
    "plt.show()"
   ]
  },
  {
   "cell_type": "code",
   "execution_count": 533,
   "metadata": {
    "scrolled": true
   },
   "outputs": [
    {
     "name": "stdout",
     "output_type": "stream",
     "text": [
      "1      38.414990\n",
      "2      38.671723\n",
      "3      38.671723\n",
      "9      38.481244\n",
      "10     38.530934\n",
      "         ...    \n",
      "565    38.671723\n",
      "571    38.009187\n",
      "572    38.414990\n",
      "573    38.671723\n",
      "575    38.381864\n",
      "Name: cloudiness, Length: 388, dtype: float64\n"
     ]
    }
   ],
   "source": [
    "# Perform a linear regression on cloudiness vs. latitude\n",
    "(slope, intercept, rvalue, pvalue, stderr) = stats.linregress(x_values, y_values)\n",
    "\n",
    "# Get regression values\n",
    "regress_values = x_values * slope + intercept\n",
    "print(regress_values)"
   ]
  },
  {
   "cell_type": "code",
   "execution_count": 534,
   "metadata": {},
   "outputs": [
    {
     "data": {
      "text/plain": [
       "'0.000298'"
      ]
     },
     "execution_count": 534,
     "metadata": {},
     "output_type": "execute_result"
    }
   ],
   "source": [
    "cloudiness_correlation = str(round(rvalue**2, 6))\n",
    "cloudiness_correlation"
   ]
  },
  {
   "cell_type": "code",
   "execution_count": 535,
   "metadata": {},
   "outputs": [
    {
     "name": "stdout",
     "output_type": "stream",
     "text": [
      "y = 0.01x +37.84\n"
     ]
    }
   ],
   "source": [
    "# Create line equation string\n",
    "line_eq = \"y = \" + str(round(slope,2)) + \"x +\" + str(round(intercept,2))\n",
    "print(line_eq)"
   ]
  },
  {
   "cell_type": "code",
   "execution_count": 537,
   "metadata": {},
   "outputs": [
    {
     "name": "stdout",
     "output_type": "stream",
     "text": [
      "The r-value is: 0.00029831041565435944\n"
     ]
    },
    {
     "data": {
      "image/png": "[encoded data removed]",
      "text/plain": [
       "<Figure size 432x288 with 1 Axes>"
      ]
     },
     "metadata": {
      "needs_background": "light"
     },
     "output_type": "display_data"
    }
   ],
   "source": [
    "# Create Plot\n",
    "y_values = northern_lat['latitude']\n",
    "x_values = northern_lat['cloudiness']\n",
    "plt.scatter(x_values,y_values)\n",
    "plt.plot(x_values,regress_values,\"r-\")\n",
    "\n",
    "# Label plot and annotate the line equation\n",
    "plt.ylabel('Latitude ($^\\circ$N)')\n",
    "plt.xlabel('Percent Cloudiness')\n",
    "plt.annotate(line_eq,xy=(100,110), xycoords='axes pixels',fontsize=15,color=\"red\")\n",
    "\n",
    "plt.title(\"Northern Hemisphere Percent Cloudiness vs Latitude\\nr-value is \" +cloudiness_correlation+ \" (No Correlation)\")\n",
    "plt.savefig(\"output_data/Northern_Hemisphere_Percent_Cloudiness_vs_Latitude.pdf\")\n",
    "plt.savefig(\"output_data/Northern_Hemisphere_Percent_Cloudiness_vs_Latitude.png\")\n",
    "\n",
    "# Print r value\n",
    "print(f\"The r-value is: {rvalue**2}\")\n",
    "\n",
    "# Show plot\n",
    "plt.show()"
   ]
  },
  {
   "cell_type": "markdown",
   "metadata": {},
   "source": [
    "### There shows no correlation between percent cloudiness and latitude."
   ]
  },
  {
   "cell_type": "markdown",
   "metadata": {},
   "source": [
    "####  Northern Hemisphere - Wind Speed (mph) vs. Latitude Linear Regression"
   ]
  },
  {
   "cell_type": "code",
   "execution_count": 538,
   "metadata": {},
   "outputs": [
    {
     "data": {
      "image/png": "[encoded data removed]",
      "text/plain": [
       "<Figure size 432x288 with 1 Axes>"
      ]
     },
     "metadata": {
      "needs_background": "light"
     },
     "output_type": "display_data"
    }
   ],
   "source": [
    "# Create Plot                                         \n",
    "y_values = northern_lat['latitude']\n",
    "x_values = northern_lat['wind speed']              # variable is wind speed\n",
    "plt.scatter(x_values,y_values)\n",
    "\n",
    "# Label plot and annotate the line equation\n",
    "plt.ylabel('Latitude')\n",
    "plt.xlabel('wind speed')                          # variable is wind speed\n",
    "\n",
    "# Show plot\n",
    "plt.show()"
   ]
  },
  {
   "cell_type": "code",
   "execution_count": 539,
   "metadata": {
    "scrolled": true
   },
   "outputs": [
    {
     "name": "stdout",
     "output_type": "stream",
     "text": [
      "1      38.080701\n",
      "2      38.250852\n",
      "3      38.210015\n",
      "9      38.165776\n",
      "10     38.082062\n",
      "         ...    \n",
      "565    38.158290\n",
      "571    38.485659\n",
      "572    37.827517\n",
      "573    38.084785\n",
      "575    38.185514\n",
      "Name: wind speed, Length: 388, dtype: float64\n"
     ]
    }
   ],
   "source": [
    "# Perform a linear regression on wind speed vs. latitude                          # variable is wind speed\n",
    "(slope, intercept, rvalue, pvalue, stderr) = stats.linregress(x_values, y_values)\n",
    "\n",
    "# Get regression values\n",
    "regress_values = x_values * slope + intercept\n",
    "print(regress_values)"
   ]
  },
  {
   "cell_type": "code",
   "execution_count": 540,
   "metadata": {},
   "outputs": [
    {
     "data": {
      "text/plain": [
       "'0.000327'"
      ]
     },
     "execution_count": 540,
     "metadata": {},
     "output_type": "execute_result"
    }
   ],
   "source": [
    "wind_correlation = str(round(rvalue**2, 6))\n",
    "wind_correlation"
   ]
  },
  {
   "cell_type": "code",
   "execution_count": 541,
   "metadata": {},
   "outputs": [
    {
     "name": "stdout",
     "output_type": "stream",
     "text": [
      "y = 0.07x +37.78\n"
     ]
    }
   ],
   "source": [
    "# Create line equation string\n",
    "line_eq = \"y = \" + str(round(slope,2)) + \"x +\" + str(round(intercept,2))\n",
    "print(line_eq)"
   ]
  },
  {
   "cell_type": "code",
   "execution_count": 543,
   "metadata": {
    "scrolled": true
   },
   "outputs": [
    {
     "name": "stdout",
     "output_type": "stream",
     "text": [
      "The r-value is: 0.00032718942684895264\n"
     ]
    },
    {
     "data": {
      "image/png": "[encoded data removed]",
      "text/plain": [
       "<Figure size 432x288 with 1 Axes>"
      ]
     },
     "metadata": {
      "needs_background": "light"
     },
     "output_type": "display_data"
    }
   ],
   "source": [
    "# Create Plot\n",
    "y_values = northern_lat['latitude']\n",
    "x_values = northern_lat['wind speed']               # variable is wind speed\n",
    "plt.scatter(x_values,y_values)\n",
    "plt.plot(x_values,regress_values,\"r-\")\n",
    "\n",
    "# Label plot and annotate the line equation\n",
    "plt.ylabel('Latitude ($^\\circ$N)')\n",
    "plt.xlabel('Wind Speed (mph)')                            # variable is wind speed\n",
    "plt.annotate(line_eq,xy=(100,200), xycoords='axes pixels',fontsize=15,color=\"red\")\n",
    "\n",
    "plt.title(\"Northern Hemisphere Wind Speed vs Latitude\\nr-value is \" +wind_correlation+ \" (No Correlation)\")\n",
    "plt.savefig(\"output_data/Northern_Hemisphere_Wind-Speed_vs_Latitude.pdf\")\n",
    "plt.savefig(\"output_data/Northern_Hemisphere_Wind-Speed_vs_Latitude.png\")\n",
    "\n",
    "\n",
    "\n",
    "# Print r value\n",
    "print(f\"The r-value is: {rvalue**2}\")\n",
    "\n",
    "# Show plot\n",
    "plt.show()"
   ]
  },
  {
   "cell_type": "markdown",
   "metadata": {},
   "source": [
    "### Linear regression shows no correlation between wind speed and latitude."
   ]
  },
  {
   "cell_type": "markdown",
   "metadata": {},
   "source": [
    "##  Southern Hemisphere - Linear Regressions and Correlations"
   ]
  },
  {
   "cell_type": "code",
   "execution_count": 544,
   "metadata": {
    "scrolled": true
   },
   "outputs": [
    {
     "data": {
      "text/html": [
       "<div>\n",
       "<style scoped>\n",
       "    .dataframe tbody tr th:only-of-type {\n",
       "        vertical-align: middle;\n",
       "    }\n",
       "\n",
       "    .dataframe tbody tr th {\n",
       "        vertical-align: top;\n",
       "    }\n",
       "\n",
       "    .dataframe thead th {\n",
       "        text-align: right;\n",
       "    }\n",
       "</style>\n",
       "<table border=\"1\" class=\"dataframe\">\n",
       "  <thead>\n",
       "    <tr style=\"text-align: right;\">\n",
       "      <th></th>\n",
       "      <th>city</th>\n",
       "      <th>latitude</th>\n",
       "      <th>longitude</th>\n",
       "      <th>Max Temp</th>\n",
       "      <th>humidity</th>\n",
       "      <th>Feels Like</th>\n",
       "      <th>cloudiness</th>\n",
       "      <th>wind speed</th>\n",
       "      <th>country name</th>\n",
       "      <th>date</th>\n",
       "    </tr>\n",
       "  </thead>\n",
       "  <tbody>\n",
       "    <tr>\n",
       "      <th>0</th>\n",
       "      <td>Rikitea</td>\n",
       "      <td>-23.1203</td>\n",
       "      <td>-134.9692</td>\n",
       "      <td>72.84</td>\n",
       "      <td>73</td>\n",
       "      <td>73.26</td>\n",
       "      <td>9</td>\n",
       "      <td>6.44</td>\n",
       "      <td>French Polynesia</td>\n",
       "      <td>2022-08-20 01:05:28-07:00</td>\n",
       "    </tr>\n",
       "    <tr>\n",
       "      <th>4</th>\n",
       "      <td>Souillac</td>\n",
       "      <td>-20.5167</td>\n",
       "      <td>57.5167</td>\n",
       "      <td>70.30</td>\n",
       "      <td>74</td>\n",
       "      <td>70.52</td>\n",
       "      <td>42</td>\n",
       "      <td>14.79</td>\n",
       "      <td>Mauritius</td>\n",
       "      <td>2022-08-20 01:01:46-07:00</td>\n",
       "    </tr>\n",
       "    <tr>\n",
       "      <th>5</th>\n",
       "      <td>Necochea</td>\n",
       "      <td>-38.5473</td>\n",
       "      <td>-58.7368</td>\n",
       "      <td>50.54</td>\n",
       "      <td>62</td>\n",
       "      <td>48.20</td>\n",
       "      <td>0</td>\n",
       "      <td>13.22</td>\n",
       "      <td>Argentina</td>\n",
       "      <td>2022-08-20 01:05:30-07:00</td>\n",
       "    </tr>\n",
       "    <tr>\n",
       "      <th>6</th>\n",
       "      <td>Mar del Plata</td>\n",
       "      <td>-38.0023</td>\n",
       "      <td>-57.5575</td>\n",
       "      <td>53.10</td>\n",
       "      <td>70</td>\n",
       "      <td>50.90</td>\n",
       "      <td>0</td>\n",
       "      <td>9.22</td>\n",
       "      <td>Argentina</td>\n",
       "      <td>2022-08-20 01:05:30-07:00</td>\n",
       "    </tr>\n",
       "    <tr>\n",
       "      <th>7</th>\n",
       "      <td>Vaini</td>\n",
       "      <td>-21.2000</td>\n",
       "      <td>-175.2000</td>\n",
       "      <td>75.36</td>\n",
       "      <td>83</td>\n",
       "      <td>76.50</td>\n",
       "      <td>20</td>\n",
       "      <td>13.80</td>\n",
       "      <td>Tonga</td>\n",
       "      <td>2022-08-20 01:05:30-07:00</td>\n",
       "    </tr>\n",
       "  </tbody>\n",
       "</table>\n",
       "</div>"
      ],
      "text/plain": [
       "            city  latitude  longitude  Max Temp  humidity  Feels Like  \\\n",
       "0        Rikitea  -23.1203  -134.9692     72.84        73       73.26   \n",
       "4       Souillac  -20.5167    57.5167     70.30        74       70.52   \n",
       "5       Necochea  -38.5473   -58.7368     50.54        62       48.20   \n",
       "6  Mar del Plata  -38.0023   -57.5575     53.10        70       50.90   \n",
       "7          Vaini  -21.2000  -175.2000     75.36        83       76.50   \n",
       "\n",
       "   cloudiness  wind speed      country name                      date  \n",
       "0           9        6.44  French Polynesia 2022-08-20 01:05:28-07:00  \n",
       "4          42       14.79         Mauritius 2022-08-20 01:01:46-07:00  \n",
       "5           0       13.22         Argentina 2022-08-20 01:05:30-07:00  \n",
       "6           0        9.22         Argentina 2022-08-20 01:05:30-07:00  \n",
       "7          20       13.80             Tonga 2022-08-20 01:05:30-07:00  "
      ]
     },
     "execution_count": 544,
     "metadata": {},
     "output_type": "execute_result"
    }
   ],
   "source": [
    "southern_lat = city_weather2.loc[city_weather2[\"latitude\"] < 0, :]\n",
    "southern_lat.head()"
   ]
  },
  {
   "cell_type": "markdown",
   "metadata": {},
   "source": [
    "####  Southern Hemisphere - Max Temp vs. Latitude Linear Regression"
   ]
  },
  {
   "cell_type": "code",
   "execution_count": 545,
   "metadata": {},
   "outputs": [
    {
     "data": {
      "image/png": "[encoded data removed]",
      "text/plain": [
       "<Figure size 432x288 with 1 Axes>"
      ]
     },
     "metadata": {
      "needs_background": "light"
     },
     "output_type": "display_data"
    }
   ],
   "source": [
    "y_values = southern_lat['latitude']\n",
    "x_values = southern_lat['Max Temp']\n",
    "plt.scatter(x_values,y_values)\n",
    "plt.ylabel('Latitude')\n",
    "plt.xlabel('Temperature')\n",
    "plt.show()"
   ]
  },
  {
   "cell_type": "code",
   "execution_count": 546,
   "metadata": {
    "scrolled": true
   },
   "outputs": [
    {
     "name": "stdout",
     "output_type": "stream",
     "text": [
      "0     -14.185884\n",
      "4     -16.384411\n",
      "5     -33.487909\n",
      "6     -31.272071\n",
      "7     -12.004669\n",
      "         ...    \n",
      "567   -15.510194\n",
      "568   -49.656600\n",
      "569   -26.182569\n",
      "570   -32.284778\n",
      "574   -13.095277\n",
      "Name: Max Temp, Length: 188, dtype: float64\n"
     ]
    }
   ],
   "source": [
    "# Perform a linear regression on temperature vs. latitude\n",
    "(slope, intercept, rvalue, pvalue, stderr) = stats.linregress(x_values, y_values)\n",
    "\n",
    "# Get regression values\n",
    "regress_values = x_values * slope + intercept\n",
    "print(regress_values)"
   ]
  },
  {
   "cell_type": "code",
   "execution_count": 547,
   "metadata": {},
   "outputs": [
    {
     "data": {
      "text/plain": [
       "'0.599192'"
      ]
     },
     "execution_count": 547,
     "metadata": {},
     "output_type": "execute_result"
    }
   ],
   "source": [
    "max_temp_correlation = str(round(rvalue**2, 6))\n",
    "max_temp_correlation"
   ]
  },
  {
   "cell_type": "code",
   "execution_count": 548,
   "metadata": {},
   "outputs": [
    {
     "name": "stdout",
     "output_type": "stream",
     "text": [
      "y = 0.87x +-77.23\n"
     ]
    }
   ],
   "source": [
    "# Create line equation string\n",
    "line_eq = \"y = \" + str(round(slope,2)) + \"x +\" + str(round(intercept,2))\n",
    "print(line_eq)"
   ]
  },
  {
   "cell_type": "code",
   "execution_count": 550,
   "metadata": {
    "scrolled": true
   },
   "outputs": [
    {
     "name": "stdout",
     "output_type": "stream",
     "text": [
      "The r-value is: 0.59919244877756\n"
     ]
    },
    {
     "data": {
      "image/png": "[encoded data removed]",
      "text/plain": [
       "<Figure size 432x288 with 1 Axes>"
      ]
     },
     "metadata": {
      "needs_background": "light"
     },
     "output_type": "display_data"
    }
   ],
   "source": [
    "# Create Plot\n",
    "y_values = southern_lat['latitude']\n",
    "x_values = southern_lat['Max Temp']\n",
    "plt.scatter(x_values,y_values)\n",
    "plt.plot(x_values,regress_values,\"r-\")\n",
    "\n",
    "line_eq = \"y = \" + str(round(slope,2)) + \"x +\" + str(round(intercept,2))\n",
    "\n",
    "\n",
    "# Label plot and annotate the line equation\n",
    "plt.ylabel('Latitude ($^\\circ$S)')\n",
    "plt.xlabel('MAX Temperature ($^\\circ$F)')\n",
    "plt.annotate(line_eq,xy=(20,170), xycoords='axes pixels',fontsize=15,color=\"red\")\n",
    "\n",
    "plt.title(\"Southern Hemisphere MAX Temperature vs Latitude\\nr-value is \" +max_temp_correlation+ \" (Strong Positive Correlation)\")\n",
    "plt.savefig(\"output_data/Southern_Hemisphere_MAX_Temp_vs_Latitude.pdf\")\n",
    "plt.savefig(\"output_data/Southern_Hemisphere_MAX_Temp_vs_Latitude.png\")\n",
    "\n",
    "# Print r value\n",
    "print(f\"The r-value is: {rvalue**2}\")\n",
    "\n",
    "# Show plot\n",
    "#plt.show()\n",
    "plt.tight_layout()"
   ]
  },
  {
   "cell_type": "markdown",
   "metadata": {},
   "source": [
    "### This shows a strong positive correlation between temperature and latitude.  As the Southern latitude numbers get greater (towards the Equator), the temperature increases."
   ]
  },
  {
   "cell_type": "markdown",
   "metadata": {},
   "source": [
    "####  Southern Hemisphere - Humidity (%) vs. Latitude Linear Regression"
   ]
  },
  {
   "cell_type": "code",
   "execution_count": 551,
   "metadata": {},
   "outputs": [
    {
     "data": {
      "image/png": "[encoded data removed]",
      "text/plain": [
       "<Figure size 432x288 with 1 Axes>"
      ]
     },
     "metadata": {
      "needs_background": "light"
     },
     "output_type": "display_data"
    }
   ],
   "source": [
    "y_values = southern_lat['latitude']\n",
    "x_values = southern_lat['humidity']\n",
    "plt.scatter(x_values,y_values)\n",
    "plt.ylabel('Latitude')\n",
    "plt.xlabel('humidity')\n",
    "plt.show()"
   ]
  },
  {
   "cell_type": "code",
   "execution_count": 552,
   "metadata": {
    "scrolled": true
   },
   "outputs": [
    {
     "name": "stdout",
     "output_type": "stream",
     "text": [
      "0     -20.450174\n",
      "4     -20.423103\n",
      "5     -20.747957\n",
      "6     -20.531387\n",
      "7     -20.179462\n",
      "         ...    \n",
      "567   -20.639672\n",
      "568   -20.558459\n",
      "569   -20.341889\n",
      "570   -20.044107\n",
      "574   -21.370593\n",
      "Name: humidity, Length: 188, dtype: float64\n"
     ]
    }
   ],
   "source": [
    "# Perform a linear regression on humidity vs. latitude\n",
    "(slope, intercept, rvalue, pvalue, stderr) = stats.linregress(x_values, y_values)\n",
    "\n",
    "# Get regression values\n",
    "regress_values = x_values * slope + intercept\n",
    "print(regress_values)"
   ]
  },
  {
   "cell_type": "code",
   "execution_count": 553,
   "metadata": {},
   "outputs": [
    {
     "data": {
      "text/plain": [
       "'0.00112'"
      ]
     },
     "execution_count": 553,
     "metadata": {},
     "output_type": "execute_result"
    }
   ],
   "source": [
    "humidity_correlation = str(round(rvalue**2, 6))\n",
    "humidity_correlation"
   ]
  },
  {
   "cell_type": "code",
   "execution_count": 554,
   "metadata": {},
   "outputs": [
    {
     "name": "stdout",
     "output_type": "stream",
     "text": [
      "y = 0.03x +-22.43\n"
     ]
    }
   ],
   "source": [
    "# Create line equation string\n",
    "line_eq = \"y = \" + str(round(slope,2)) + \"x +\" + str(round(intercept,2))\n",
    "print(line_eq)"
   ]
  },
  {
   "cell_type": "code",
   "execution_count": 556,
   "metadata": {},
   "outputs": [
    {
     "name": "stdout",
     "output_type": "stream",
     "text": [
      "The r-value is: 0.0011202014484467373\n"
     ]
    },
    {
     "data": {
      "image/png": "[encoded data removed]",
      "text/plain": [
       "<Figure size 432x288 with 1 Axes>"
      ]
     },
     "metadata": {
      "needs_background": "light"
     },
     "output_type": "display_data"
    }
   ],
   "source": [
    "# Create Plot\n",
    "y_values = southern_lat['latitude']\n",
    "x_values = southern_lat['humidity']\n",
    "plt.scatter(x_values,y_values)\n",
    "plt.plot(x_values,regress_values,\"r-\")\n",
    "\n",
    "line_eq = \"y = \" + str(round(slope,2)) + \"x +\" + str(round(intercept,2))\n",
    "\n",
    "\n",
    "# Label plot and annotate the line equation\n",
    "plt.ylabel('Latitude ($^\\circ$S)')\n",
    "plt.xlabel('Percent Humidity')\n",
    "plt.annotate(line_eq,xy=(20,60), xycoords='axes pixels',fontsize=15,color=\"red\")\n",
    "\n",
    "plt.title(\"Southern Hemisphere Percent Humidity vs Latitude\\nr-value is \" +humidity_correlation+ \" (No Correlation)\")\n",
    "plt.savefig(\"output_data/Southern_Hemisphere_Percent_Humidity_vs_Latitude.pdf\")\n",
    "plt.savefig(\"output_data/Southern_Hemisphere_Percent_Humidity_vs_Latitude.png\")\n",
    "\n",
    "# Print r value\n",
    "print(f\"The r-value is: {rvalue**2}\")\n",
    "\n",
    "# Show plot\n",
    "#plt.show()\n",
    "plt.tight_layout()"
   ]
  },
  {
   "cell_type": "markdown",
   "metadata": {},
   "source": [
    "### There is no correlation shown between percent humidity and latitude for the Southern Hemisphere."
   ]
  },
  {
   "cell_type": "markdown",
   "metadata": {},
   "source": [
    "####  Southern Hemisphere - Cloudiness (%) vs. Latitude Linear Regression"
   ]
  },
  {
   "cell_type": "code",
   "execution_count": 557,
   "metadata": {},
   "outputs": [
    {
     "data": {
      "image/png": "[encoded data removed]",
      "text/plain": [
       "<Figure size 432x288 with 1 Axes>"
      ]
     },
     "metadata": {
      "needs_background": "light"
     },
     "output_type": "display_data"
    }
   ],
   "source": [
    "y_values = southern_lat['latitude']\n",
    "x_values = southern_lat['cloudiness']\n",
    "plt.scatter(x_values,y_values)\n",
    "plt.ylabel('Latitude')\n",
    "plt.xlabel('cloudiness')\n",
    "plt.show()"
   ]
  },
  {
   "cell_type": "code",
   "execution_count": 558,
   "metadata": {},
   "outputs": [
    {
     "name": "stdout",
     "output_type": "stream",
     "text": [
      "0     -21.598097\n",
      "4     -20.616691\n",
      "5     -21.865753\n",
      "6     -21.865753\n",
      "7     -21.270961\n",
      "         ...    \n",
      "567   -20.497732\n",
      "568   -21.865753\n",
      "569   -18.891794\n",
      "570   -19.635284\n",
      "574   -21.865753\n",
      "Name: cloudiness, Length: 188, dtype: float64\n"
     ]
    }
   ],
   "source": [
    "# Perform a linear regression on humidity vs. latitude\n",
    "(slope, intercept, rvalue, pvalue, stderr) = stats.linregress(x_values, y_values)\n",
    "\n",
    "# Get regression values\n",
    "regress_values = x_values * slope + intercept\n",
    "print(regress_values)"
   ]
  },
  {
   "cell_type": "code",
   "execution_count": 559,
   "metadata": {},
   "outputs": [
    {
     "data": {
      "text/plain": [
       "'0.006852'"
      ]
     },
     "execution_count": 559,
     "metadata": {},
     "output_type": "execute_result"
    }
   ],
   "source": [
    "cloudiness_correlation = str(round(rvalue**2, 6))\n",
    "cloudiness_correlation"
   ]
  },
  {
   "cell_type": "code",
   "execution_count": 560,
   "metadata": {},
   "outputs": [
    {
     "name": "stdout",
     "output_type": "stream",
     "text": [
      "y = 0.03x +-21.87\n"
     ]
    }
   ],
   "source": [
    "# Create line equation string\n",
    "line_eq = \"y = \" + str(round(slope,2)) + \"x +\" + str(round(intercept,2))\n",
    "print(line_eq)"
   ]
  },
  {
   "cell_type": "code",
   "execution_count": 563,
   "metadata": {},
   "outputs": [
    {
     "name": "stdout",
     "output_type": "stream",
     "text": [
      "The r-value is: 0.006851769954673039\n"
     ]
    },
    {
     "data": {
      "image/png": "[encoded data removed]",
      "text/plain": [
       "<Figure size 432x288 with 1 Axes>"
      ]
     },
     "metadata": {
      "needs_background": "light"
     },
     "output_type": "display_data"
    }
   ],
   "source": [
    "# Create Plot\n",
    "y_values = southern_lat['latitude']\n",
    "x_values = southern_lat['cloudiness']\n",
    "plt.scatter(x_values,y_values)\n",
    "plt.plot(x_values,regress_values,\"r-\")\n",
    "\n",
    "line_eq = \"y = \" + str(round(slope,2)) + \"x +\" + str(round(intercept,2))\n",
    "\n",
    "\n",
    "# Label plot and annotate the line equation\n",
    "plt.ylabel('Latitude ($^\\circ$S)')\n",
    "plt.xlabel('Percent Cloudiness')\n",
    "plt.annotate(line_eq,xy=(130,100), xycoords='axes pixels', fontsize=15,color=\"red\")\n",
    "\n",
    "plt.title(\"Southern Hemisphere Percent Cloudiness vs Latitude\\nr-value is \" +cloudiness_correlation+ \" (No Correlation)\")\n",
    "plt.savefig(\"output_data/Southern_Hemisphere_Percent_Cloudiness_vs_Latitude.pdf\")\n",
    "plt.savefig(\"output_data/Southern_Hemisphere_Percent_Cloudiness_vs_Latitude.png\")\n",
    "\n",
    "# Print r value\n",
    "print(f\"The r-value is: {rvalue**2}\")\n",
    "\n",
    "# Show plot\n",
    "plt.show()\n",
    "#plt.tight_layout()"
   ]
  },
  {
   "cell_type": "markdown",
   "metadata": {},
   "source": [
    "### There is no correlation between percent cloudiness and latitude for the Southern Hemisphere."
   ]
  },
  {
   "cell_type": "markdown",
   "metadata": {},
   "source": [
    "####  Southern Hemisphere - Wind Speed (mph) vs. Latitude Linear Regression"
   ]
  },
  {
   "cell_type": "code",
   "execution_count": 564,
   "metadata": {},
   "outputs": [
    {
     "data": {
      "image/png": "[encoded data removed]",
      "text/plain": [
       "<Figure size 432x288 with 1 Axes>"
      ]
     },
     "metadata": {
      "needs_background": "light"
     },
     "output_type": "display_data"
    }
   ],
   "source": [
    "y_values = southern_lat['latitude']\n",
    "x_values = southern_lat['wind speed']\n",
    "plt.scatter(x_values,y_values)\n",
    "plt.ylabel('Latitude')\n",
    "plt.xlabel('wind speed')\n",
    "plt.show()"
   ]
  },
  {
   "cell_type": "code",
   "execution_count": 565,
   "metadata": {},
   "outputs": [
    {
     "name": "stdout",
     "output_type": "stream",
     "text": [
      "0     -20.034029\n",
      "4     -21.775018\n",
      "5     -21.447670\n",
      "6     -20.613663\n",
      "7     -21.568601\n",
      "         ...    \n",
      "567   -19.923523\n",
      "568   -19.946458\n",
      "569   -20.150789\n",
      "570   -20.490647\n",
      "574   -19.366823\n",
      "Name: wind speed, Length: 188, dtype: float64\n"
     ]
    }
   ],
   "source": [
    "# Perform a linear regression on humidity vs. latitude\n",
    "(slope, intercept, rvalue, pvalue, stderr) = stats.linregress(x_values, y_values)\n",
    "\n",
    "# Get regression values\n",
    "regress_values = x_values * slope + intercept\n",
    "print(regress_values)"
   ]
  },
  {
   "cell_type": "code",
   "execution_count": 566,
   "metadata": {},
   "outputs": [
    {
     "data": {
      "text/plain": [
       "'0.007717'"
      ]
     },
     "execution_count": 566,
     "metadata": {},
     "output_type": "execute_result"
    }
   ],
   "source": [
    "wind_correlation = str(round(rvalue**2, 6))\n",
    "wind_correlation"
   ]
  },
  {
   "cell_type": "code",
   "execution_count": 567,
   "metadata": {},
   "outputs": [
    {
     "name": "stdout",
     "output_type": "stream",
     "text": [
      "y = -0.21x +-18.69\n"
     ]
    }
   ],
   "source": [
    "# Create line equation string\n",
    "line_eq = \"y = \" + str(round(slope,2)) + \"x +\" + str(round(intercept,2))\n",
    "print(line_eq)"
   ]
  },
  {
   "cell_type": "code",
   "execution_count": 569,
   "metadata": {},
   "outputs": [
    {
     "name": "stdout",
     "output_type": "stream",
     "text": [
      "The r-value is: 0.00771720386807741\n"
     ]
    },
    {
     "data": {
      "image/png": "[encoded data removed]",
      "text/plain": [
       "<Figure size 432x288 with 1 Axes>"
      ]
     },
     "metadata": {
      "needs_background": "light"
     },
     "output_type": "display_data"
    }
   ],
   "source": [
    "# Create Plot\n",
    "y_values = southern_lat['latitude']\n",
    "x_values = southern_lat['wind speed']\n",
    "plt.scatter(x_values,y_values)\n",
    "plt.plot(x_values,regress_values,\"r-\")\n",
    "\n",
    "line_eq = \"y = \" + str(round(slope,2)) + \"x +\" + str(round(intercept,2))\n",
    "\n",
    "\n",
    "# Label plot and annotate the line equation\n",
    "plt.ylabel('Latitude ($^\\circ$S)')\n",
    "plt.xlabel('Wind Speed (mph)')\n",
    "plt.annotate(line_eq,xy=(160,100), xycoords='axes pixels',fontsize=15,color=\"red\")#,\n",
    "#            arrowprops=dict(facecolor='red', shrink=0.05))\n",
    "\n",
    "# plt.title(\"Southern Hemisphere Wind Speed vs Latitude\\nr-value is \" + str(round(rvalue**2, 6)) + \" (Weak Correlation)\")\n",
    "plt.title(\"Southern Hemisphere Wind Speed vs Latitude\\nr-value is \" +wind_correlation+ \" (No Correlation)\")\n",
    "plt.savefig(\"output_data/Southern_Hemisphere_Wind-Speed_vs_Latitude.pdf\")\n",
    "plt.savefig(\"output_data/Southern_Hemisphere_Wind-Speed_vs_Latitude.png\")\n",
    "\n",
    "# Print r value\n",
    "print(f\"The r-value is: {rvalue**2}\")\n",
    "\n",
    "\n",
    "\n",
    "# Show plot\n",
    "plt.show()\n",
    "#plt.tight_layout()"
   ]
  },
  {
   "cell_type": "markdown",
   "metadata": {},
   "source": [
    "### The linear regression shows no correlation between wind speed and latitude."
   ]
  },
  {
   "cell_type": "code",
   "execution_count": null,
   "metadata": {},
   "outputs": [],
   "source": []
  }
 ],
 "metadata": {
  "anaconda-cloud": {},
  "kernel_info": {
   "name": "python3"
  },
  "kernelspec": {
   "display_name": "Python 3 (ipykernel)",
   "language": "python",
   "name": "python3"
  },
  "language_info": {
   "codemirror_mode": {
    "name": "ipython",
    "version": 3
   },
   "file_extension": ".py",
   "mimetype": "text/x-python",
   "name": "python",
   "nbconvert_exporter": "python",
   "pygments_lexer": "ipython3",
   "version": "3.9.7"
  },
  "latex_envs": {
   "LaTeX_envs_menu_present": true,
   "autoclose": false,
   "autocomplete": true,
   "bibliofile": "biblio.bib",
   "cite_by": "apalike",
   "current_citInitial": 1,
   "eqLabelWithNumbers": true,
   "eqNumInitial": 1,
   "hotkeys": {
    "equation": "Ctrl-E",
    "itemize": "Ctrl-I"
   },
   "labels_anchors": false,
   "latex_user_defs": false,
   "report_style_numbering": false,
   "user_envs_cfg": false
  },
  "nteract": {
   "version": "0.12.3"
  }
 },
 "nbformat": 4,
 "nbformat_minor": 2
}
